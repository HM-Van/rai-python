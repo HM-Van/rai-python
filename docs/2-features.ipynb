{
 "cells": [
  {
   "cell_type": "markdown",
   "metadata": {},
   "source": [
    "# Features and Objectives\n",
    "\n",
    "This doc is mostly text, explaining the general concept of features, listing the ones defined in rai, and explaining how they define objectives for optimization.\n",
    "\n",
    "At the bottom there are also examples on the collision features."
   ]
  },
  {
   "cell_type": "markdown",
   "metadata": {},
   "source": [
    "## Features\n",
    "\n",
    "We assume a single configuration $x$, or a whole set of configurations\n",
    "$\\{x_1,..,x_T\\}$. Each $x_i \\in\\mathbb{R}$ are the DOFs of that\n",
    "configuration.\n",
    "\n",
    "A feature $\\phi$ is a differentiable mapping\n",
    "$$\\phi: x \\mapsto \\mathbb{R}^D$$\n",
    "of a single configuration into some $D$-dimensional space, or a mapping\n",
    "$$\\phi: (x_0,x_2,..,x_k) \\mapsto \\mathbb{R}^D$$\n",
    "of a $(k+1)$-tuple of configurations to a $D$-dimensional space.\n",
    "\n",
    "The rai code implements many features, most of them are accessible via\n",
    "a feature symbol (FS). They are declared in\n",
    "https://github.com/MarcToussaint/rai/blob/master/rai/Kin/featureSymbols.h\n",
    "\n",
    "Here is a table of feature symbols, with the\n",
    "respective dimensionality $D$, the default order $k$, and a\n",
    "description\n",
    "\n",
    "| FS | frames | $D$ | $k$ | description |\n",
    "|:---:|:---:|:---:|:---:|:---:|\n",
    "| position | {o1} | 3 || 3D position of o1 in world coordinates |\n",
    "| positionDiff | {o1,o2} | 3 || difference of 3D positions of o1 and o2 in world coordinates |\n",
    "| positionRel | {o1,o2} | 3 || 3D position of o1 in o2 coordinates |\n",
    "| quaternion | {o1} | 4 || 4D quaternion of o1 in world coordinates\\footnote{There is ways to handle the invariance w.r.t.\\ quaternion sign properly.} |\n",
    "| quaternionDiff | {o1,o2} | 4 || ... |\n",
    "| quaternionRel | {o1,o2} | 4 || ... |\n",
    "| pose | {o1} | 7 || 7D pose of o1 in world coordinates |\n",
    "| poseDiff | {o1,o2} | 7 || ... |\n",
    "| poseRel | {o1,o2} | 7 || ... |\n",
    "| vectorX | {o1} | 3 || The x-axis of frame o1 rotated back to world coordinates |\n",
    "| vectorXDiff | {o1,o2} | 3 || The difference of the above for two frames o1 and o2 |\n",
    "| vectorXRel | {o1,o2} | 3 || The x-axis of frame o1 rotated as to be seend from the frame o2 |\n",
    "| vectorY... | | | | same as above |\n",
    "| scalarProductXX | {o1,o2} | 1 || The scalar product of the x-axis fo frame o1 with the x-axis of frame o2 |\n",
    "| scalarProduct... | {o1,o2} | | | as above |\n",
    "| gazeAt | {o1,o2} | 2 | | The 2D projection of the origin of frame o2 onto the xy-plane of frame o1 |\n",
    "| angularVel | {o1} | 3 | 1 | The angular velocity of frame o1 across two configurations |\n",
    "| accumulatedCollisions | {} | 1 | | The sum of collision penetrations; when negative/zero, nothing is colliding |\n",
    "| jointLimits | {} | 1 | | The sum of joint limit penetrations; when negative/zero, all joint limits are ok |\n",
    "| distance | {o1,o1} | 1 | | The NEGATIVE distance between convex meshes o1 and o2, positive for penetration |\n",
    "| qItself | {} | $n$ | | The configuration joint vector |\n",
    "| aboveBox | {o1,o2} | 4 | | when all negative, o1 is above (inside support of) the box o2 |\n",
    "| insideBox | {o1,o2} | 6 | | when all negative, o1 is inside the box o2 |\n",
    "| standingAbove | | | | ? |\n",
    "\n",
    "A features is typically defined by\n",
    "* The feature symbol (`FS_...` in cpp; `FS....` in python)\n",
    "* The set of frames it refers to\n",
    "* Optionally: A target, which changes the zero-point of the features (optimization typically try to drive features to zero, see below)\n",
    "* Optionally: A scaling, that can also be a matrix to down-project a feature\n",
    "* Optionally: The order $k$, which can make the feature a velocity or acceleration feature\n",
    "\n",
    "Target and scale redefine a feature to become\n",
    "$$\n",
    "  \\phi(x) \\gets \\texttt{scale} \\cdot (\\phi(x) - \\texttt{target})\n",
    "$$\n",
    "The target needs to be a $D$-dim vector. The scale can be a matrix, which projects features; e.g., and 3D position to just $x$-position.\n",
    "\n",
    "The order of a feature is usually $k=0$, meaning that it is defined over a single configuration only. $k=1$ means that it is defined over two configurations (1st oder Markov), and redefines the feature to become the difference or velocity\n",
    "$$\n",
    "  \\phi(x_1,x_2) \\gets \\frac{1}{\\tau}(\\phi(x_2) - \\phi(x_1))\n",
    "$$\n",
    "$k=2$ means that it is defined over three configurations (2nd order Markov), and redefines the feature to become the acceleration\n",
    "$$\n",
    "  \\phi(x_1,x_2,x_3) \\equiv \\frac{1}{\\tau^2}(\\phi(x_1) + \\phi(x_3) - 2 \\phi(x_2))\n",
    "$$"
   ]
  },
  {
   "cell_type": "markdown",
   "metadata": {},
   "source": [
    "### Examples\n",
    "\n",
    "```\n",
    "(FS.position, {'hand'})\n",
    "```\n",
    "is the 3D position of the hand in world coordinates\n",
    "\n",
    "```\n",
    "(FS.positionRel, {'handL', 'handR'}, scale=[[0,0,1]], target=[0.1])\n",
    "```\n",
    "is the z-position position of the left hand measured in the frame of the right hand, with target 10centimeters.\n",
    "\n",
    "```\n",
    "(FS.position, {'handL'}, order=1)\n",
    "```\n",
    "is the 3D velocity of the left hand in world coordinates\n",
    "\n",
    "```\n",
    "(FS.scalarProductXX, {'handL', 'handR'}, target=[1])\n",
    "```\n",
    "says that the scalar product of the x-axes (e.g. directions of the index finger) of both hands should equal 1, which means they are aligned.\n",
    "\n",
    "```\n",
    "(FS.scalarProductXY, {'handL', 'handR'})\n",
    "(FS.scalarProductXZ, {'handL', 'handR'})\n",
    "```\n",
    "says that the the x-axis of handL should be orthogonal (zero scalar product) to the y- and z-axis of handR. So this also describes aligning both z-axes. However, this formulation is much more robust, as it has good error gradients around the optimum."
   ]
  },
  {
   "cell_type": "markdown",
   "metadata": {},
   "source": [
    "## Objectives\n",
    "\n",
    "Features are meant to define objectives in an optimization problem. An objective is\n",
    "* a feature\n",
    "* an indicator $\\rho_k\n",
    "\\in\\{\\texttt{ineq, eq, sos}\\}$ that states whether the features\n",
    "implies an inequality, an equality, or a sum-of-square objective\n",
    "* and an index tuple $\\pi_k \\subseteq \\{1,..,n\\}$ that states which\n",
    "configurations this feature is defined over.\n",
    "\n",
    "Then, given a set\n",
    "$\\{\\phi_1,..,\\phi_K\\}$ of $K$ features, and a set $\\{x_1,..,x_n\\}$ of\n",
    "$n$ configurations, this defines the mathematical program\n",
    "\n",
    "\\begin{align}\n",
    "  \\min_{x_1,..,x_n} \\sum_{k : \\rho_k=\\texttt{sos}} \\phi_k(x_{\\pi_k})^T \\phi_k(x_{\\pi_k})\n",
    "  ~\\text{s.t.}~ \\mathop\\forall_{k : \\rho_k=\\texttt{ineq}} \\phi_k(x_{\\pi_k}) \\le 0 ~,\\quad\n",
    "  \\mathop\\forall_{k : \\rho_k=\\texttt{eq}} \\phi_k(x_{\\pi_k}) = 0 ~,\\quad\n",
    "\\end{align}"
   ]
  },
  {
   "cell_type": "markdown",
   "metadata": {},
   "source": [
    "## Code example for collision features\n",
    "\n",
    "* Get list of collisions and proximities for the whole configuration\n",
    "* Get a accumulative, differentiable collision measure\n",
    "* Get proximity/penetration specifically for a pair of shapes\n",
    "* Other geometric collision features for a pair of shapes (witness points, normal, etc) -- all differentiable"
   ]
  },
  {
   "cell_type": "code",
   "execution_count": 1,
   "metadata": {},
   "outputs": [],
   "source": [
    "import sys\n",
<<<<<<< HEAD
    "sys.path.append('../ry')\n",
    "from libry import *\n",
    "from numpy import *\n",
    "\n",
    "K = Config()\n",
    "K.addFile('../rai-robotModels/pr2/pr2.g');\n",
    "K.addFile('../test/kitchen.g');\n",
    "\n",
    "D = K.view()"
=======
    "sys.path.append('../rai/lib')\n",
    "import numpy as np\n",
    "import libry as ry\n",
    "\n",
    "C = ry.Config()\n",
    "C.addFile('../rai-robotModels/pr2/pr2.g');\n",
    "C.addFile('../test/kitchen.g');\n",
    "\n",
    "D = C.view()"
>>>>>>> upstream/master
   ]
  },
  {
   "cell_type": "markdown",
   "metadata": {},
   "source": [
    "Let's evaluate the accumulative collisition scalar and its Jacobian"
   ]
  },
  {
   "cell_type": "code",
   "execution_count": 2,
   "metadata": {},
   "outputs": [
    {
     "data": {
      "text/plain": [
       "(array([ 0.]),\n",
       " array([[ 0.,  0.,  0.,  0.,  0.,  0.,  0.,  0.,  0.,  0.,  0.,  0.,  0.,\n",
       "          0.,  0.,  0.,  0.,  0.,  0.,  0.,  0.,  0.,  0.,  0.,  0.]]))"
      ]
     },
     "execution_count": 2,
     "metadata": {},
     "output_type": "execute_result"
    }
   ],
   "source": [
<<<<<<< HEAD
    "coll = K.feature(FS.accumulatedCollisions, [])\n",
    "\n",
    "K.computeCollisions() #collisions/proxies are not automatically computed on set...State\n",
    "coll.eval(K)"
=======
    "coll = C.feature(ry.FS.accumulatedCollisions, [])\n",
    "\n",
    "C.computeCollisions() #collisions/proxies are not automatically computed on set...State\n",
    "coll.eval(C)"
>>>>>>> upstream/master
   ]
  },
  {
   "cell_type": "markdown",
   "metadata": {},
   "source": [
    "Let's move into collision and redo this"
   ]
  },
  {
   "cell_type": "code",
   "execution_count": 3,
   "metadata": {},
   "outputs": [
    {
     "data": {
      "text/plain": [
       "(array([ 0.27844361]), array([[ 1.00000034, -0.99999938,  0.33546933]]))"
      ]
     },
     "execution_count": 3,
     "metadata": {},
     "output_type": "execute_result"
    }
   ],
   "source": [
<<<<<<< HEAD
    "K.selectJointsByTag([\"base\"])\n",
    "K.setJointState([1.5,1,0])\n",
    "\n",
    "K.computeCollisions()\n",
    "coll.eval(K)"
=======
    "C.selectJointsByTag([\"base\"])\n",
    "C.setJointState([1.5,1,0])\n",
    "\n",
    "C.computeCollisions()\n",
    "coll.eval(C)"
>>>>>>> upstream/master
   ]
  },
  {
   "cell_type": "markdown",
   "metadata": {},
   "source": [
    "We can get more verbose information like this:"
   ]
  },
  {
   "cell_type": "code",
   "execution_count": 4,
   "metadata": {},
   "outputs": [
    {
     "data": {
      "text/plain": [
<<<<<<< HEAD
       "[('coll_base', 'coll_wrist_r', 0.39250627583273473),\n",
       " ('coll_torso', 'coll_wrist_r', 0.19631144899172598),\n",
       " ('coll_base', 'coll_hand_r', 0.5474697872002741),\n",
       " ('coll_torso', 'coll_hand_r', 0.29232400450145213),\n",
       " ('coll_arm_r', 'coll_hand_r', 0.23014328920243146),\n",
       " ('coll_arm_r', 'coll_arm_l', 0.4127304522050116),\n",
       " ('coll_wrist_r', 'coll_arm_l', 0.6248883964798945),\n",
       " ('coll_hand_r', 'coll_arm_l', 0.5658204835641057),\n",
       " ('coll_base', 'coll_wrist_l', 0.3925062758327346),\n",
       " ('coll_torso', 'coll_wrist_l', 0.19631144899172565),\n",
       " ('coll_arm_r', 'coll_wrist_l', 0.6248883964798946),\n",
       " ('coll_wrist_r', 'coll_wrist_l', 0.6759624911176345),\n",
       " ('coll_hand_r', 'coll_wrist_l', 0.5358808474603112),\n",
       " ('coll_base', 'coll_hand_l', 0.5474697872002738),\n",
       " ('coll_torso', 'coll_hand_l', 0.29232400450145224),\n",
       " ('coll_arm_r', 'coll_hand_l', 0.565820483564106),\n",
       " ('coll_wrist_r', 'coll_hand_l', 0.5358808474603113),\n",
       " ('coll_hand_r', 'coll_hand_l', 0.3769542887097015),\n",
       " ('coll_arm_l', 'coll_hand_l', 0.23014328920243124),\n",
       " ('coll_base', '_10', -0.10150029141316007),\n",
       " ('coll_torso', '_10', 0.1001713012708348),\n",
       " ('coll_arm_r', '_10', -0.09695750113464226),\n",
       " ('coll_wrist_r', '_10', -0.07998581684013888),\n",
       " ('coll_hand_r', '_10', 0.11576284256779827),\n",
       " ('coll_arm_l', '_10', 0.49239212452535563),\n",
       " ('coll_wrist_l', '_10', 0.6015810927897349),\n",
       " ('coll_hand_l', '_10', 0.4679207026993327),\n",
       " ('coll_base', '_13', 0.5405382386916237),\n",
       " ('coll_torso', '_13', 0.5370123646422842),\n",
       " ('coll_arm_l', '_13', 0.7330746918078425),\n",
       " ('coll_wrist_l', '_13', 0.9063954367161666),\n",
       " ('_12', '_13', 0.4)]"
=======
       "[('coll_base', '_10', -0.10150029141316007),\n",
       " ('coll_arm_r', '_10', -0.09695750113464226),\n",
       " ('coll_wrist_r', '_10', -0.07998581684013888)]"
>>>>>>> upstream/master
      ]
     },
     "execution_count": 4,
     "metadata": {},
     "output_type": "execute_result"
    }
   ],
   "source": [
<<<<<<< HEAD
    "K.getCollisions()"
=======
    "C.getCollisions()"
>>>>>>> upstream/master
   ]
  },
  {
   "cell_type": "code",
   "execution_count": 5,
   "metadata": {},
   "outputs": [
    {
     "data": {
      "text/plain": [
       "[('coll_base', '_10', -0.10150029141316007),\n",
       " ('coll_arm_r', '_10', -0.09695750113464226),\n",
       " ('coll_wrist_r', '_10', -0.07998581684013888)]"
      ]
     },
     "execution_count": 5,
     "metadata": {},
     "output_type": "execute_result"
    }
   ],
   "source": [
<<<<<<< HEAD
    "K.getCollisions(0) #only report proxies with distance<0 (penetrations)"
=======
    "C.getCollisions(0) #only report proxies with distance<0 (penetrations)"
>>>>>>> upstream/master
   ]
  },
  {
   "cell_type": "markdown",
   "metadata": {},
   "source": [
    "The computeCollisions() method calls a collision detection engine (SWIFT++) for the whole configuration, checking all shapes that are collision-activated. The activation/deactivation of collision computations is a nuissance! the 'contact' flag in g-files specifies which shapes are activated by default, and if the value is negative, that collisions with parent shapes are not included. (In the KOMO class, you can use activateCollisionPairs and deactivateCollisionPairs to modify these defaults in optimization problems... TODO: also in Config)\n",
    "\n",
    "When you're interested in the distance or penetration of one specific pair of objects, you don't need to call computeCollisions() and instead query a feature that calls the GJK (and others) algorithm directly only for this pair:"
   ]
  },
  {
   "cell_type": "code",
   "execution_count": 6,
   "metadata": {},
   "outputs": [
    {
     "data": {
      "text/plain": [
<<<<<<< HEAD
       "(array([ 0.07998582]),\n",
       " array([[  3.13110205e-11,  -7.82775514e-12,   1.38949082e-11]]))"
=======
       "(array(0.3354693309878761), array(0.0))"
>>>>>>> upstream/master
      ]
     },
     "execution_count": 6,
     "metadata": {},
     "output_type": "execute_result"
    }
   ],
   "source": [
<<<<<<< HEAD
    "dist = K.feature(FS.distance, ['coll_wrist_r', '_10'])\n",
    "dist.eval(K)"
=======
    "dist = C.feature(ry.FS.distance, ['coll_wrist_r', '_10'])\n",
    "dist.eval(C)"
>>>>>>> upstream/master
   ]
  },
  {
   "cell_type": "markdown",
   "metadata": {},
   "source": [
    "Note that this returns the NEGATIVE distance (because one typically wants to put an inequality (<=0) on this). The C++ code implements many more features of the collision geometry, including the normal, witness points, etc. Can be added to python easily on request."
   ]
  }
 ],
 "metadata": {
  "kernelspec": {
   "display_name": "Python 3",
   "language": "python",
   "name": "python3"
  },
  "language_info": {
   "codemirror_mode": {
    "name": "ipython",
    "version": 3
   },
   "file_extension": ".py",
   "mimetype": "text/x-python",
   "name": "python",
   "nbconvert_exporter": "python",
   "pygments_lexer": "ipython3",
<<<<<<< HEAD
   "version": "3.5.2"
=======
   "version": "3.6.9"
>>>>>>> upstream/master
  }
 },
 "nbformat": 4,
 "nbformat_minor": 2
}
