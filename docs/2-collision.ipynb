{
 "cells": [
  {
   "cell_type": "markdown",
   "metadata": {},
   "source": [
    "# Tutorial 2\n",
    "## Collision features\n",
    "\n",
    "* Get list of collisions and proximities for the whole configuration\n",
    "* Get a accumulative, differentiable collision measure\n",
    "* Get proximity/penetration specifically for a pair of shapes\n",
    "* Other geometric collision features for a pair of shapes (witness points, normal, etc) -- all differentiable"
   ]
  },
  {
   "cell_type": "markdown",
   "metadata": {},
   "source": [
    "Let's load a configuration first"
   ]
  },
  {
   "cell_type": "code",
   "execution_count": 1,
   "metadata": {},
   "outputs": [],
   "source": [
    "import sys\n",
    "sys.path.append('../ry')\n",
    "from libry import *\n",
    "from numpy import *\n",
    "\n",
    "K = Config()\n",
    "K.addFile('../rai-robotModels/pr2/pr2.g');\n",
    "K.addFile('../test/kitchen.g');\n",
    "\n",
    "D = K.view()"
   ]
  },
  {
   "cell_type": "code",
   "execution_count": 2,
   "metadata": {},
   "outputs": [],
   "source": [
    "coll = K.feature(FS.accumulatedCollisions, [])"
   ]
  },
  {
   "cell_type": "code",
   "execution_count": 3,
   "metadata": {},
   "outputs": [
    {
     "data": {
      "text/plain": [
       "(array([ 0.]),\n",
       " array([[ 0.,  0.,  0.,  0.,  0.,  0.,  0.,  0.,  0.,  0.,  0.,  0.,  0.,\n",
       "          0.,  0.,  0.,  0.,  0.,  0.,  0.,  0.,  0.,  0.,  0.,  0.]]))"
      ]
     },
     "execution_count": 3,
     "metadata": {},
     "output_type": "execute_result"
    }
   ],
   "source": [
    "coll.eval(K)"
   ]
  },
  {
   "cell_type": "markdown",
   "metadata": {},
   "source": [
    "Let's move into collision"
   ]
  },
  {
   "cell_type": "code",
   "execution_count": 4,
   "metadata": {},
   "outputs": [],
   "source": [
    "K.selectJointsByTag([\"base\"])\n",
    "K.setJointState([1.5,1,0])"
   ]
  },
  {
   "cell_type": "code",
   "execution_count": 5,
   "metadata": {},
   "outputs": [],
   "source": [
    "K.computeCollisions()"
   ]
  },
  {
   "cell_type": "code",
   "execution_count": 6,
   "metadata": {},
   "outputs": [
    {
     "data": {
      "text/plain": [
       "[('coll_base', 'coll_wrist_r', 0.39250627583273473),\n",
       " ('coll_torso', 'coll_wrist_r', 0.19631144899172598),\n",
       " ('coll_base', 'coll_hand_r', 0.5474697872002741),\n",
       " ('coll_torso', 'coll_hand_r', 0.29232400450145213),\n",
       " ('coll_arm_r', 'coll_hand_r', 0.23014328920243146),\n",
       " ('coll_arm_r', 'coll_arm_l', 0.4127304522050116),\n",
       " ('coll_wrist_r', 'coll_arm_l', 0.6248883964798945),\n",
       " ('coll_hand_r', 'coll_arm_l', 0.5658204835641057),\n",
       " ('coll_base', 'coll_wrist_l', 0.3925062758327346),\n",
       " ('coll_torso', 'coll_wrist_l', 0.19631144899172565),\n",
       " ('coll_arm_r', 'coll_wrist_l', 0.6248883964798946),\n",
       " ('coll_wrist_r', 'coll_wrist_l', 0.6759624911176345),\n",
       " ('coll_hand_r', 'coll_wrist_l', 0.5358808474603112),\n",
       " ('coll_base', 'coll_hand_l', 0.5474697872002738),\n",
       " ('coll_torso', 'coll_hand_l', 0.29232400450145224),\n",
       " ('coll_arm_r', 'coll_hand_l', 0.565820483564106),\n",
       " ('coll_wrist_r', 'coll_hand_l', 0.5358808474603113),\n",
       " ('coll_hand_r', 'coll_hand_l', 0.3769542887097015),\n",
       " ('coll_arm_l', 'coll_hand_l', 0.23014328920243124),\n",
       " ('coll_base', '_10', -0.10150029141316007),\n",
       " ('coll_torso', '_10', 0.1001713012708348),\n",
       " ('coll_arm_r', '_10', -0.09695750113464226),\n",
       " ('coll_wrist_r', '_10', -0.07998581684013888),\n",
       " ('coll_hand_r', '_10', 0.11576284256779827),\n",
       " ('coll_arm_l', '_10', 0.49239212452535563),\n",
       " ('coll_wrist_l', '_10', 0.6015810927897349),\n",
       " ('coll_hand_l', '_10', 0.4679207026993327),\n",
       " ('coll_base', '_13', 0.5405382386916237),\n",
       " ('coll_torso', '_13', 0.5370123646422842),\n",
       " ('coll_arm_l', '_13', 0.7330746918078425),\n",
       " ('coll_wrist_l', '_13', 0.9063954367161666),\n",
       " ('_12', '_13', 0.4)]"
      ]
     },
     "execution_count": 6,
     "metadata": {},
     "output_type": "execute_result"
    }
   ],
   "source": [
    "K.getCollisions()"
   ]
  },
  {
   "cell_type": "code",
   "execution_count": 7,
   "metadata": {},
   "outputs": [
    {
     "data": {
      "text/plain": [
       "[('coll_base', '_10', -0.10150029141316007),\n",
       " ('coll_arm_r', '_10', -0.09695750113464226),\n",
       " ('coll_wrist_r', '_10', -0.07998581684013888)]"
      ]
     },
     "execution_count": 7,
     "metadata": {},
     "output_type": "execute_result"
    }
   ],
   "source": [
    "K.getCollisions(0) #only report proxies with distance<0 (penetrations)"
   ]
  },
  {
   "cell_type": "code",
   "execution_count": 8,
   "metadata": {},
   "outputs": [
    {
     "data": {
      "text/plain": [
       "(array([ 0.27844361]), array([[ 1.00000034, -0.99999938,  0.33546933]]))"
      ]
     },
     "execution_count": 8,
     "metadata": {},
     "output_type": "execute_result"
    }
   ],
   "source": [
    "coll.eval(K)"
   ]
  },
  {
   "cell_type": "code",
   "execution_count": null,
   "metadata": {},
   "outputs": [],
   "source": []
  }
 ],
 "metadata": {
  "kernelspec": {
   "display_name": "Python 3",
   "language": "python",
   "name": "python3"
  },
  "language_info": {
   "codemirror_mode": {
    "name": "ipython",
    "version": 3
   },
   "file_extension": ".py",
   "mimetype": "text/x-python",
   "name": "python",
   "nbconvert_exporter": "python",
   "pygments_lexer": "ipython3",
   "version": "3.5.2"
  }
 },
 "nbformat": 4,
 "nbformat_minor": 2
}
