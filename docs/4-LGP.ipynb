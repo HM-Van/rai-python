{
 "cells": [
  {
   "cell_type": "markdown",
   "metadata": {},
   "source": [
    "# 4. Logic-Geometric Programming: Skeleton Interface\n",
    "\n",
    "Definitions:\n",
    "\n",
    "* Formally, in papers, a skeleton is defined by the sequence $a_{1:K}$ of symbolic decisions. Note that, given the decision rules, such a sequence also defines the sequence of logical state $s_{1:K}$. Practially, in the code, we define a skeleton to be a simple data structure that captures the relevant information from both, $a_{1:K}$ and $s_{1:K}$.\n",
    "* A skeleton is a list of tuples $(t_\\text{start}, t_\\text{end}, \\text{literal})$, where $t_\\text{start}$ denotes the time (actually real-valued phase, but typically the integer k) at which a certain literal becomes true, $t_\\text{end} denotes the time when the literal was deleted, and `literal` is a some literal, e.g. `(stable hand object)`. In our case, the literals only include symbols (no real-valued constants), the first of which is the predicate, and the others typically refer to objects.\n",
    "* The skeleton interface to LGP means that you can define a skeleton, and let the algorithm compute a corresponding path. Note that this does not solve the search over symbolic decisions. It allows you to specify the path constraints on the same abstract level that is used internally for LGP.\n",
    "* Currently implemented skeleton predicates are:\n",
    "\n",
    "| predicate | arguments | description |\n",
    "|---|---|---|\n",
    "| touch | (obj1, obj2) | zero distance equality |\n",
    "| above | (obj, table) | center of object vertically inside convex table |\n",
    "| inside | (obj, box) | center of object inside convex box |\n",
    "| impulse | (obj1, obj2) | impule exchange equation |\n",
    "| stable | (from, to) | stable but free (7dof) relation |\n",
    "| stableOn | (from, to) | stable constrained (3dof xyphi) relation |\n",
    "| dynamic | (from, to) | free dynamics and corresponding equation |\n",
    "| dynamicOn | (from, to) | constrained 3dof dynamics |\n",
    "| liftDownUp | | |\n",
    "| push | | |\n",
    "| graspSlide| | |"
   ]
  },
  {
   "cell_type": "code",
   "execution_count": null,
   "metadata": {},
   "outputs": [],
   "source": []
  }
 ],
 "metadata": {
  "kernelspec": {
   "display_name": "Python 3",
   "language": "python",
   "name": "python3"
  },
  "language_info": {
   "codemirror_mode": {
    "name": "ipython",
    "version": 3
   },
   "file_extension": ".py",
   "mimetype": "text/x-python",
   "name": "python",
   "nbconvert_exporter": "python",
   "pygments_lexer": "ipython3",
   "version": "3.5.2"
  }
 },
 "nbformat": 4,
 "nbformat_minor": 2
}
