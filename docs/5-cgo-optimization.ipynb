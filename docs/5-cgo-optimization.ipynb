{
 "cells": [
  {
   "cell_type": "markdown",
   "metadata": {},
   "source": [
    "# Constrained Graph Optimization (KOMO)\n",
    "\n",
    "This is a dense optimization problem (in constrast to a path (k-order Markov) optimization). You can define arbitrary objectives across configurations."
   ]
  },
  {
   "cell_type": "code",
   "execution_count": 1,
   "metadata": {},
   "outputs": [],
   "source": [
    "import sys\n",
    "sys.path.append('../ry')\n",
    "\n",
    "from libry import *\n",
    "from numpy import *\n",
    "\n",
    "K = Config()\n",
    "D = K.view()\n",
    "K.addFile('../rai-robotModels/pr2/pr2.g')\n",
    "K.addFile('../test/kitchen.g')"
   ]
  },
  {
   "cell_type": "markdown",
   "metadata": {},
   "source": [
    "Let's add some objects"
   ]
  },
  {
   "cell_type": "code",
   "execution_count": 2,
   "metadata": {},
   "outputs": [
    {
     "data": {
      "text/plain": [
       "180"
      ]
     },
     "execution_count": 2,
     "metadata": {},
     "output_type": "execute_result"
    }
   ],
   "source": [
    "K.addFrame('item1', 'sink1', 'type:ssBox joint:rigid Q:<t(-.1 -.1 .52)> size:[.1 .1 .25 .02] color:[1. 0. 0.], contact' )\n",
    "K.addFrame('item2', 'sink1', 'type:ssBox joint:rigid Q:<t(.1 .1 .52)> size:[.1 .1 .25 .02] color:[1. 1. 0.], contact' )\n",
    "K.addFrame('tray', 'stove1', 'type:ssBox joint:rigid Q:<t(.0 .0 .42)> size:[.2 .2 .05 .02] color:[0. 1. 0.], contact' )"
   ]
  },
  {
   "cell_type": "code",
   "execution_count": 3,
   "metadata": {},
   "outputs": [],
   "source": [
    "obj1 = \"item2\";\n",
    "obj2 = \"item1\";\n",
    "tray = \"tray\";\n",
    "arm = \"pr2L\";\n",
    "table = \"_12\";\n",
    "\n",
    "komo = K.komo_CGO(6)\n",
    "\n",
    "komo.activateCollisionPairs([(obj1, obj2)]);\n",
    "komo.addObjective([], OT.eq, FS.accumulatedCollisions);\n",
    "komo.addObjective([], OT.ineq, FS.jointLimits);\n",
    "\n",
    "komo.add_StableRelativePose([0, 1], arm, obj1);\n",
    "komo.add_StableRelativePose([2, 3], arm, obj2);\n",
    "komo.add_StableRelativePose([4, 5], arm, tray);\n",
    "\n",
    "komo.add_StableRelativePose([1,2,3,4,5], tray, obj1);\n",
    "komo.add_StableRelativePose([3,4,5], tray, obj2);\n",
    "\n",
    "komo.add_StablePose([-1,0], obj1);\n",
    "komo.add_StablePose([-1,0,1,2], obj2);\n",
    "komo.add_StablePose([-1,0,1,2,3,4], tray);\n",
    "\n",
    "komo.add_grasp(0, arm, obj1);\n",
    "komo.add_place(1, obj1, tray);\n",
    "\n",
    "komo.add_grasp(2, arm, obj2);\n",
    "komo.add_place(3, obj2, tray);\n",
    "\n",
    "komo.add_grasp(4, arm, tray);\n",
    "komo.add_place(5, tray, table);"
   ]
  },
  {
   "cell_type": "code",
   "execution_count": 4,
   "metadata": {},
   "outputs": [],
   "source": [
    "komo.optimize()"
   ]
  },
  {
   "cell_type": "code",
   "execution_count": 5,
   "metadata": {},
   "outputs": [],
   "source": [
    "komo.displayTrajectory()"
   ]
  },
  {
   "cell_type": "markdown",
   "metadata": {},
   "source": [
    "Best way to read out: grab a configuration into K and analyze it there:"
   ]
  },
  {
   "cell_type": "code",
   "execution_count": 6,
   "metadata": {},
   "outputs": [
    {
     "data": {
      "text/plain": [
       "array([], dtype=float64)"
      ]
     },
     "execution_count": 6,
     "metadata": {},
     "output_type": "execute_result"
    }
   ],
   "source": [
    "K.setFrameState( komo.getConfiguration(4) )\n",
    "K.getJointState()"
   ]
  },
  {
   "cell_type": "code",
   "execution_count": null,
   "metadata": {},
   "outputs": [],
   "source": []
  },
  {
   "cell_type": "code",
   "execution_count": null,
   "metadata": {},
   "outputs": [],
   "source": []
  }
 ],
 "metadata": {
  "kernelspec": {
   "display_name": "Python 3",
   "language": "python",
   "name": "python3"
  },
  "language_info": {
   "codemirror_mode": {
    "name": "ipython",
    "version": 3
   },
   "file_extension": ".py",
   "mimetype": "text/x-python",
   "name": "python",
   "nbconvert_exporter": "python",
   "pygments_lexer": "ipython3",
   "version": "3.5.2"
  }
 },
 "nbformat": 4,
 "nbformat_minor": 2
}
