{
 "cells": [
  {
   "cell_type": "code",
   "execution_count": 1,
   "metadata": {},
   "outputs": [],
   "source": [
    "import sys\n",
    "sys.path.append('../rai/rai/ry')\n",
    "import numpy as np\n",
    "import libry as ry"
   ]
  },
  {
   "cell_type": "code",
   "execution_count": 2,
   "metadata": {},
   "outputs": [],
   "source": [
    "C = ry.Config()\n",
    "C.addFile('../test/boxProblem.g')"
   ]
  },
  {
   "cell_type": "code",
   "execution_count": 3,
   "metadata": {},
   "outputs": [],
   "source": [
    "komo = C.komo_path(4., 10, .2, False)\n",
    "komo.addTimeOptimization()\n",
    "\n",
    "obj = 'ballR'\n",
    "S = [\n",
    "    [0., .5], ry.SY.magic, [obj],\n",
    "    [.7, 4.], ry.SY.dynamicTrans, [obj],\n",
    "    [1., 1.], ry.SY.bounce, [\"boxBo\", obj],\n",
    "    [2., 2.], ry.SY.bounce, [\"boxBo\", obj],\n",
    "    [3., 3.], ry.SY.bounce, [\"boxBo\", obj],\n",
    "    [4., 4.], ry.SY.touch, [\"target\", obj]\n",
    "]\n",
    "komo.addSkeleton(S)"
   ]
  },
  {
   "cell_type": "code",
   "execution_count": 4,
   "metadata": {},
   "outputs": [
    {
     "ename": "RuntimeError",
     "evalue": "frame.cpp:ensure_X:123(-2) CHECK failed: '_state_X_isGood' ",
     "output_type": "error",
     "traceback": [
      "\u001b[0;31m---------------------------------------------------------------------------\u001b[0m",
      "\u001b[0;31mRuntimeError\u001b[0m                              Traceback (most recent call last)",
      "\u001b[0;32m<ipython-input-4-a7cf43a0316e>\u001b[0m in \u001b[0;36m<module>\u001b[0;34m()\u001b[0m\n\u001b[0;32m----> 1\u001b[0;31m \u001b[0mkomo\u001b[0m\u001b[0;34m.\u001b[0m\u001b[0moptimize\u001b[0m\u001b[0;34m(\u001b[0m\u001b[0;32mTrue\u001b[0m\u001b[0;34m)\u001b[0m\u001b[0;34m\u001b[0m\u001b[0;34m\u001b[0m\u001b[0m\n\u001b[0m\u001b[1;32m      2\u001b[0m \u001b[0mkomoView\u001b[0m \u001b[0;34m=\u001b[0m \u001b[0mkomo\u001b[0m\u001b[0;34m.\u001b[0m\u001b[0mview\u001b[0m\u001b[0;34m(\u001b[0m\u001b[0;34m)\u001b[0m\u001b[0;34m\u001b[0m\u001b[0;34m\u001b[0m\u001b[0m\n",
      "\u001b[0;31mRuntimeError\u001b[0m: frame.cpp:ensure_X:123(-2) CHECK failed: '_state_X_isGood' "
     ]
    }
   ],
   "source": [
    "komo.optimize(True)\n",
    "komoView = komo.view()"
   ]
  },
  {
   "cell_type": "code",
   "execution_count": 7,
   "metadata": {},
   "outputs": [
    {
     "data": {
      "text/plain": [
       "[{'at': 9,\n",
       "  'force': [1.4007630521307814e-08, 0.10460641966788811, -0.2309854824367546],\n",
       "  'from': 'boxBo',\n",
       "  'poa': [0.34326615762343066, -1.2762200895021083, 0.6465620803858281],\n",
       "  'to': 'ballR'},\n",
       " {'at': 19,\n",
       "  'force': [7.241373595181261e-08,\n",
       "   4.821784197680081e-06,\n",
       "   -0.29714921056078547],\n",
       "  'from': 'boxBo',\n",
       "  'poa': [0.2571298348756836, -0.3522025144658173, 0.6499956757305064],\n",
       "  'to': 'ballR'},\n",
       " {'at': 29,\n",
       "  'force': [-3.476148775104074e-08,\n",
       "   3.0571514509403184e-06,\n",
       "   -0.2744701465069145],\n",
       "  'from': 'boxBo',\n",
       "  'poa': [0.17771536518893755, 0.5221226670425695, 0.6499996162282135],\n",
       "  'to': 'ballR'}]"
      ]
     },
     "execution_count": 7,
     "metadata": {},
     "output_type": "execute_result"
    }
   ],
   "source": [
    "# read out solution: the full frame path, the tau path (time optimization), list of interaction forces\n",
    "obj_path = komo.getPathFrames([obj])\n",
    "tau_path = komo.getPathTau()\n",
    "forces = komo.getForceInteractions()\n",
    "forces"
   ]
  },
  {
   "cell_type": "code",
   "execution_count": 8,
   "metadata": {},
   "outputs": [],
   "source": [
    "D=0\n",
    "komoView=0\n",
    "komo=0\n",
    "C=0"
   ]
  },
  {
   "cell_type": "code",
   "execution_count": 9,
   "metadata": {},
   "outputs": [
    {
     "data": {
      "text/plain": [
       "<libry.Frame at 0x7fd9d9cea6f8>"
      ]
     },
     "execution_count": 9,
     "metadata": {},
     "output_type": "execute_result"
    }
   ],
   "source": [
    "C = ry.Config()\n",
    "C.addFile(\"../rai-robotModels/pr2/pr2.g\")\n",
    "C.addFile(\"../models/tables.g\")\n",
    "\n",
    "C.addFrame(\"obj0\", \"table1\", \"type:ssBox size:[.1 .1 .2 .02] color:[1. 0. 0.], contact, logical={ object }, joint:rigid, Q:<t(0 0 .15)>\" )\n",
    "C.addFrame(\"obj1\", \"table1\", \"type:ssBox size:[.1 .1 .2 .02] color:[1. 0. 0.], contact, logical={ object }, joint:rigid, Q:<t(0 .2 .15)>\" )\n",
    "C.addFrame(\"obj2\", \"table1\", \"type:ssBox size:[.1 .1 .2 .02] color:[1. 0. 0.], contact, logical={ object }, joint:rigid, Q:<t(0 .4 .15)>\" )\n",
    "C.addFrame(\"obj3\", \"table1\", \"type:ssBox size:[.1 .1 .2 .02] color:[1. 0. 0.], contact, logical={ object }, joint:rigid, Q:<t(0 .6.15)>\" )\n",
    "C.addFrame(\"tray\", \"table2\", \"type:ssBox size:[.15 .15 .04 .02] color:[0. 1. 0.], logical={ table }, Q:<t(0 0 .07)>\" );\n",
    "C.addFrame(\"\", \"tray\", \"type:ssBox size:[.27 .27 .04 .02] color:[0. 1. 0.]\" )"
   ]
  },
  {
   "cell_type": "code",
   "execution_count": 11,
   "metadata": {},
   "outputs": [],
   "source": [
    "S =[\n",
    "    [1., 1.], ry.SY.touch, ['pr2R', 'obj0'],\n",
    "    [1., 2.], ry.SY.stable, ['pr2R', 'obj0'],\n",
    "    [2.,2.], ry.SY.touch, ['pr2L', 'obj3'],\n",
    "    [2.,3.], ry.SY.stable, ['pr2L', 'obj3'],\n",
    "    [3.,3.], ry.SY.touch, ['pr2R', 'obj0'],\n",
    "    [3.,3.], ry.SY.above, ['obj0', 'tray'],\n",
    "    [3.,3.], ry.SY.stableOn, ['tray', 'obj0']\n",
    "]"
   ]
  },
  {
   "cell_type": "code",
   "execution_count": 15,
   "metadata": {},
   "outputs": [],
   "source": [
    "komo = C.komo_path(3., 10, 10., True)\n",
    "komo.addSkeletonBound(S, ry.BT.seq, True)\n",
    "komo.optimize(True)\n",
    "komoView = komo.view()"
   ]
  },
  {
   "cell_type": "code",
   "execution_count": 19,
   "metadata": {},
   "outputs": [],
   "source": [
    "komo = C.komo_path(3., 10, 10., True)\n",
    "komo.addSkeletonBound(S, ry.BT.path, True)\n",
    "komo.optimize(True)\n",
    "komoView = komo.view()"
   ]
  },
  {
   "cell_type": "code",
   "execution_count": 20,
   "metadata": {},
   "outputs": [],
   "source": [
    "D=0\n",
    "komoView=0\n",
    "komo=0\n",
    "C=0"
   ]
  },
  {
   "cell_type": "code",
   "execution_count": 21,
   "metadata": {},
   "outputs": [],
   "source": [
    "C = ry.Config()\n",
    "C.addFile(\"../models/RSSproblem-01.g\")"
   ]
  },
  {
   "cell_type": "code",
   "execution_count": 47,
   "metadata": {},
   "outputs": [],
   "source": [
    "S =[\n",
    "  [1, 1], ry.SY.touch, ['baxterR', 'stick'], \n",
    "[1, 4], ry.SY.stable, ['baxterR', 'stick'], \n",
    "[1, 1], ry.SY.liftDownUp, ['baxterR'], \n",
    "[2, 2], ry.SY.touch, ['baxterL', 'stick'], \n",
    "[2, 4], ry.SY.stable, ['baxterL', 'stick'], \n",
    "[3, 3], ry.SY.touch, ['stickTip', 'redBall'], \n",
    "[3, 3], ry.SY.impulse, ['stickTip', 'redBall'],\n",
    "[3, 3], ry.SY.dynamicOn, ['table1', 'redBall'], \n",
    "[4, 4], ry.SY.touch, ['baxterR', 'redBall'], \n",
    "#[4, 5], ry.SY.stable, ['baxterR', 'redBall'], \n",
    "[4, 5], ry.SY.graspSlide, ['baxterR', 'redBall', 'table1']\n",
    "]"
   ]
  },
  {
   "cell_type": "code",
   "execution_count": 48,
   "metadata": {},
   "outputs": [],
   "source": [
    "komo = C.komo_path(4., 10, 10., False)\n",
    "komo.addSkeletonBound(S, ry.BT.path, False)\n",
    "komo.optimize(True)\n",
    "komoView = komo.view()"
   ]
  },
  {
   "cell_type": "code",
   "execution_count": null,
   "metadata": {},
   "outputs": [],
   "source": []
  }
 ],
 "metadata": {
  "kernelspec": {
   "display_name": "Python 3",
   "language": "python",
   "name": "python3"
  },
  "language_info": {
   "codemirror_mode": {
    "name": "ipython",
    "version": 3
   },
   "file_extension": ".py",
   "mimetype": "text/x-python",
   "name": "python",
   "nbconvert_exporter": "python",
   "pygments_lexer": "ipython3",
   "version": "3.6.8"
  }
 },
 "nbformat": 4,
 "nbformat_minor": 2
}
