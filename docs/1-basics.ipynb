{
 "cells": [
  {
   "cell_type": "markdown",
   "metadata": {},
   "source": [
    "# Tutorial 1\n",
    "\n",
    "## other doc sources\n",
    "https://github.com/MarcToussaint/rai-maintenance/tree/master/help"
   ]
  },
  {
   "cell_type": "code",
   "execution_count": 1,
   "metadata": {},
   "outputs": [],
   "source": [
    "import sys\n",
    "sys.path.append('../ry')\n",
    "from libry import *\n",
    "from numpy import *"
   ]
  },
  {
   "cell_type": "markdown",
   "metadata": {},
   "source": [
    "## Setting up a basic Config\n",
    "\n",
    "The starting point is to create a `Configuration`."
   ]
  },
  {
   "cell_type": "code",
   "execution_count": 2,
   "metadata": {},
   "outputs": [],
   "source": [
    "K = Config()\n",
    "D = K.view()"
   ]
  },
  {
   "cell_type": "markdown",
   "metadata": {},
   "source": [
    "This shows an empty configuration. Tip: Make the view window appear \"Always On Top\" (right click on the window bar)\n",
    "\n",
    "You can add things (objects, scene models, robots) to a configuration."
   ]
  },
  {
   "cell_type": "code",
   "execution_count": 5,
   "metadata": {},
   "outputs": [],
   "source": [
    "K.clear()\n",
    "K.addFile('../rai-robotModels/pr2/pr2.g')\n",
    "K.addFile('../test/kitchen.g')"
   ]
  },
  {
   "cell_type": "markdown",
   "metadata": {},
   "source": [
    "Note that the view was updated automatically. (Internally, the view 'subscribes' to updates of the shared memory of Config)."
   ]
  },
  {
   "cell_type": "code",
   "execution_count": 6,
   "metadata": {},
   "outputs": [],
   "source": [
    "K.addObject(name=\"ball\", shape=ST.sphere, size=[.1], pos=[.8,.8,1.5], color=[1,1,0])"
   ]
  },
  {
   "cell_type": "markdown",
   "metadata": {},
   "source": [
    "One can also add convex meshes (just passing the vertex array), or use sphere-swept convex meshes (ssBox, capsule, sphere, etc)"
   ]
  },
  {
   "cell_type": "code",
   "execution_count": 7,
   "metadata": {},
   "outputs": [],
   "source": [
    "K.addObject(name=\"hand\", parent=\"pr2L\", shape=ST.ssBox, size=[.2,.2,.1,.02], pos=[0,0,-.1], color=[1,1,0])"
   ]
  },
  {
   "cell_type": "markdown",
   "metadata": {},
   "source": [
    "In this last example, the new object has another frame (pr2L) as *parent*. This means that it is permanently attached to this parent. pos and quat/rot are interpreted relative to the parent."
   ]
  },
  {
   "cell_type": "markdown",
   "metadata": {},
   "source": [
    "We can translate the framenames to attributes, so that they can be accessed by tab completion"
   ]
  },
  {
   "cell_type": "code",
   "execution_count": 8,
   "metadata": {},
   "outputs": [
    {
     "name": "stdout",
     "output_type": "stream",
     "text": [
      "sink1\n"
     ]
    }
   ],
   "source": [
    "class F(object):\n",
    "    def __init__(self):\n",
    "        print(\"bla\")\n",
    "    \n",
    "for n in K.getFrameNames():\n",
    "    setattr(F, n, n)\n",
    "\n",
    "print(F.sink1)"
   ]
  },
  {
   "cell_type": "markdown",
   "metadata": {},
   "source": [
    "## Joint and Frame State\n",
    "\n",
    "A configuration is a tree of n frames. Every frame has a pose (position & quaternion), which is represented as a 7D vector (x,y,z, qw,qx,qy,qz). The frame state is the $n\\times 7$ matrix, where the i-th row is the pose of the i-th frame.\n",
    "\n",
    "A configuration also defines joints, which means that the relative transfromation from a parent to a child frame is parameterized by degrees-of-freedoms (DOFs). If the configuration has in total n DOFs, the joint state is a n-dimensional vector.\n",
    "\n",
    "Setting the joint state implies computing all relative transformations, and then forward chaining all transformations to compute all frame poses. So setting the joint state also sets the frame state.\n",
    "     \n",
    "Setting the frame state allows you to set frame poses that are inconsistent/impossible w.r.t. the joints! Setting the frame state implies computing all relative transformations from the frame poses, and then assigning the joint state to the *projection* onto the actual DOFs"
   ]
  },
  {
   "cell_type": "code",
   "execution_count": 9,
   "metadata": {},
   "outputs": [
    {
     "name": "stdout",
     "output_type": "stream",
     "text": [
      "joint state:  [ 0.    0.    0.    0.1   0.    0.   -1.    1.    0.4   0.5   0.5  -1.    1.\n",
      " -2.   -2.   -1.5   1.5  -0.5  -0.5  -0.5   0.5   0.1   0.1   0.01  0.01]\n",
      "joint names:  ['worldTranslationRotation:0', 'worldTranslationRotation:1', 'worldTranslationRotation:2', 'torso_lift_joint', 'head_pan_joint', 'laser_tilt_mount_joint', 'r_shoulder_pan_joint', 'l_shoulder_pan_joint', 'head_tilt_joint', 'r_shoulder_lift_joint', 'l_shoulder_lift_joint', 'r_upper_arm_roll_joint', 'l_upper_arm_roll_joint', 'r_elbow_flex_joint', 'l_elbow_flex_joint', 'r_forearm_roll_joint', 'l_forearm_roll_joint', 'r_wrist_flex_joint', 'l_wrist_flex_joint', 'r_wrist_roll_joint', 'l_wrist_roll_joint', 'r_gripper_l_finger_joint', 'l_gripper_l_finger_joint', 'r_gripper_joint', 'l_gripper_joint']\n"
     ]
    }
   ],
   "source": [
    "q = K.getJointState()\n",
    "print('joint state: ', q)\n",
    "print('joint names: ', K.getJointNames() )"
   ]
  },
  {
   "cell_type": "markdown",
   "metadata": {},
   "source": [
    "Let's move the configuration by adding to the joint configuration"
   ]
  },
  {
   "cell_type": "code",
   "execution_count": 10,
   "metadata": {},
   "outputs": [],
   "source": [
    "q[2] = q[2] + 1.\n",
    "K.setJointState(q)"
   ]
  },
  {
   "cell_type": "markdown",
   "metadata": {},
   "source": [
    "The *frame state* is a $n\\times 7$ matrix, which contains for all of $n$ frames the 7D pose. A pose is stored as [p_x, p_y, p_z, q_w, q_x, q_y, q_z], with position p and quaternion q."
   ]
  },
  {
   "cell_type": "code",
   "execution_count": 10,
   "metadata": {},
   "outputs": [
    {
     "name": "stdout",
     "output_type": "stream",
     "text": [
      "frame state:  [[ 0.          0.          0.         ...,  0.          0.          0.        ]\n",
      " [ 0.          0.          0.         ...,  0.          0.          0.        ]\n",
      " [-0.05000006  0.          0.89067506 ...,  0.         -0.707107    0.        ]\n",
      " ..., \n",
      " [ 0.5         2.          0.4        ...,  0.          0.          0.        ]\n",
      " [ 0.8         0.8         1.5        ...,  0.          0.          0.        ]\n",
      " [ 0.56413045  0.15365448  0.96712056 ...,  0.70872509  0.31923664\n",
      "  -0.14007523]]\n"
     ]
    }
   ],
   "source": [
    "X0 = K.getFrameState()\n",
    "print('frame state: ', X0)"
   ]
  },
  {
   "cell_type": "markdown",
   "metadata": {},
   "source": [
    "Let's do a questionable thing: adding .1 to all numbers in the frame matrix"
   ]
  },
  {
   "cell_type": "code",
   "execution_count": 11,
   "metadata": {},
   "outputs": [],
   "source": [
    "X = X0 + .1\n",
    "K.setFrameState(X)"
   ]
  },
  {
   "cell_type": "markdown",
   "metadata": {},
   "source": [
    "The rows of X have non-normalized quaternions! These are normalized when setting the frame state.\n",
    "\n",
    "Also, the frame poses are now *inconsistent* to the joint constraints! We can read out the projected joint state, set the joint state, and get a consistent state again:"
   ]
  },
  {
   "cell_type": "code",
   "execution_count": 12,
   "metadata": {},
   "outputs": [],
   "source": [
    "K.setJointState( K.getJointState() )"
   ]
  },
  {
   "cell_type": "markdown",
   "metadata": {},
   "source": [
    "Let's bring the configuration back into the state before the harsh *setFrame*"
   ]
  },
  {
   "cell_type": "code",
   "execution_count": 13,
   "metadata": {},
   "outputs": [],
   "source": [
    "K.setFrameState(X0)"
   ]
  },
  {
   "cell_type": "markdown",
   "metadata": {},
   "source": [
    " ## Selecting joints\n",
    "\n",
    "Often one would like to choose which joints are actually active, that is, which joints are referred to in q. This allows one to sub-select joints and work only with projections of the full configuration state. This changes the joint state dimensionality, including ordering of entries in q.\n",
    "\n",
    "The frame state is not affected by such a selection of active joints."
   ]
  },
  {
   "cell_type": "code",
   "execution_count": 14,
   "metadata": {},
   "outputs": [
    {
     "name": "stdout",
     "output_type": "stream",
     "text": [
      "joint state:  [ 0.       0.       0.       1.00001  0.50001  1.00001 -2.00001  1.50001\n",
      " -0.50001  0.50001]\n",
      "joint names:  ['worldTranslationRotation:0', 'worldTranslationRotation:1', 'worldTranslationRotation:2', 'l_shoulder_pan_joint', 'l_shoulder_lift_joint', 'l_upper_arm_roll_joint', 'l_elbow_flex_joint', 'l_forearm_roll_joint', 'l_wrist_flex_joint', 'l_wrist_roll_joint']\n"
     ]
    }
   ],
   "source": [
    "K.selectJointsByTag([\"armL\",\"base\"])\n",
    "q = K.getJointState()\n",
    "print('joint state: ', q)\n",
    "print('joint names: ', K.getJointNames() )"
   ]
  },
  {
   "cell_type": "markdown",
   "metadata": {},
   "source": [
    "## Features & Jacobians\n",
    "\n",
    "A core part of rai defines features over configurations. A feature is a differentiable mapping from a configuration (or set of configurations) to a vector. Starndard features are \"position-of-endeffector-X\" or \"distance/penetration-between-convex-shapes-A-and-B\", etc. But there are many, many more features defined in rai, like error of Newton-Euler-equations for an object, total energy of the system, etc. Defining differentiable features is the core of many functionalities in the rai code.\n",
    "\n",
    "Let's define a basic feature over C: the 3D (world coordinate) position of pr2L (left hand)"
   ]
  },
  {
   "cell_type": "code",
   "execution_count": 15,
   "metadata": {},
   "outputs": [],
   "source": [
    "F = K.feature(FS.position, [\"pr2L\"])"
   ]
  },
  {
   "cell_type": "markdown",
   "metadata": {},
   "source": [
    "We can now evaluate the feature, and also get the Jacobian:"
   ]
  },
  {
   "cell_type": "code",
   "execution_count": 16,
   "metadata": {},
   "outputs": [
    {
     "name": "stdout",
     "output_type": "stream",
     "text": [
      "Default-0-pos-pr2L-WORLD\n",
      "hand position = [ 0.50511571  0.23164817  0.9462799 ]\n",
      "Jacobian = [[ 1.          0.         -0.37680144 -0.03983075  0.02246199  0.02887533\n",
      "   0.41080063  0.08270194 -0.02895472  0.09260605]\n",
      " [ 0.          1.          0.3056707   0.51864266  0.01443969 -0.22610734\n",
      "   0.24241176  0.16772111  0.03269659  0.0530787 ]\n",
      " [ 0.          0.          0.12630541 -0.00947986 -0.19190054 -0.42489383\n",
      "  -0.1880147   0.12361608  0.20435769 -0.06359238]]\n"
     ]
    }
   ],
   "source": [
    "print(F.description(K))\n",
    "\n",
    "[y,J] = F.eval(K)\n",
    "print('hand position =', y)\n",
    "print('Jacobian =', J)"
   ]
  },
  {
   "cell_type": "markdown",
   "metadata": {},
   "source": [
    "Another example"
   ]
  },
  {
   "cell_type": "code",
   "execution_count": 17,
   "metadata": {},
   "outputs": [
    {
     "name": "stdout",
     "output_type": "stream",
     "text": [
      "PairCollision-hand-ball\n"
     ]
    }
   ],
   "source": [
    "F2 = K.feature(FS.distance, [\"hand\", \"ball\"])\n",
    "print(F2.description(K))"
   ]
  },
  {
   "cell_type": "code",
   "execution_count": 18,
   "metadata": {},
   "outputs": [
    {
     "data": {
      "text/plain": [
       "(array([-0.63534655]),\n",
       " array([[ 0.28526394,  0.75395298,  0.24293435,  0.40923683, -0.03593037,\n",
       "         -0.48525664,  0.22698725,  0.25856631,  0.21420093,  0.02051115]]))"
      ]
     },
     "execution_count": 18,
     "metadata": {},
     "output_type": "execute_result"
    }
   ],
   "source": [
    "F2.eval(K)"
   ]
  },
  {
   "cell_type": "markdown",
   "metadata": {},
   "source": [
    "When you call a feature on a *tuple* of configurations, by default it computes the difference, acceleration, etc, w.r.t. these configurations"
   ]
  },
  {
   "cell_type": "code",
   "execution_count": 19,
   "metadata": {},
   "outputs": [],
   "source": [
    "C2 = Config()\n",
    "C2.copy(K)  #this replicates the whole structure\n",
    "V2 = C2.view()"
   ]
  },
  {
   "cell_type": "code",
   "execution_count": 20,
   "metadata": {},
   "outputs": [
    {
     "data": {
      "text/plain": [
       "array([ 0.,  0.,  0.])"
      ]
     },
     "execution_count": 20,
     "metadata": {},
     "output_type": "execute_result"
    }
   ],
   "source": [
    "F.eval((K,C2))[0]"
   ]
  },
  {
   "cell_type": "markdown",
   "metadata": {},
   "source": [
    "This should be zero. To see a difference, let's move the 2nd configuration:"
   ]
  },
  {
   "cell_type": "code",
   "execution_count": 21,
   "metadata": {},
   "outputs": [
    {
     "name": "stdout",
     "output_type": "stream",
     "text": [
      "hand difference (y(C2) - y(K)) = [-0.14782793 -0.21637914  0.04771965]\n"
     ]
    }
   ],
   "source": [
    "# just to see a difference between the two:\n",
    "q = C2.getJointState()\n",
    "q = q - .1\n",
    "C2.setJointState(q)\n",
    "y = F.eval((K,C2))[0]\n",
    "print('hand difference (y(C2) - y(K)) =', y)"
   ]
  },
  {
   "cell_type": "markdown",
   "metadata": {},
   "source": [
    "An acceleration example:"
   ]
  },
  {
   "cell_type": "code",
   "execution_count": 22,
   "metadata": {},
   "outputs": [],
   "source": [
    "C3 = Config()\n",
    "C3.copy(K);\n",
    "C3.setJointState(q + .2);"
   ]
  },
  {
   "cell_type": "code",
   "execution_count": 23,
   "metadata": {},
   "outputs": [
    {
     "name": "stdout",
     "output_type": "stream",
     "text": [
      "hand acceleration =  [ 0.40328601  0.66201756 -0.16073425]\n",
      "shape of Jacobian = (3, 30)\n"
     ]
    }
   ],
   "source": [
    "(y,J) = F.eval((K, C2, C3))\n",
    "print('hand acceleration = ', y)\n",
    "print('shape of Jacobian =', J.shape)"
   ]
  },
  {
   "cell_type": "markdown",
   "metadata": {},
   "source": [
    "Note that the Jacobian is now w.r.t. all three configurations! It is of size 3x3xdim(q). Let's retrieve the Jacobian w.r.t. C3 only:"
   ]
  },
  {
   "cell_type": "code",
   "execution_count": 24,
   "metadata": {},
   "outputs": [
    {
     "name": "stdout",
     "output_type": "stream",
     "text": [
      "shape of Jacobian = (3, 3, 10)\n"
     ]
    },
    {
     "data": {
      "text/plain": [
       "array([[ -2.00000000e+00,   0.00000000e+00,   2.30538069e-01,\n",
       "         -1.53566851e-01,  -1.43972159e-01,  -2.08641929e-02,\n",
       "         -9.33495140e-01,  -2.31059766e-01,  -4.86326323e-02,\n",
       "          9.05551250e-08],\n",
       "       [  0.00000000e+00,  -2.00000000e+00,  -9.14575552e-01,\n",
       "         -9.76538727e-01,  -1.48242252e-01,   4.58634833e-01,\n",
       "         -3.54586276e-01,  -6.47953557e-02,  -9.23388809e-02,\n",
       "          2.61086204e-07],\n",
       "       [  0.00000000e+00,   0.00000000e+00,   0.00000000e+00,\n",
       "         -1.28536080e-17,   3.70190768e-01,   7.43774572e-01,\n",
       "          1.84225842e-02,   4.11612844e-02,  -4.18380693e-01,\n",
       "          1.26277261e-06]])"
      ]
     },
     "execution_count": 24,
     "metadata": {},
     "output_type": "execute_result"
    }
   ],
   "source": [
    "J = J.reshape((3,3,q.size))\n",
    "print('shape of Jacobian =', J.shape)\n",
    "J[:,1,:]"
   ]
  },
  {
   "cell_type": "markdown",
   "metadata": {},
   "source": [
    "Another example, when the dimensions of K and C2 are different:"
   ]
  },
  {
   "cell_type": "code",
   "execution_count": 25,
   "metadata": {},
   "outputs": [
    {
     "name": "stdout",
     "output_type": "stream",
     "text": [
      "shape of Jacobian = (3, 17)\n",
      "dimensions of configurations = (10, 7)\n"
     ]
    }
   ],
   "source": [
    "C2.selectJointsByTag(['armL'])\n",
    "(y,J) = F.eval((K,C2))\n",
    "print('shape of Jacobian =', J.shape)\n",
    "print('dimensions of configurations =', (K.getJointDimension(), C2.getJointDimension()))"
   ]
  },
  {
   "cell_type": "markdown",
   "metadata": {},
   "source": [
    "Finally, we can linearly transform features by setting 'scale' and 'target':"
   ]
  },
  {
   "cell_type": "code",
   "execution_count": 18,
   "metadata": {},
   "outputs": [],
   "source": [
    "#F.scale = 10.\n",
    "#F.target = [0., 0., 1.];\n",
    "#  y = F(C);\n",
    "#  //.. now y = F.scale * (f(C) - F.target), which means y is zero if\n",
    "#  //the feature f(C) is equal to the target (here, if the hand is in world\n",
    "#  //position (0,0,1) )\n",
    "#\n",
    "#  //F.scale can also be a matrix, which can transform the feature also to lower dimensionality\n",
    "#  F.scale = arr(1,3,{0., 0., 1.}); //defines the 1-times-3 matrix (0 0 1)\n",
    "#  y = F(C);\n",
    "#  //.. now y is 1-dimensional and captures only the z-position "
   ]
  },
  {
   "cell_type": "markdown",
   "metadata": {},
   "source": [
    "# THE REST IS PRELIM"
   ]
  },
  {
   "cell_type": "markdown",
   "metadata": {},
   "source": [
    "We can also add a frame, attached to the head, which has no shape associated to it, but create a view is associated with that frame:"
   ]
  },
  {
   "cell_type": "code",
   "execution_count": 19,
   "metadata": {},
   "outputs": [],
   "source": [
    "K.addFrame(name='camera', parent='head_tilt_link', args='Q:<d(-90 1 0 0) d(180 0 0 1)> focalLength:.3')\n",
    "C = K.view(frame='camera')"
   ]
  },
  {
   "cell_type": "markdown",
   "metadata": {},
   "source": [
    "When we move the robot, that view moves with it:"
   ]
  },
  {
   "cell_type": "code",
   "execution_count": 20,
   "metadata": {},
   "outputs": [],
   "source": [
    "K.setJointState(q=asarray([1.]), joints=['head_pan_joint'])"
   ]
  },
  {
   "cell_type": "markdown",
   "metadata": {},
   "source": [
    "To close a view (or destroy a handle to a computational module), we reassign it to zero. We can also remove a frame from the configuration."
   ]
  },
  {
   "cell_type": "code",
   "execution_count": 21,
   "metadata": {},
   "outputs": [],
   "source": [
    "C = 0\n",
    "K.delFrame('camera')"
   ]
  },
  {
   "cell_type": "markdown",
   "metadata": {},
   "source": [
    "This solves a simple IK problem, defined by an equality constraint on the difference in position of 'ball' and 'hand'"
   ]
  },
  {
   "cell_type": "code",
   "execution_count": 22,
   "metadata": {},
   "outputs": [],
   "source": [
    "X0 = K.getFrameState()\n",
    "IK = K.komo_IK()\n",
    "IK.addObjective(type=OT.eq, feature=FS.positionDiff, frames=['ball', 'hand'])\n",
    "IK.optimize()\n",
    "K.setFrameState( IK.getConfiguration(0) )"
   ]
  },
  {
   "cell_type": "code",
   "execution_count": 23,
   "metadata": {},
   "outputs": [
    {
     "data": {
      "text/plain": [
       "[{'feature': 'Transition',\n",
       "  'scale': 0.1,\n",
       "  'sos_value': 5.741217659307911,\n",
       "  'type': 'sos'},\n",
       " {'description': 'QuaternionNorms',\n",
       "  'scale': 3.0,\n",
       "  'sos_value': 0.0,\n",
       "  'type': 'sos'},\n",
       " {'eq_sumOfAbs': 4.3504936630411883e-05,\n",
       "  'feature': 'posDiff',\n",
       "  'o1': 'ball',\n",
       "  'o2': 'hand',\n",
       "  'scale': 10.0,\n",
       "  'type': 'eq'}]"
      ]
     },
     "execution_count": 23,
     "metadata": {},
     "output_type": "execute_result"
    }
   ],
   "source": [
    "IK.getReport()"
   ]
  },
  {
   "cell_type": "markdown",
   "metadata": {},
   "source": [
    "We can reuse the optimization object, change the objective a bit (now the position difference is constrained to be [.1,.1,.1] in world coordinates), and reoptimize"
   ]
  },
  {
   "cell_type": "code",
   "execution_count": 24,
   "metadata": {},
   "outputs": [],
   "source": [
    "IK.clearObjectives()\n",
    "IK.addObjective(type=OT.eq, feature=FS.positionDiff, frames=['hand', 'ball'], target=[.1, .1, .1])\n",
    "IK.optimize()\n",
    "K.setFrameState( IK.getConfiguration(0) )"
   ]
  },
  {
   "cell_type": "markdown",
   "metadata": {},
   "source": [
    "TODO demos:\n",
    "\n",
    "* rename Camera -> View\n",
    "* copy configurations\n",
    "* have multiple configurations and views in parallel\n",
    "* selecting/modifying DOFs (i.e., which joints are considered DOFs)\n",
    "* I/O with other file formats?"
   ]
  },
  {
   "cell_type": "code",
   "execution_count": 32,
   "metadata": {},
   "outputs": [],
   "source": [
    "K.setFrameState(X0)"
   ]
  },
  {
   "cell_type": "code",
   "execution_count": 33,
   "metadata": {},
   "outputs": [],
   "source": [
    "K=0"
   ]
  },
  {
   "cell_type": "code",
   "execution_count": 34,
   "metadata": {},
   "outputs": [],
   "source": [
    "D=0"
   ]
  },
  {
   "cell_type": "code",
   "execution_count": null,
   "metadata": {},
   "outputs": [],
   "source": []
  },
  {
   "cell_type": "code",
   "execution_count": null,
   "metadata": {},
   "outputs": [],
   "source": []
  }
 ],
 "metadata": {
  "kernelspec": {
   "display_name": "Python 3",
   "language": "python",
   "name": "python3"
  },
  "language_info": {
   "codemirror_mode": {
    "name": "ipython",
    "version": 3
   },
   "file_extension": ".py",
   "mimetype": "text/x-python",
   "name": "python",
   "nbconvert_exporter": "python",
   "pygments_lexer": "ipython3",
   "version": "3.5.2"
  }
 },
 "nbformat": 4,
 "nbformat_minor": 2
}
