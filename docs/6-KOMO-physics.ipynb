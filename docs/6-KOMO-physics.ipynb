{
 "cells": [
  {
   "cell_type": "code",
   "execution_count": 1,
   "metadata": {},
   "outputs": [],
   "source": [
    "import sys\n",
    "sys.path.append('../ry')\n",
    "from libry import *\n",
    "from numpy import *"
   ]
  },
  {
   "cell_type": "code",
   "execution_count": 2,
   "metadata": {},
   "outputs": [
    {
     "data": {
      "text/plain": [
       "['base',\n",
       " 'box',\n",
       " 'boxBo',\n",
       " 'boxLe',\n",
       " 'boxBa',\n",
       " 'ballR',\n",
       " 'block',\n",
       " 'target',\n",
       " 'boxBa>target']"
      ]
     },
     "execution_count": 2,
     "metadata": {},
     "output_type": "execute_result"
    }
   ],
   "source": [
    "# load and display a configuration\n",
    "K = Config()\n",
    "K.addFile('../test/boxProblem.g')\n",
    "D = K.view()\n",
    "K.getFrameNames()"
   ]
  },
  {
   "cell_type": "code",
   "execution_count": 3,
   "metadata": {},
   "outputs": [],
   "source": [
    "# create a standard path optimization problem with 4 phases, each of .2 seconds, and 10 steps\n",
    "komo = K.komo_path(5., 10, .2)"
   ]
  },
  {
   "cell_type": "code",
   "execution_count": 4,
   "metadata": {},
   "outputs": [],
   "source": [
    "# create tau-DOFs (time intervals) in the optimization problem and add respective constraints\n",
    "komo.addTimeOptimization()"
   ]
  },
  {
   "cell_type": "code",
   "execution_count": 5,
   "metadata": {},
   "outputs": [],
   "source": [
    "# take one object, and first 'switch' it to become freely movable without costs,\n",
    "# then, starting at phase .7, make it dynamic (imposing NE equations)\n",
    "obj = 'ballR'\n",
    "#komo.addSwitch_magic(.0, 'base', obj)\n",
    "komo.makeObjectsFree([\"ballR\"]);"
   ]
  },
  {
   "cell_type": "code",
   "execution_count": 6,
   "metadata": {},
   "outputs": [],
   "source": [
    "# (old) a way to constrain the object position to be 'before' the box before phase 0.2\n",
    "#komo.addObjective(time=[0., .2], type=OT.ineq, feature=FS.position, frames=[obj], scaleTrans=[[0.,1.,0.]], target=[1.])"
   ]
  },
  {
   "cell_type": "code",
   "execution_count": 7,
   "metadata": {},
   "outputs": [],
   "source": [
    "# objectives for collision (permanent) and target (at phase-time 4.)\n",
    "komo.addObjective(type=OT.sos, feature=FS.accumulatedCollisions)\n",
    "komo.addObjective(time=[5.], type=OT.eq, feature=FS.distance, frames=['target', obj], scale=[3e1])"
   ]
  },
  {
   "cell_type": "code",
   "execution_count": 8,
   "metadata": {},
   "outputs": [],
   "source": [
    "# simple structure of this solution: bounce on the bottom of the box at times 1, 2, and 3\n",
    "komo.addSwitch_dynamicTrans(1., -1., 'base', obj)\n",
    "komo.addInteraction_elasticBounce(2., \"boxBo\", obj, .8)\n",
    "komo.addInteraction_elasticBounce(3., \"boxBo\", obj, .8)\n",
    "komo.addInteraction_elasticBounce(4., \"boxBo\", obj, .8)"
   ]
  },
  {
   "cell_type": "code",
   "execution_count": 9,
   "metadata": {},
   "outputs": [],
   "source": [
    "komo.optimize()"
   ]
  },
  {
   "cell_type": "code",
   "execution_count": 10,
   "metadata": {},
   "outputs": [],
   "source": [
    "komoView = komo.view()"
   ]
  },
  {
   "cell_type": "code",
   "execution_count": 11,
   "metadata": {},
   "outputs": [],
   "source": [
    "komo.display()"
   ]
  },
  {
   "cell_type": "code",
   "execution_count": 12,
   "metadata": {},
   "outputs": [
    {
     "data": {
      "text/plain": [
       "[{'at': 19,\n",
       "  'force': [-4.2457956389799766e-08,\n",
       "   0.11921128879253202,\n",
       "   -0.39657575028782255],\n",
       "  'from': 'boxBo',\n",
       "  'poa': [0.3306762853441486, -1.2713906082562505, 0.6483517775042474],\n",
       "  'to': 'ballR'},\n",
       " {'at': 29,\n",
       "  'force': [-4.392341620016822e-07,\n",
       "   4.284251878299415e-07,\n",
       "   -0.34991746320870865],\n",
       "  'from': 'boxBo',\n",
       "  'poa': [0.245511428940449, -0.28840914872264234, 0.6499915999868081],\n",
       "  'to': 'ballR'},\n",
       " {'at': 39,\n",
       "  'force': [1.856959661519155e-07,\n",
       "   -1.1706101479336869e-07,\n",
       "   -0.294637829049629],\n",
       "  'from': 'boxBo',\n",
       "  'poa': [0.17024861134681268, 0.55647045709132, 0.6499807799482432],\n",
       "  'to': 'ballR'}]"
      ]
     },
     "execution_count": 12,
     "metadata": {},
     "output_type": "execute_result"
    }
   ],
   "source": [
    "# read out solution: the full frame path, the tau path (time optimization), list of interaction forces\n",
    "obj_path = komo.getPathFrames([obj])\n",
    "tau_path = komo.getPathTau()\n",
    "forces = komo.getForceInteractions()\n",
    "forces"
   ]
  },
  {
   "cell_type": "markdown",
   "metadata": {},
   "source": [
    "Conversion from steps to phase and time:\n",
    "```\n",
    "phase=0 is the FIXED initial configuration and corresponds to step=-1\n",
    "step=0 is the first configuration s.t. optimization\n",
    "\\tau(s) gives the time between step s-1 and step s\n",
    "phase(step s) = (s+1)/stepsPerPhase\n",
    "time(step s) = sum i=0:s tau(i)\n",
    "```"
   ]
  },
  {
   "cell_type": "code",
   "execution_count": 13,
   "metadata": {},
   "outputs": [],
   "source": [
    "D=0\n",
    "komoView=0\n",
    "komo=0\n",
    "K=0"
   ]
  },
  {
   "cell_type": "code",
   "execution_count": null,
   "metadata": {},
   "outputs": [],
   "source": []
  }
 ],
 "metadata": {
  "kernelspec": {
   "display_name": "Python 3",
   "language": "python",
   "name": "python3"
  },
  "language_info": {
   "codemirror_mode": {
    "name": "ipython",
    "version": 3
   },
   "file_extension": ".py",
   "mimetype": "text/x-python",
   "name": "python",
   "nbconvert_exporter": "python",
   "pygments_lexer": "ipython3",
   "version": "3.5.2"
  }
 },
 "nbformat": 4,
 "nbformat_minor": 2
}
