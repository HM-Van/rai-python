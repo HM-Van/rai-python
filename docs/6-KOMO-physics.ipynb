{
 "cells": [
  {
   "cell_type": "code",
   "execution_count": 1,
   "metadata": {},
   "outputs": [],
   "source": [
    "import sys\n",
    "sys.path.append('../ry')\n",
    "from libry import *\n",
    "from numpy import *"
   ]
  },
  {
   "cell_type": "code",
   "execution_count": 22,
   "metadata": {},
   "outputs": [
    {
     "data": {
      "text/plain": [
       "['base',\n",
       " 'box',\n",
       " 'boxBo',\n",
       " 'boxLe',\n",
       " 'boxBa',\n",
       " 'ballR',\n",
       " 'block',\n",
       " 'target',\n",
       " 'boxBa>target']"
      ]
     },
     "execution_count": 22,
     "metadata": {},
     "output_type": "execute_result"
    }
   ],
   "source": [
    "# load and display a configuration\n",
    "K = Config()\n",
    "K.addFile('../test/boxProblem.g')\n",
    "D = K.view()\n",
    "K.getFrameNames()"
   ]
  },
  {
   "cell_type": "code",
   "execution_count": 23,
   "metadata": {},
   "outputs": [],
   "source": [
    "# create a standard path optimization problem with 4 phases, each of .2 seconds, and 10 steps\n",
    "komo = K.komo_path(5., 10, .2)"
   ]
  },
  {
   "cell_type": "code",
   "execution_count": 24,
   "metadata": {},
   "outputs": [],
   "source": [
    "# create tau-DOFs (time intervals) in the optimization problem and add respective constraints\n",
    "komo.addTimeOptimization()"
   ]
  },
  {
   "cell_type": "code",
   "execution_count": 25,
   "metadata": {},
   "outputs": [],
   "source": [
    "# take one object, and first 'switch' it to become freely movable without costs,\n",
    "# then, starting at phase .7, make it dynamic (imposing NE equations)\n",
    "obj = 'ballR'\n",
    "#komo.addSwitch_magic(.0, 'base', obj)\n",
    "komo.makeObjectsFree([\"ballR\"]);\n"
   ]
  },
  {
   "cell_type": "code",
   "execution_count": 26,
   "metadata": {},
   "outputs": [],
   "source": [
    "# (old) a way to constrain the object position to be 'before' the box before phase 0.2\n",
    "#komo.addObjective(time=[0., .2], type=OT.ineq, feature=FS.position, frames=[obj], scaleTrans=[[0.,1.,0.]], target=[1.])"
   ]
  },
  {
   "cell_type": "code",
   "execution_count": 27,
   "metadata": {},
   "outputs": [],
   "source": [
    "# objectives for collision (permanent) and target (at phase-time 4.)\n",
    "komo.addObjective(type=OT.sos, feature=FS.accumulatedCollisions)\n",
    "komo.addObjective(time=[5.], type=OT.eq, feature=FS.distance, frames=['target', obj], scale=[3e1])"
   ]
  },
  {
   "cell_type": "code",
   "execution_count": 32,
   "metadata": {},
   "outputs": [],
   "source": [
    "# simple structure of this solution: bounce on the bottom of the box at times 1, 2, and 3\n",
    "komo.addSwitch_dynamicTrans(1., -1., 'base', obj)\n",
    "komo.addInteraction_elasticBounce(2., \"boxBo\", obj, .8)\n",
    "komo.addInteraction_elasticBounce(3., \"boxBo\", obj, .8)\n",
    "komo.addInteraction_elasticBounce(4., \"boxBo\", obj, .8)"
   ]
  },
  {
   "cell_type": "code",
   "execution_count": 29,
   "metadata": {},
   "outputs": [],
   "source": [
    "komo.optimize()"
   ]
  },
  {
   "cell_type": "code",
   "execution_count": 30,
   "metadata": {},
   "outputs": [],
   "source": [
    "komoView = komo.view()"
   ]
  },
  {
   "cell_type": "code",
   "execution_count": 10,
   "metadata": {},
   "outputs": [],
   "source": [
    "komo.displayTrajectory()\n",
    "#(todo: use proper display thread, as for LGP optimizer)"
   ]
  },
  {
   "cell_type": "code",
   "execution_count": 11,
   "metadata": {},
   "outputs": [],
   "source": [
    "komo.display()"
   ]
  },
  {
   "cell_type": "code",
   "execution_count": 15,
   "metadata": {},
   "outputs": [
    {
     "data": {
      "text/plain": [
       "[{'at': 9,\n",
       "  'force': [1.3550911638451476e-08, 0.05844131299791279, -0.47950453006185223],\n",
       "  'from': 'boxBo',\n",
       "  'poa': [0.34012283450520486, -1.2649754081669191, 0.6496912259335912],\n",
       "  'to': 'ballR'},\n",
       " {'at': 19,\n",
       "  'force': [2.9973237755030936e-07,\n",
       "   -4.200392864356983e-06,\n",
       "   -0.37865886519765213],\n",
       "  'from': 'boxBo',\n",
       "  'poa': [0.25396826587662497, -0.3367204033048931, 0.649999243860761],\n",
       "  'to': 'ballR'},\n",
       " {'at': 29,\n",
       "  'force': [1.4412681122039584e-07,\n",
       "   -3.2396513888794734e-06,\n",
       "   -0.3181579885035238],\n",
       "  'from': 'boxBo',\n",
       "  'poa': [0.18138934740955584, 0.4518070300818377, 0.6499775453844219],\n",
       "  'to': 'ballR'}]"
      ]
     },
     "execution_count": 15,
     "metadata": {},
     "output_type": "execute_result"
    }
   ],
   "source": [
    "# read out solution: the full frame path, the tau path (time optimization), list of interaction forces\n",
    "obj_path = komo.getPathFrames([obj])\n",
    "tau_path = komo.getPathTau()\n",
    "forces = komo.getForceInteractions()\n",
    "forces"
   ]
  },
  {
   "cell_type": "markdown",
   "metadata": {},
   "source": [
    "Conversion from steps to phase and time:\n",
    "```\n",
    "phase=0 is the FIXED initial configuration and corresponds to step=-1\n",
    "step=0 is the first configuration s.t. optimization\n",
    "\\tau(s) gives the time between step s-1 and step s\n",
    "phase(step s) = (s+1)/stepsPerPhase\n",
    "time(step s) = sum i=0:s tau(i)\n",
    "```"
   ]
  },
  {
   "cell_type": "code",
   "execution_count": 33,
   "metadata": {},
   "outputs": [],
   "source": [
    "D=0\n",
    "komoView=0\n",
    "K=0"
   ]
  },
  {
   "cell_type": "code",
   "execution_count": null,
   "metadata": {},
   "outputs": [],
   "source": []
  }
 ],
 "metadata": {
  "kernelspec": {
   "display_name": "Python 3",
   "language": "python",
   "name": "python3"
  },
  "language_info": {
   "codemirror_mode": {
    "name": "ipython",
    "version": 3
   },
   "file_extension": ".py",
   "mimetype": "text/x-python",
   "name": "python",
   "nbconvert_exporter": "python",
   "pygments_lexer": "ipython3",
   "version": "3.5.2"
  }
 },
 "nbformat": 4,
 "nbformat_minor": 2
}
