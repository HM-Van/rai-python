{
 "cells": [
  {
   "cell_type": "code",
   "execution_count": 1,
   "metadata": {},
   "outputs": [],
   "source": [
    "import sys\n",
    "sys.path.append('../ry')\n",
    "from libry import *\n",
    "from numpy import *"
   ]
  },
  {
   "cell_type": "code",
   "execution_count": 2,
   "metadata": {},
   "outputs": [],
   "source": [
    "K = Config()\n",
    "K.addFile('../test/boxProblem.g')"
   ]
  },
  {
   "cell_type": "code",
   "execution_count": 3,
   "metadata": {},
   "outputs": [],
   "source": [
    "komo = K.komo_path(4., 10, .2)\n",
    "komo.addTimeOptimization()\n",
    "\n",
    "obj = 'ballR'\n",
    "S = [\n",
    "    [0., .5], SY.magic, [obj],\n",
    "    [.7, 4.], SY.dynamicTrans, [obj],\n",
    "    [1., 1.], SY.bounce, [\"boxBo\", obj],\n",
    "    [2., 2.], SY.bounce, [\"boxBo\", obj],\n",
    "    [3., 3.], SY.bounce, [\"boxBo\", obj],\n",
    "    [4., 4.], SY.touch, [\"target\", obj]\n",
    "]\n",
    "komo.addSkeleton(S)"
   ]
  },
  {
   "cell_type": "code",
   "execution_count": 4,
   "metadata": {},
   "outputs": [],
   "source": [
    "komo.optimize()\n",
    "komoView = komo.view()"
   ]
  },
  {
   "cell_type": "code",
   "execution_count": 5,
   "metadata": {},
   "outputs": [
    {
     "data": {
      "text/plain": [
       "[{'at': 9,\n",
       "  'force': [1.4007630521307814e-08, 0.10460641966788811, -0.2309854824367546],\n",
       "  'from': 'boxBo',\n",
       "  'poa': [0.34326615762343066, -1.2762200895021083, 0.6465620803858281],\n",
       "  'to': 'ballR'},\n",
       " {'at': 19,\n",
       "  'force': [7.241373595181261e-08,\n",
       "   4.821784197680081e-06,\n",
       "   -0.29714921056078547],\n",
       "  'from': 'boxBo',\n",
       "  'poa': [0.2571298348756836, -0.3522025144658173, 0.6499956757305064],\n",
       "  'to': 'ballR'},\n",
       " {'at': 29,\n",
       "  'force': [-3.476148775104074e-08,\n",
       "   3.0571514509403184e-06,\n",
       "   -0.2744701465069145],\n",
       "  'from': 'boxBo',\n",
       "  'poa': [0.17771536518893755, 0.5221226670425695, 0.6499996162282135],\n",
       "  'to': 'ballR'}]"
      ]
     },
     "execution_count": 5,
     "metadata": {},
     "output_type": "execute_result"
    }
   ],
   "source": [
    "# read out solution: the full frame path, the tau path (time optimization), list of interaction forces\n",
    "obj_path = komo.getPathFrames([obj])\n",
    "tau_path = komo.getPathTau()\n",
    "forces = komo.getForceInteractions()\n",
    "forces"
   ]
  },
  {
   "cell_type": "code",
   "execution_count": 6,
   "metadata": {},
   "outputs": [],
   "source": [
    "D=0\n",
    "komoView=0\n",
    "komo=0\n",
    "K=0"
   ]
  },
  {
   "cell_type": "code",
   "execution_count": 7,
   "metadata": {},
   "outputs": [
    {
     "data": {
      "text/plain": [
       "172"
      ]
     },
     "execution_count": 7,
     "metadata": {},
     "output_type": "execute_result"
    }
   ],
   "source": [
    "K = Config()\n",
    "K.addFile(\"../rai-robotModels/pr2/pr2.g\")\n",
    "K.addFile(\"../models/tables.g\")\n",
    "\n",
    "K.addFrame(\"obj0\", \"table1\", \"type:ssBox size:[.1 .1 .2 .02] color:[1. 0. 0.], contact, logical={ object }, joint:rigid, Q:<t(0 0 .15)>\" )\n",
    "K.addFrame(\"obj1\", \"table1\", \"type:ssBox size:[.1 .1 .2 .02] color:[1. 0. 0.], contact, logical={ object }, joint:rigid, Q:<t(0 .2 .15)>\" )\n",
    "K.addFrame(\"obj2\", \"table1\", \"type:ssBox size:[.1 .1 .2 .02] color:[1. 0. 0.], contact, logical={ object }, joint:rigid, Q:<t(0 .4 .15)>\" )\n",
    "K.addFrame(\"obj3\", \"table1\", \"type:ssBox size:[.1 .1 .2 .02] color:[1. 0. 0.], contact, logical={ object }, joint:rigid, Q:<t(0 .6.15)>\" )\n",
    "K.addFrame(\"tray\", \"table2\", \"type:ssBox size:[.15 .15 .04 .02] color:[0. 1. 0.], logical={ table }, Q:<t(0 0 .07)>\" );\n",
    "K.addFrame(\"\", \"tray\", \"type:ssBox size:[.27 .27 .04 .02] color:[0. 1. 0.]\" )"
   ]
  },
  {
   "cell_type": "code",
   "execution_count": 8,
   "metadata": {},
   "outputs": [],
   "source": [
    "S =[\n",
    "    [1., 1.], SY.touch, ['pr2R', 'obj0'],\n",
    "    [1., 2.], SY.stable, ['pr2R', 'obj0'],\n",
    "    [2.,2.], SY.touch, ['pr2L', 'obj3'],\n",
    "    [2.,3.], SY.stable, ['pr2L', 'obj3'],\n",
    "    [3.,3.], SY.touch, ['pr2R', 'obj0'],\n",
    "    [3.,3.], SY.above, ['obj0', 'tray'],\n",
    "    [3.,3.], SY.stableOn, ['tray', 'obj0']\n",
    "]"
   ]
  },
  {
   "cell_type": "code",
   "execution_count": 12,
   "metadata": {},
   "outputs": [],
   "source": [
    "komo = K.komo_path(3., 10, 10.)\n",
    "komo.addSkeletonBound(S, BT.seq, True)\n",
    "komo.optimize()\n",
    "komoView = komo.view()"
   ]
  },
  {
   "cell_type": "code",
   "execution_count": 10,
   "metadata": {},
   "outputs": [],
   "source": [
    "komo = K.komo_path(3., 10, 10.)\n",
    "komo.addSkeletonBound(S, BT.path, False)\n",
    "komo.optimize()\n",
    "komoView = komo.view()"
   ]
  },
  {
   "cell_type": "code",
   "execution_count": 13,
   "metadata": {},
   "outputs": [],
   "source": [
    "D=0\n",
    "komoView=0\n",
    "komo=0\n",
    "K=0"
   ]
  },
  {
   "cell_type": "code",
   "execution_count": 14,
   "metadata": {},
   "outputs": [],
   "source": [
    "K = Config()\n",
    "K.addFile(\"../models/RSSproblem-01.g\")"
   ]
  },
  {
   "cell_type": "code",
   "execution_count": 15,
   "metadata": {},
   "outputs": [],
   "source": [
    "S =[\n",
    "  [1, 1], SY.touch, ['baxterR', 'stick'], \n",
    "[1, 4], SY.stable, ['baxterR', 'stick'], \n",
    "[1, 1], SY.liftDownUp, ['baxterR'], \n",
    "[2, 2], SY.touch, ['baxterL', 'stick'], \n",
    "[2, 4], SY.stable, ['baxterL', 'stick'], \n",
    "[3, 3], SY.touch, ['stickTip', 'redBall'], \n",
    "[3, 3], SY.impulse, ['stickTip', 'redBall'],\n",
    "[3, 3], SY.dynamicOn, ['table1', 'redBall'], \n",
    "[4, 4], SY.graspSlide, ['baxterR', 'redBall', 'table1']\n",
    "]"
   ]
  },
  {
   "cell_type": "code",
   "execution_count": 17,
   "metadata": {},
   "outputs": [],
   "source": [
    "komo = K.komo_path(3., 10, 10.)\n",
    "komo.addSkeletonBound(S, BT.path, False)\n",
    "komo.optimize()\n",
    "komoView = komo.view()"
   ]
  },
  {
   "cell_type": "code",
   "execution_count": null,
   "metadata": {},
   "outputs": [],
   "source": []
  }
 ],
 "metadata": {
  "kernelspec": {
   "display_name": "Python 3",
   "language": "python",
   "name": "python3"
  },
  "language_info": {
   "codemirror_mode": {
    "name": "ipython",
    "version": 3
   },
   "file_extension": ".py",
   "mimetype": "text/x-python",
   "name": "python",
   "nbconvert_exporter": "python",
   "pygments_lexer": "ipython3",
   "version": "3.5.2"
  }
 },
 "nbformat": 4,
 "nbformat_minor": 2
}
