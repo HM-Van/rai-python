{
 "cells": [
  {
   "cell_type": "markdown",
   "metadata": {},
   "source": [
    "# Inverse Kinematics Optimization\n",
    "\n",
    "The previous doc explained features and how they define objectives of a constrained optimization problem. Here we show how to use this to solve IK optimization problems.\n",
    "\n",
    "At the bottom there is more general text explaining the basic concepts."
   ]
  },
  {
   "cell_type": "markdown",
   "metadata": {},
   "source": [
    "## Demo of features in Inverse Kinematics\n",
    "\n",
    "Let's setup a standard configuration. (Lock the window with \"Always on Top\".)"
   ]
  },
  {
   "cell_type": "code",
   "execution_count": 1,
   "metadata": {},
   "outputs": [],
   "source": [
    "import sys\n",
    "sys.path.append('../ry')\n",
    "\n",
    "from libry import *\n",
    "from numpy import *"
   ]
  },
  {
   "cell_type": "code",
   "execution_count": 2,
   "metadata": {},
   "outputs": [],
   "source": [
    "K = Config()\n",
    "D = K.view()\n",
    "K.addFile('../rai-robotModels/pr2/pr2.g')\n",
    "K.addFile('../test/kitchen.g')"
   ]
  },
  {
   "cell_type": "markdown",
   "metadata": {},
   "source": [
    "For simplicity, let's add a frame that represents goals"
   ]
  },
  {
   "cell_type": "code",
   "execution_count": 3,
   "metadata": {},
   "outputs": [],
   "source": [
    "K.addFrame(\"goal\", \"\", \"shape:sphere size:[0 0 0 .05] color:[.5 1 1]\" )\n",
    "K.setFrameState([1,.5,1,1,0,0,0], [\"goal\"])"
   ]
  },
  {
   "cell_type": "markdown",
   "metadata": {},
   "source": [
    "The `positionDiff` (position difference in world coordinates) between `pr2L` (the yellow blob in the left hand) and `goal` is equal to zero:"
   ]
  },
  {
   "cell_type": "code",
   "execution_count": 17,
   "metadata": {},
   "outputs": [
    {
     "data": {
      "text/plain": [
       "[{'feature': 'Transition',\n",
       "  'scale': 0.1,\n",
       "  'sos_value': 3.9658636036108907,\n",
       "  'type': 'sos'},\n",
       " {'description': 'QuaternionNorms',\n",
       "  'scale': 3.0,\n",
       "  'sos_value': 0.0,\n",
       "  'type': 'sos'},\n",
       " {'eq_sumOfAbs': 2.1966421762886768e-05,\n",
       "  'feature': 'posDiff',\n",
       "  'o1': 'pr2L',\n",
       "  'o2': 'goal',\n",
       "  'scale': 10.0,\n",
       "  'type': 'eq'}]"
      ]
     },
     "execution_count": 17,
     "metadata": {},
     "output_type": "execute_result"
    }
   ],
   "source": [
    "X0 = K.getFrameState()\n",
    "IK = K.komo_IK()\n",
    "IK.addObjective(type=OT.eq, feature=FS.positionDiff, frames=['pr2L', 'goal'])\n",
    "IK.optimize()\n",
    "K.setFrameState( IK.getConfiguration(0) )\n",
    "IK.getReport()"
   ]
  },
  {
   "cell_type": "markdown",
   "metadata": {},
   "source": [
    "The `positionDiff` between `pr2R` and `goal` is equal to zero:"
   ]
  },
  {
   "cell_type": "code",
   "execution_count": 8,
   "metadata": {},
   "outputs": [],
   "source": [
    "K.setFrameState(X0)\n",
    "IK = K.komo_IK()\n",
    "IK.addObjective(type=OT.eq, feature=FS.positionDiff, frames=['pr2R', 'goal'])\n",
    "IK.optimize()\n",
    "K.setFrameState( IK.getConfiguration(0) )"
   ]
  },
  {
   "cell_type": "markdown",
   "metadata": {},
   "source": [
    "The relative position of `goal` in `pr2R` coordinates equals [0,0,-.2] (which is 20cm straight in front of the yellow blob)"
   ]
  },
  {
   "cell_type": "code",
   "execution_count": 10,
   "metadata": {},
   "outputs": [],
   "source": [
    "K.setFrameState(X0)\n",
    "IK = K.komo_IK()\n",
    "IK.addObjective(type=OT.eq, feature=FS.positionRel, frames=['goal','pr2R'], target=[0,0,-.2])\n",
    "IK.optimize()\n",
    "K.setFrameState( IK.getConfiguration(0) )"
   ]
  },
  {
   "cell_type": "markdown",
   "metadata": {},
   "source": [
    "The distance between `pr2R` and `pr2L` is zero:"
   ]
  },
  {
   "cell_type": "code",
   "execution_count": 16,
   "metadata": {},
   "outputs": [
    {
     "data": {
      "text/plain": [
       "[{'feature': 'Transition',\n",
       "  'scale': 0.1,\n",
       "  'sos_value': 0.22540705182679216,\n",
       "  'type': 'sos'},\n",
       " {'description': 'QuaternionNorms',\n",
       "  'scale': 3.0,\n",
       "  'sos_value': 0.0,\n",
       "  'type': 'sos'},\n",
       " {'eq_sumOfAbs': 0.0010594544384697202,\n",
       "  'feature': 'dist',\n",
       "  'o1': 'pr2L',\n",
       "  'o2': 'pr2R',\n",
       "  'scale': 10.0,\n",
       "  'type': 'eq'}]"
      ]
     },
     "execution_count": 16,
     "metadata": {},
     "output_type": "execute_result"
    }
   ],
   "source": [
    "K.setFrameState(X0)\n",
    "IK = K.komo_IK()\n",
    "IK.addObjective(type=OT.eq, feature=FS.distance, frames=['pr2L','pr2R'])\n",
    "IK.optimize()\n",
    "K.setFrameState( IK.getConfiguration(0) )\n",
    "IK.getReport()"
   ]
  },
  {
   "cell_type": "markdown",
   "metadata": {},
   "source": [
    "The 3D difference between the z-vector of `pr2R` and the z-vector of `goal`:"
   ]
  },
  {
   "cell_type": "code",
   "execution_count": 13,
   "metadata": {},
   "outputs": [],
   "source": [
    "K.setFrameState(X0)\n",
    "IK = K.komo_IK()\n",
    "IK.addObjective(type=OT.eq, feature=FS.vectorZDiff, frames=['pr2R', 'goal'])\n",
    "IK.optimize()\n",
    "K.setFrameState( IK.getConfiguration(0) )"
   ]
  },
  {
   "cell_type": "markdown",
   "metadata": {},
   "source": [
    "The scalar product between the z-vector of `pr2R` and the z-vector of `goal` is zero:"
   ]
  },
  {
   "cell_type": "code",
   "execution_count": 15,
   "metadata": {},
   "outputs": [
    {
     "data": {
      "text/plain": [
       "[{'feature': 'Transition',\n",
       "  'scale': 0.1,\n",
       "  'sos_value': 0.025611028043548905,\n",
       "  'type': 'sos'},\n",
       " {'description': 'QuaternionNorms',\n",
       "  'scale': 3.0,\n",
       "  'sos_value': 0.0,\n",
       "  'type': 'sos'},\n",
       " {'eq_sumOfAbs': 0.0003845638147528252,\n",
       "  'feature': 'vecAlign',\n",
       "  'o1': 'pr2R',\n",
       "  'o2': 'goal',\n",
       "  'scale': 10.0,\n",
       "  'type': 'eq',\n",
       "  'v1': [0.0, 0.0, 1.0],\n",
       "  'v2': [0.0, 0.0, 1.0]}]"
      ]
     },
     "execution_count": 15,
     "metadata": {},
     "output_type": "execute_result"
    }
   ],
   "source": [
    "K.setFrameState(X0)\n",
    "IK = K.komo_IK()\n",
    "IK.addObjective(type=OT.eq, feature=FS.scalarProductZZ, frames=['pr2R', 'goal'])\n",
    "IK.optimize()\n",
    "K.setFrameState( IK.getConfiguration(0) )\n",
    "IK.getReport()"
   ]
  },
  {
   "cell_type": "markdown",
   "metadata": {},
   "source": [
    "etc etc"
   ]
  },
  {
   "cell_type": "markdown",
   "metadata": {},
   "source": [
    "## More explanations\n",
    "\n",
    "All methods to compute paths or configurations solve constrained optimization problems. To use them, you need to learn to define constrained optimization problems. Some definitions:\n",
    "\n",
    "* An objective defines either a sum-of-square cost term, or an equality constraint, or an inequality constraint in the optimization problem. An objective is defined by its type and its feature. The type can be `sos` (sum-of-squares), `eq`, or `ineq`, referring to the three cases.\n",
    "* A feature is a (differentiable mapping) from the decision variable (the full path, or robot configuration) to a feature space. If the feature space is, e.g., 3-dimensional, this defines 3 sum-of-squares terms, or 3 inequality, or 3 equality constraints, one for each dimension. For instance, the feature can be the 3-dim robot hand position in the 15th time slice of a path optimization problem. If you put an equality constraint on this feature, then this adds 3 equality constraints to the overall path optimization problem.\n",
    "* A feature is defined by the keyword for the feature map (e.g., `pos` for position), typically by a set of frame names that tell which objects we refer to (e.g., `pr2L` for the left hand of the pr2), optionally some modifiers (e.g., a scale or target, which linearly transform the feature map), and the set of configuration IDs or time slices the feature is to be computed from (e.g., `confs=[15]` if the feat is to be computed from the 15th time slice in a path optimization problem).\n",
    "* In path optimization problems, we often want to add objectives for a whole time interval rather than for a single time slice or specific configuration. E.g., avoid collisions from start to end. When adding objectives to the optimization problem we can specify whole intervals, with `times=[1., 2.]`, so that the objective is added to each configuration in this time interval.\n",
    "* Some features, especially velocity and acceleration, refer to a tuple of (consecutive) configurations. E.g., when you impose an acceleration feature, you need to specify `confs=[13, 14, 15]`. Or if you use `times=[1.,1.]`, the acceleration features is computed from the configuration that corresponds to time=1 and the two configurations *before*.\n",
    "* All kinematic feature maps (that depend on only one configuration) can be modified to become a velocity or acceleration features. E.g., the position feature map can be modified to become a velocity or acceleration feature.\n",
    "* The `sos`, `eq`, and `ineq` always refer to the feature map to be *zero*, e.g., constraining all features to be equal to zero with `eq`. This is natural for many features, esp. when they refer to differences (e.g. `posDiff` or `posRel`, which compute the relative position between two frames). However, when one aims to constrain the feature to a non-zero constant value, one can modify the objective with a `target` specification.\n",
    "* Finally, all features can be rescaled with a `scale` specification. Rescaling changes the costs that arise from `sos` objectives. Rescaling also has significant impact on the convergence behavior for `eq` and `ineq` constraints. As a guide: scale constraints so that if they *would* be treated as squared penalties (squaredPenalty optim mode, to be made accessible) convergence to reasonable approximate solutions is efficient. Then the AugLag will also converge efficiently to precise constraints."
   ]
  },
  {
   "cell_type": "code",
   "execution_count": null,
   "metadata": {},
   "outputs": [],
   "source": []
  }
 ],
 "metadata": {
  "kernelspec": {
   "display_name": "Python 3",
   "language": "python",
   "name": "python3"
  },
  "language_info": {
   "codemirror_mode": {
    "name": "ipython",
    "version": 3
   },
   "file_extension": ".py",
   "mimetype": "text/x-python",
   "name": "python",
   "nbconvert_exporter": "python",
   "pygments_lexer": "ipython3",
   "version": "3.5.2"
  }
 },
 "nbformat": 4,
 "nbformat_minor": 2
}
