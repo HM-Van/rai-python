{
 "cells": [
  {
   "cell_type": "code",
   "execution_count": 1,
   "metadata": {},
   "outputs": [],
   "source": [
    "import sys\n",
    "sys.path.append('../ry')\n",
    "from libry import *\n",
    "from numpy import *"
   ]
  },
  {
   "cell_type": "code",
   "execution_count": 2,
   "metadata": {},
   "outputs": [],
   "source": [
    "K = Config()\n",
    "K.addFile(\"../rai-robotModels/pr2/pr2.g\")\n",
    "K.addFile(\"../models/tables.g\")\n",
    "\n",
    "K.addFrame(\"obj0\", \"table1\", \"type:ssBox size:[.1 .1 .2 .02] color:[1. 0. 0.], contact, logical={ object }, joint:rigid, Q:<t(0 0 .15)>\" )\n",
    "K.addFrame(\"obj1\", \"table1\", \"type:ssBox size:[.1 .1 .2 .02] color:[1. 0. 0.], contact, logical={ object }, joint:rigid, Q:<t(0 .2 .15)>\" )\n",
    "K.addFrame(\"obj2\", \"table1\", \"type:ssBox size:[.1 .1 .2 .02] color:[1. 0. 0.], contact, logical={ object }, joint:rigid, Q:<t(0 .4 .15)>\" )\n",
    "K.addFrame(\"obj3\", \"table1\", \"type:ssBox size:[.1 .1 .2 .02] color:[1. 0. 0.], contact, logical={ object }, joint:rigid, Q:<t(0 .6.15)>\" )\n",
    "K.addFrame(\"tray\", \"table2\", \"type:ssBox size:[.15 .15 .04 .02] color:[0. 1. 0.], logical={ table }, Q:<t(0 0 .07)>\" );\n",
    "K.addFrame(\"\", \"tray\", \"type:ssBox size:[.27 .27 .04 .02] color:[0. 1. 0.]\" )\n",
    "V = K.view()"
   ]
  },
  {
   "cell_type": "code",
   "execution_count": 3,
   "metadata": {},
   "outputs": [
    {
     "data": {
      "text/plain": [
       "{'boundsConstraints': [0.0, 0.0, 0.0, 0.0, 0.0],\n",
       " 'boundsCost': [0.0, 0.0, 0.0, 0.0, 0.0],\n",
       " 'boundsFeasible': [1, 1, 1, 1, 1],\n",
       " 'decision': '<ROOT>',\n",
       " 'path': '',\n",
       " 'state': ' STATE_0(START_STATE) {(gripper pr2R), (gripper pr2L), (table table2), (object obj0), (object obj1), (object obj2), (object obj3), (table tray), (partOf table2 tray), (on obj0 table1), (on obj1 table1), (on obj2 table1), (on obj3 table1), }'}"
      ]
     },
     "execution_count": 3,
     "metadata": {},
     "output_type": "execute_result"
    }
   ],
   "source": [
    "lgp = K.lgp(\"../models/fol-pickAndPlace.g\")\n",
    "lgp.nodeInfo()"
   ]
  },
  {
   "cell_type": "code",
   "execution_count": 4,
   "metadata": {},
   "outputs": [
    {
     "data": {
      "text/plain": [
       "{'boundsConstraints': [0.0, 0.0, 0.0, 0.0, 0.0],\n",
       " 'boundsCost': [0.30000000000000004, 0.0, 0.0, 0.0, 0.0],\n",
       " 'boundsFeasible': [1, 1, 1, 1, 1],\n",
       " 'decision': '(place pr2R obj0 tray)',\n",
       " 'path': '(grasp pr2R obj0) (grasp pr2L obj1) (place pr2R obj0 tray) ',\n",
       " 'state': ' STATE_15(STATE_9) {(gripper pr2R), (gripper pr2L), (table table2), (object obj0), (object obj1), (object obj2), (object obj3), (table tray), (partOf table2 tray), (on obj0 table1), (on obj1 table1), (on obj2 table1), (on obj3 table1), (grasped pr2L obj1), (held obj1), (busy pr2L), (stable pr2L obj1),  decision(place pr2R obj0 tray), (placed obj0 tray), (on obj0 tray),  komo(touch pr2R obj0), (notheld obj0),  block(INFEASIBLE grasp ANY obj0),  komo(above obj0 tray), (stableOn tray obj0), }'}"
      ]
     },
     "execution_count": 4,
     "metadata": {},
     "output_type": "execute_result"
    }
   ],
   "source": [
    "lgp.walkToNode(\"(grasp pr2R obj0) (grasp pr2L obj1) (place pr2R obj0 tray)\")\n",
    "lgp.nodeInfo()"
   ]
  },
  {
   "cell_type": "code",
   "execution_count": 5,
   "metadata": {},
   "outputs": [
    {
     "data": {
      "text/plain": [
       "{'boundsConstraints': [0.0, 0.0, 0.2637363650645941, 0.0, 0.0],\n",
       " 'boundsCost': [0.30000000000000004, 0.0, 0.3125876247331927, 0.0, 0.0],\n",
       " 'boundsFeasible': [1, 1, 1, 1, 1],\n",
       " 'decision': '(place pr2R obj0 tray)',\n",
       " 'path': '(grasp pr2R obj0) (grasp pr2L obj1) (place pr2R obj0 tray) ',\n",
       " 'state': ' STATE_15(STATE_9) {(gripper pr2R), (gripper pr2L), (table table2), (object obj0), (object obj1), (object obj2), (object obj3), (table tray), (partOf table2 tray), (on obj0 table1), (on obj1 table1), (on obj2 table1), (on obj3 table1), (grasped pr2L obj1), (held obj1), (busy pr2L), (stable pr2L obj1),  decision(place pr2R obj0 tray), (placed obj0 tray), (on obj0 tray),  komo(touch pr2R obj0), (notheld obj0),  block(INFEASIBLE grasp ANY obj0),  komo(above obj0 tray), (stableOn tray obj0), }'}"
      ]
     },
     "execution_count": 5,
     "metadata": {},
     "output_type": "execute_result"
    }
   ],
   "source": [
    "lgp.optBound(BT.seq, True)\n",
    "lgp.nodeInfo()"
   ]
  },
  {
   "cell_type": "code",
   "execution_count": 6,
   "metadata": {},
   "outputs": [
    {
     "data": {
      "text/plain": [
       "{'boundsConstraints': [0.0,\n",
       "  0.0,\n",
       "  0.2637363650645941,\n",
       "  0.011257533502769073,\n",
       "  0.0],\n",
       " 'boundsCost': [0.30000000000000004,\n",
       "  0.0,\n",
       "  0.3125876247331927,\n",
       "  2.2883087635607264,\n",
       "  0.0],\n",
       " 'boundsFeasible': [1, 1, 1, 1, 1],\n",
       " 'decision': '(place pr2R obj0 tray)',\n",
       " 'path': '(grasp pr2R obj0) (grasp pr2L obj1) (place pr2R obj0 tray) ',\n",
       " 'state': ' STATE_15(STATE_9) {(gripper pr2R), (gripper pr2L), (table table2), (object obj0), (object obj1), (object obj2), (object obj3), (table tray), (partOf table2 tray), (on obj0 table1), (on obj1 table1), (on obj2 table1), (on obj3 table1), (grasped pr2L obj1), (held obj1), (busy pr2L), (stable pr2L obj1),  decision(place pr2R obj0 tray), (placed obj0 tray), (on obj0 tray),  komo(touch pr2R obj0), (notheld obj0),  block(INFEASIBLE grasp ANY obj0),  komo(above obj0 tray), (stableOn tray obj0), }'}"
      ]
     },
     "execution_count": 6,
     "metadata": {},
     "output_type": "execute_result"
    }
   ],
   "source": [
    "lgp.optBound(BT.path, True)\n",
    "lgp.nodeInfo()"
   ]
  },
  {
   "cell_type": "code",
   "execution_count": 4,
   "metadata": {},
   "outputs": [
    {
     "name": "stdout",
     "output_type": "stream",
     "text": [
      "CHECK THE CONSOLE FOR OUTPUT -- THIS IS GENERATING LOTS OF FILES\n"
     ]
    }
   ],
   "source": [
    "print(\"CHECK THE CONSOLE FOR OUTPUT -- THIS IS GENERATING LOTS OF FILES\")\n",
    "lgp.addTerminalRule(\"(on obj0 tray) (on obj1 tray) (on obj2 tray)\")\n",
    "lgp.run(2)"
   ]
  },
  {
   "cell_type": "code",
   "execution_count": null,
   "metadata": {},
   "outputs": [],
   "source": [
    "lgp=0"
   ]
  },
  {
   "cell_type": "code",
   "execution_count": null,
   "metadata": {},
   "outputs": [],
   "source": []
  }
 ],
 "metadata": {
  "kernelspec": {
   "display_name": "Python 3",
   "language": "python",
   "name": "python3"
  },
  "language_info": {
   "codemirror_mode": {
    "name": "ipython",
    "version": 3
   },
   "file_extension": ".py",
   "mimetype": "text/x-python",
   "name": "python",
   "nbconvert_exporter": "python",
   "pygments_lexer": "ipython3",
   "version": "3.5.2"
  }
 },
 "nbformat": 4,
 "nbformat_minor": 2
}
