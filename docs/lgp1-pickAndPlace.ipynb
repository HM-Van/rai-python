{
 "cells": [
  {
   "cell_type": "code",
   "execution_count": 4,
   "metadata": {},
   "outputs": [],
   "source": [
    "import sys\n",
    "sys.path.append('../ry')\n",
    "from libry import *\n",
    "from numpy import *"
   ]
  },
  {
   "cell_type": "code",
   "execution_count": 5,
   "metadata": {},
   "outputs": [],
   "source": [
    "K = Config()\n",
    "K.addFile(\"../rai-robotModels/pr2/pr2.g\")\n",
    "K.addFile(\"../models/tables.g\")\n",
    "\n",
    "K.addFrame(\"obj0\", \"table1\", \"type:ssBox size:[.1 .1 .2 .02] color:[1. 0. 0.], contact, logical={ object }, joint:rigid, Q:<t(0 0 .15)>\" )\n",
    "K.addFrame(\"obj1\", \"table1\", \"type:ssBox size:[.1 .1 .2 .02] color:[1. 0. 0.], contact, logical={ object }, joint:rigid, Q:<t(0 .2 .15)>\" )\n",
    "K.addFrame(\"obj2\", \"table1\", \"type:ssBox size:[.1 .1 .2 .02] color:[1. 0. 0.], contact, logical={ object }, joint:rigid, Q:<t(0 .4 .15)>\" )\n",
    "K.addFrame(\"obj3\", \"table1\", \"type:ssBox size:[.1 .1 .2 .02] color:[1. 0. 0.], contact, logical={ object }, joint:rigid, Q:<t(0 .6.15)>\" )\n",
    "K.addFrame(\"tray\", \"table2\", \"type:ssBox size:[.15 .15 .04 .02] color:[0. 1. 0.], logical={ table }, Q:<t(0 0 .07)>\" );\n",
    "K.addFrame(\"\", \"tray\", \"type:ssBox size:[.27 .27 .04 .02] color:[0. 1. 0.]\" )\n",
    "V = K.view()"
   ]
  },
  {
   "cell_type": "code",
   "execution_count": 6,
   "metadata": {},
   "outputs": [
    {
     "data": {
      "text/plain": [
       "{'boundsConstraints': [0.0, 0.0, 0.0, 0.0, 0.0, 0.0],\n",
       " 'boundsCost': [0.0, 0.0, 0.0, 0.0, 0.0, 0.0],\n",
       " 'boundsFeasible': [1, 1, 1, 1, 1, 1],\n",
       " 'decision': '<ROOT>',\n",
       " 'path': '',\n",
       " 'state': 'STATE_0(START_STATE):{(gripper pr2R):True, (gripper pr2L):True, (table table2):True, (object obj0):True, (object obj1):True, (object obj2):True, (object obj3):True, (table tray):True, (partOf table2 tray):True, (on obj0 table1):True, (on obj1 table1):True, (on obj2 table1):True, (on obj3 table1):True}'}"
      ]
     },
     "execution_count": 6,
     "metadata": {},
     "output_type": "execute_result"
    }
   ],
   "source": [
    "lgp = K.lgp(\"../models/fol-pickAndPlace.g\")\n",
    "lgp.nodeInfo()\n",
    "# this writes the initial state, which is important to check:\n",
    "# do the grippers have the gripper predicate, do all objects have the object predicate, and tables the table predicate? These need to be set using a 'logical' attribute in the g-file\n",
    "# the on predicate should automatically be generated based on the configuration"
   ]
  },
  {
   "cell_type": "code",
   "execution_count": 7,
   "metadata": {},
   "outputs": [
    {
     "data": {
      "text/plain": [
       "['(grasp pr2R obj0)',\n",
       " '(grasp pr2R obj1)',\n",
       " '(grasp pr2R obj2)',\n",
       " '(grasp pr2R obj3)',\n",
       " '(grasp pr2L obj0)',\n",
       " '(grasp pr2L obj1)',\n",
       " '(grasp pr2L obj2)',\n",
       " '(grasp pr2L obj3)']"
      ]
     },
     "execution_count": 7,
     "metadata": {},
     "output_type": "execute_result"
    }
   ],
   "source": [
    "lgp.getDecisions()\n",
    "# This is also useful to check: inspect all decisions possible in this node, which expands the node.\n",
    "# If there is no good decisions, the FOL rules are buggy"
   ]
  },
  {
   "cell_type": "code",
   "execution_count": 8,
   "metadata": {},
   "outputs": [
    {
     "data": {
      "text/plain": [
       "{'boundsConstraints': [0.0, 0.0, 0.0, 0.0, 0.0, 0.0],\n",
       " 'boundsCost': [0.1, 0.0, 0.0, 0.0, 0.0, 0.0],\n",
       " 'boundsFeasible': [1, 1, 1, 1, 1, 1],\n",
       " 'decision': '(grasp pr2R obj3)',\n",
       " 'path': '(grasp pr2R obj3) ',\n",
       " 'state': 'STATE_4(STATE_0):{(gripper pr2R):True, (gripper pr2L):True, (table table2):True, (object obj0):True, (object obj1):True, (object obj2):True, (object obj3):True, (table tray):True, (partOf table2 tray):True, (on obj0 table1):True, (on obj1 table1):True, (on obj2 table1):True, (on obj3 table1):True, decision(grasp pr2R obj3):True, (grasped pr2R obj3):True, (held obj3):True, (busy pr2R):True, komo(touch pr2R obj3):True, (stable pr2R obj3):True}'}"
      ]
     },
     "execution_count": 8,
     "metadata": {},
     "output_type": "execute_result"
    }
   ],
   "source": [
    "lgp.walkToDecision(3)\n",
    "lgp.nodeInfo()\n",
    "# Using getDecisions and walkToDecision and walkToParent, you can walk to anywhere in the tree by hand"
   ]
  },
  {
   "cell_type": "code",
   "execution_count": 9,
   "metadata": {},
   "outputs": [],
   "source": [
    "lgp.viewTree()"
   ]
  },
  {
   "cell_type": "code",
   "execution_count": 10,
   "metadata": {},
   "outputs": [
    {
     "data": {
      "text/plain": [
       "{'boundsConstraints': [0.0, 0.0, 0.0, 0.0, 0.0, 0.0],\n",
       " 'boundsCost': [0.30000000000000004, 0.0, 0.0, 0.0, 0.0, 0.0],\n",
       " 'boundsFeasible': [1, 1, 1, 1, 1, 1],\n",
       " 'decision': '(place pr2R obj0 tray)',\n",
       " 'path': '(grasp pr2R obj0) (grasp pr2L obj1) (place pr2R obj0 tray) ',\n",
       " 'state': 'STATE_15(STATE_9):{(gripper pr2R):True, (gripper pr2L):True, (table table2):True, (object obj0):True, (object obj1):True, (object obj2):True, (object obj3):True, (table tray):True, (partOf table2 tray):True, (on obj0 table1):True, (on obj1 table1):True, (on obj2 table1):True, (on obj3 table1):True, (grasped pr2L obj1):True, (held obj1):True, (busy pr2L):True, (stable pr2L obj1):True, decision(place pr2R obj0 tray):True, (placed obj0 tray):True, (on obj0 tray):True, komo(touch pr2R obj0):True, (notheld obj0):True, block(INFEASIBLE grasp ANY obj0):True, komo(above obj0 tray):True, (stableOn tray obj0):True}'}"
      ]
     },
     "execution_count": 10,
     "metadata": {},
     "output_type": "execute_result"
    }
   ],
   "source": [
    "lgp.walkToNode(\"(grasp pr2R obj0) (grasp pr2L obj1) (place pr2R obj0 tray)\")\n",
    "lgp.nodeInfo()"
   ]
  },
  {
   "cell_type": "code",
   "execution_count": 11,
   "metadata": {},
   "outputs": [
    {
     "data": {
      "text/plain": [
       "{'boundsConstraints': [0.0, 0.0, 0.0032115672861163964, 0.0, 0.0, 0.0],\n",
       " 'boundsCost': [0.30000000000000004, 0.0, 0.3148222643599409, 0.0, 0.0, 0.0],\n",
       " 'boundsFeasible': [1, 1, 1, 1, 1, 1],\n",
       " 'decision': '(place pr2R obj0 tray)',\n",
       " 'path': '(grasp pr2R obj0) (grasp pr2L obj1) (place pr2R obj0 tray) ',\n",
       " 'state': 'STATE_15(STATE_9):{(gripper pr2R):True, (gripper pr2L):True, (table table2):True, (object obj0):True, (object obj1):True, (object obj2):True, (object obj3):True, (table tray):True, (partOf table2 tray):True, (on obj0 table1):True, (on obj1 table1):True, (on obj2 table1):True, (on obj3 table1):True, (grasped pr2L obj1):True, (held obj1):True, (busy pr2L):True, (stable pr2L obj1):True, decision(place pr2R obj0 tray):True, (placed obj0 tray):True, (on obj0 tray):True, komo(touch pr2R obj0):True, (notheld obj0):True, block(INFEASIBLE grasp ANY obj0):True, komo(above obj0 tray):True, (stableOn tray obj0):True}'}"
      ]
     },
     "execution_count": 11,
     "metadata": {},
     "output_type": "execute_result"
    }
   ],
   "source": [
    "# at a node, you can compute bounds, namely BT.seq (just key frames), BT.path (the full path),\n",
    "# and BT.setPath (also the full path, but seeded with the BT.seq result)\n",
    "lgp.optBound(BT.seq, True)\n",
    "lgp.nodeInfo()"
   ]
  },
  {
   "cell_type": "code",
   "execution_count": 12,
   "metadata": {},
   "outputs": [],
   "source": [
    "komo = lgp.getKOMOforBound(BT.seq)\n",
    "komo.display()"
   ]
  },
  {
   "cell_type": "code",
   "execution_count": 13,
   "metadata": {},
   "outputs": [],
   "source": [
    "komo=0"
   ]
  },
  {
   "cell_type": "code",
   "execution_count": 14,
   "metadata": {},
   "outputs": [
    {
     "data": {
      "text/plain": [
       "{'boundsConstraints': [0.0,\n",
       "  0.0,\n",
       "  0.0032115672861163964,\n",
       "  0.031238032217880213,\n",
       "  0.0,\n",
       "  0.0],\n",
       " 'boundsCost': [0.30000000000000004,\n",
       "  0.0,\n",
       "  0.3148222643599409,\n",
       "  2.3963050901119347,\n",
       "  0.0,\n",
       "  0.0],\n",
       " 'boundsFeasible': [1, 1, 1, 1, 1, 1],\n",
       " 'decision': '(place pr2R obj0 tray)',\n",
       " 'path': '(grasp pr2R obj0) (grasp pr2L obj1) (place pr2R obj0 tray) ',\n",
       " 'state': 'STATE_15(STATE_9):{(gripper pr2R):True, (gripper pr2L):True, (table table2):True, (object obj0):True, (object obj1):True, (object obj2):True, (object obj3):True, (table tray):True, (partOf table2 tray):True, (on obj0 table1):True, (on obj1 table1):True, (on obj2 table1):True, (on obj3 table1):True, (grasped pr2L obj1):True, (held obj1):True, (busy pr2L):True, (stable pr2L obj1):True, decision(place pr2R obj0 tray):True, (placed obj0 tray):True, (on obj0 tray):True, komo(touch pr2R obj0):True, (notheld obj0):True, block(INFEASIBLE grasp ANY obj0):True, komo(above obj0 tray):True, (stableOn tray obj0):True}'}"
      ]
     },
     "execution_count": 14,
     "metadata": {},
     "output_type": "execute_result"
    }
   ],
   "source": [
    "lgp.optBound(BT.path, True)\n",
    "lgp.nodeInfo()"
   ]
  },
  {
   "cell_type": "code",
   "execution_count": 12,
   "metadata": {},
   "outputs": [],
   "source": [
    "lgp.viewTree()"
   ]
  },
  {
   "cell_type": "code",
   "execution_count": 13,
   "metadata": {},
   "outputs": [
    {
     "name": "stdout",
     "output_type": "stream",
     "text": [
      "THIS RUNS A THREAD. CHECK THE CONSOLE FOR OUTPUT. THIS IS GENERATING LOTS OF FILES.\n"
     ]
    }
   ],
   "source": [
    "# finally, the full multi-bound tree search (MBTS)\n",
    "# you typically want to add termination rules, i.e., symbolic goals\n",
    "print(\"THIS RUNS A THREAD. CHECK THE CONSOLE FOR OUTPUT. THIS IS GENERATING LOTS OF FILES.\")\n",
    "lgp.addTerminalRule(\"(on obj0 tray) (on obj1 tray) (on obj2 tray)\")\n",
    "lgp.run(2)"
   ]
  },
  {
   "cell_type": "code",
   "execution_count": 16,
   "metadata": {},
   "outputs": [
    {
     "data": {
      "text/plain": [
       "6"
      ]
     },
     "execution_count": 16,
     "metadata": {},
     "output_type": "execute_result"
    }
   ],
   "source": [
    "# wait until you have some number of solutions found (repeat executing this line...)\n",
    "lgp.numSolutions()"
   ]
  },
  {
   "cell_type": "code",
   "execution_count": 17,
   "metadata": {},
   "outputs": [
    {
     "data": {
      "text/plain": [
       "[{'description': 'qItself:ALL',\n",
       "  'scale': 0.01,\n",
       "  'sos_value': 311.7586037813418,\n",
       "  'type': 'sos'},\n",
       " {'feature': 'Transition',\n",
       "  'scale': 1.0,\n",
       "  'sos_value': 5.7627225710742875,\n",
       "  'type': 'sos'},\n",
       " {'description': 'QuaternionNorms',\n",
       "  'scale': 3.0,\n",
       "  'sos_value': 2.6632289146511483e-08,\n",
       "  'type': 'sos'},\n",
       " {'description': 'qItself:ALL',\n",
       "  'scale': 0.1,\n",
       "  'sos_value': 17.153935748334586,\n",
       "  'target': [-0.5740060146016434,\n",
       "   1.2973250801277876,\n",
       "   0.6109984890503489,\n",
       "   0.10022732628204395,\n",
       "   0.017727921664832856,\n",
       "   0.0074533251120756875,\n",
       "   0.06326422184254125,\n",
       "   0.5394272241388459,\n",
       "   0.40016654821805525,\n",
       "   0.37290068370807233,\n",
       "   0.3526814231414411,\n",
       "   -0.8895910522857582,\n",
       "   1.0092934683688293,\n",
       "   -0.9347986071108706,\n",
       "   -1.9951059105087443,\n",
       "   -2.0955185934254237,\n",
       "   1.495328108352624,\n",
       "   -0.26331314961800056,\n",
       "   -0.4762406336462278,\n",
       "   -0.39143469060400515,\n",
       "   0.4980697392311131,\n",
       "   -0.021210868144617877,\n",
       "   0.08292596142376496,\n",
       "   -0.07838777465295627,\n",
       "   -0.48588729345126,\n",
       "   -0.5772407200202779,\n",
       "   -0.4083923630426026,\n",
       "   0.5137283776837698,\n",
       "   0.10765219867348981,\n",
       "   0.11099918160676087,\n",
       "   0.01950168779759604,\n",
       "   0.012981166391901578],\n",
       "  'type': 'sos'},\n",
       " {'description': 'qItself:ALL',\n",
       "  'scale': 0.1,\n",
       "  'sos_value': 21.707437062319478,\n",
       "  'target': [-0.33537707184040166,\n",
       "   1.121953064567471,\n",
       "   0.5046138347967019,\n",
       "   0.10045454055561308,\n",
       "   0.006644169044821952,\n",
       "   0.011686522258067175,\n",
       "   -1.009029131658226,\n",
       "   1.5218322750002835,\n",
       "   0.4080178180921964,\n",
       "   0.4591761794501523,\n",
       "   0.273265539547054,\n",
       "   -1.0264354132758986,\n",
       "   1.1443010511779284,\n",
       "   -2.005428377804366,\n",
       "   -1.4021487367466536,\n",
       "   -1.5370046622621605,\n",
       "   1.10985204590428,\n",
       "   -0.5235947879092385,\n",
       "   -0.711016695525074,\n",
       "   -0.5212946151267094,\n",
       "   0.8218344464511899,\n",
       "   -0.02121096425456517,\n",
       "   0.08292472086474952,\n",
       "   -0.0783873555827605,\n",
       "   -0.48588648649703053,\n",
       "   -0.5772415752832913,\n",
       "   -0.40839262946152305,\n",
       "   0.5137279906057127,\n",
       "   0.08752881830114397,\n",
       "   0.02528870758555071,\n",
       "   0.10189000713165296,\n",
       "   -0.08201707793036932,\n",
       "   0.7556294092583435,\n",
       "   0.6438675346656526,\n",
       "   0.09580740749116615,\n",
       "   -0.07278113003625625,\n",
       "   0.11165479370976987,\n",
       "   0.01571546801329618,\n",
       "   0.0070996276526510485],\n",
       "  'type': 'sos'},\n",
       " {'description': 'qItself:ALL',\n",
       "  'scale': 0.1,\n",
       "  'sos_value': 19.792703259749135,\n",
       "  'target': [1.2511569399328097,\n",
       "   -0.045897388058070025,\n",
       "   0.3260507422503818,\n",
       "   0.06009538086353678,\n",
       "   -0.06120760773432156,\n",
       "   1.1252211075928802,\n",
       "   0.10066927129400766,\n",
       "   0.0009419520083538089,\n",
       "   -0.006332835056359703,\n",
       "   -0.9123741908186904,\n",
       "   1.0067851734896398,\n",
       "   0.41457821597775246,\n",
       "   0.35373452501669755,\n",
       "   0.5192506173060578,\n",
       "   -1.1701259570906721,\n",
       "   0.9920950936997501,\n",
       "   -1.5434889703754493,\n",
       "   -2.017434982953378,\n",
       "   -1.508933397302474,\n",
       "   1.5008425934423406,\n",
       "   -0.40111963539741713,\n",
       "   -0.48492451619656457,\n",
       "   -0.6188501780519927,\n",
       "   0.5056067656739244,\n",
       "   0.09821666929888506,\n",
       "   0.025346626233688486,\n",
       "   0.10202260001720843,\n",
       "   -0.08193031648224242,\n",
       "   0.7556216647896619,\n",
       "   0.6438755053860346,\n",
       "   0.09581610719553019,\n",
       "   -0.07279395830656,\n",
       "   0.10077393637456074,\n",
       "   0.03198266157793289,\n",
       "   0.011874807942944956],\n",
       "  'type': 'sos'},\n",
       " {'description': 'qItself:ALL',\n",
       "  'scale': 0.1,\n",
       "  'sos_value': 17.418854972570976,\n",
       "  'target': [1.223468800289564,\n",
       "   -0.49023981673384626,\n",
       "   -0.12278185174189828,\n",
       "   0.06010037312241645,\n",
       "   -0.06120782465948425,\n",
       "   1.12522109688733,\n",
       "   0.05616389577883068,\n",
       "   0.06449675364552865,\n",
       "   1.1135341345289596,\n",
       "   0.10087953693980853,\n",
       "   0.01043844317900748,\n",
       "   0.005303131647663267,\n",
       "   -0.9978280137091231,\n",
       "   1.0690286849946282,\n",
       "   0.41669723274258513,\n",
       "   0.49508018429071027,\n",
       "   0.21773345601396238,\n",
       "   -1.010367250886412,\n",
       "   0.9797082907502372,\n",
       "   -2.0044864085820304,\n",
       "   -1.1393156243669922,\n",
       "   -1.5072035608653975,\n",
       "   1.713963238289548,\n",
       "   -0.5052502088689554,\n",
       "   -0.5985351415960607,\n",
       "   -0.4982121829408704,\n",
       "   0.36410130507305133,\n",
       "   0.08027416552463698,\n",
       "   0.08486306854170432,\n",
       "   0.015975609718037905,\n",
       "   -0.0009160234060487056],\n",
       "  'type': 'sos'},\n",
       " {'description': 'qItself:ALL',\n",
       "  'scale': 0.1,\n",
       "  'sos_value': 24.0059006984679,\n",
       "  'target': [-0.41519081347516057,\n",
       "   1.1001327331492603,\n",
       "   0.5200232111856025,\n",
       "   0.060103450253782775,\n",
       "   -0.06120794118789653,\n",
       "   1.1252210839953913,\n",
       "   0.0561750729452598,\n",
       "   0.06450892892072857,\n",
       "   1.113532776973265,\n",
       "   0.10104543909336,\n",
       "   0.007320789455545228,\n",
       "   -0.009483876182727405,\n",
       "   -0.9992477915848506,\n",
       "   1.6483148288426375,\n",
       "   0.3837746663203557,\n",
       "   0.5048201619845383,\n",
       "   0.16197541343588764,\n",
       "   -0.9988562755763236,\n",
       "   1.1677542439914907,\n",
       "   -2.0201007434123337,\n",
       "   -1.4323166617993301,\n",
       "   -1.496681548178295,\n",
       "   1.303477454550765,\n",
       "   -0.5017880269578655,\n",
       "   -0.820349292976522,\n",
       "   -0.4981928236728768,\n",
       "   0.9105302164517891,\n",
       "   0.10424703392204422,\n",
       "   -0.008727467343404962,\n",
       "   0.09311804182857425,\n",
       "   -0.09623400063237297,\n",
       "   0.8225889494391974,\n",
       "   0.5189864328335342,\n",
       "   0.233112518962839,\n",
       "   -0.006304249201709447,\n",
       "   0.09665966959333744,\n",
       "   -0.0018838627733028656,\n",
       "   0.0035052844824053258],\n",
       "  'type': 'sos'},\n",
       " {'description': 'qItself:ALL',\n",
       "  'scale': 0.1,\n",
       "  'sos_value': 20.8438787492775,\n",
       "  'target': [1.0995287379357637,\n",
       "   -0.32152444864656066,\n",
       "   -0.18098114821882197,\n",
       "   0.06010491617126685,\n",
       "   -0.061207991664325626,\n",
       "   1.1252210757559853,\n",
       "   0.05618509262186092,\n",
       "   0.06451361391670593,\n",
       "   1.113532224293306,\n",
       "   -0.06500496525019256,\n",
       "   0.06499711522308307,\n",
       "   0.7263279162570913,\n",
       "   0.10115950870126807,\n",
       "   -0.003813422365137808,\n",
       "   -0.0005281456319996826,\n",
       "   -1.0006193143458577,\n",
       "   1.036533346813866,\n",
       "   0.4089247981092689,\n",
       "   0.5101422363589105,\n",
       "   0.09772916584194409,\n",
       "   -1.0016496668840822,\n",
       "   1.1046522775207395,\n",
       "   -1.9979740737500926,\n",
       "   -1.2956817088689467,\n",
       "   -1.5209226618437206,\n",
       "   1.7445069580654142,\n",
       "   -0.488150155937103,\n",
       "   -0.7779625917940628,\n",
       "   -0.5095054677014,\n",
       "   0.4769490293851657,\n",
       "   0.11730692784216627,\n",
       "   0.09359573917790126,\n",
       "   0.022786707389270716,\n",
       "   0.00665880696191386],\n",
       "  'type': 'sos'},\n",
       " {'description': 'ZeroQVel-obj0',\n",
       "  'eq_sumOfAbs': 0.000365961296672504,\n",
       "  'scale': 30.0,\n",
       "  'type': 'eq'},\n",
       " {'description': 'LinAngVel-2-obj0',\n",
       "  'eq_sumOfAbs': 9.232887575599373e-06,\n",
       "  'scale': 100.0,\n",
       "  'type': 'eq'},\n",
       " {'description': 'ZeroQVel-obj1',\n",
       "  'eq_sumOfAbs': 0.001442446191470239,\n",
       "  'scale': 30.0,\n",
       "  'type': 'eq'},\n",
       " {'description': 'LinAngVel-2-obj1',\n",
       "  'eq_sumOfAbs': 5.5647325056766705e-05,\n",
       "  'scale': 100.0,\n",
       "  'type': 'eq'},\n",
       " {'description': 'ZeroQVel-obj0',\n",
       "  'eq_sumOfAbs': 0.000230065417232167,\n",
       "  'scale': 30.0,\n",
       "  'type': 'eq'},\n",
       " {'description': 'LinAngVel-2-obj0',\n",
       "  'eq_sumOfAbs': 4.577003440680335e-05,\n",
       "  'scale': 100.0,\n",
       "  'type': 'eq'},\n",
       " {'description': 'ZeroQVel-obj1',\n",
       "  'eq_sumOfAbs': 0.000663257047809826,\n",
       "  'scale': 30.0,\n",
       "  'type': 'eq'},\n",
       " {'description': 'LinAngVel-2-obj1',\n",
       "  'eq_sumOfAbs': 7.027721284578087e-05,\n",
       "  'scale': 100.0,\n",
       "  'type': 'eq'},\n",
       " {'description': 'ZeroQVel-obj2',\n",
       "  'eq_sumOfAbs': 0.0002569955307329362,\n",
       "  'scale': 30.0,\n",
       "  'type': 'eq'},\n",
       " {'description': 'LinAngVel-2-obj2',\n",
       "  'eq_sumOfAbs': 9.997512844941037e-05,\n",
       "  'scale': 100.0,\n",
       "  'type': 'eq'},\n",
       " {'description': 'ZeroQVel-obj2',\n",
       "  'eq_sumOfAbs': 0.00010000510412996877,\n",
       "  'scale': 30.0,\n",
       "  'type': 'eq'},\n",
       " {'description': 'LinAngVel-2-obj2',\n",
       "  'eq_sumOfAbs': 4.4471253757296996e-05,\n",
       "  'scale': 100.0,\n",
       "  'type': 'eq'},\n",
       " {'eq_sumOfAbs': 1.6846191291768065e-06,\n",
       "  'feature': 'dist',\n",
       "  'o1': 'pr2R',\n",
       "  'o2': 'obj0',\n",
       "  'scale': 100.0,\n",
       "  'type': 'eq'},\n",
       " {'eq_sumOfAbs': 9.263807069724225e-05,\n",
       "  'feature': 'dist',\n",
       "  'o1': 'pr2L',\n",
       "  'o2': 'obj1',\n",
       "  'scale': 100.0,\n",
       "  'type': 'eq'},\n",
       " {'eq_sumOfAbs': 1.0302509916116503e-05,\n",
       "  'feature': 'dist',\n",
       "  'o1': 'pr2R',\n",
       "  'o2': 'obj0',\n",
       "  'scale': 100.0,\n",
       "  'type': 'eq'},\n",
       " {'feature': 'above',\n",
       "  'o1': 'obj0',\n",
       "  'o2': 'tray',\n",
       "  'scale': 10.0,\n",
       "  'type': 'ineq'},\n",
       " {'eq_sumOfAbs': 0.0005579618735160156,\n",
       "  'feature': 'dist',\n",
       "  'o1': 'pr2L',\n",
       "  'o2': 'obj1',\n",
       "  'scale': 100.0,\n",
       "  'type': 'eq'},\n",
       " {'feature': 'above',\n",
       "  'o1': 'obj1',\n",
       "  'o2': 'tray',\n",
       "  'scale': 10.0,\n",
       "  'type': 'ineq'},\n",
       " {'eq_sumOfAbs': 2.371726298022389e-05,\n",
       "  'feature': 'dist',\n",
       "  'o1': 'pr2L',\n",
       "  'o2': 'obj2',\n",
       "  'scale': 100.0,\n",
       "  'type': 'eq'},\n",
       " {'feature': 'above',\n",
       "  'o1': 'obj2',\n",
       "  'o2': 'tray',\n",
       "  'scale': 10.0,\n",
       "  'type': 'ineq'},\n",
       " {'eq_sumOfAbs': 0.0192563909600389,\n",
       "  'feature': 'ProxyCost',\n",
       "  'scale': 10.0,\n",
       "  'type': 'eq'}]"
      ]
     },
     "execution_count": 17,
     "metadata": {},
     "output_type": "execute_result"
    }
   ],
   "source": [
    "# query the optimization features of the 0. solution\n",
    "lgp.getReport(0, BT.seqPath)"
   ]
  },
  {
   "cell_type": "code",
   "execution_count": 20,
   "metadata": {},
   "outputs": [],
   "source": [
    "# get the KOMO object for the seqPath computation of the 0. solution\n",
    "komo = lgp.getKOMO(0, BT.seqPath)"
   ]
  },
  {
   "cell_type": "code",
   "execution_count": 21,
   "metadata": {},
   "outputs": [],
   "source": [
    "komo.displayTrajectory() #SOOO SLOOOW (TODO: add parameter for display speed)"
   ]
  },
  {
   "cell_type": "code",
   "execution_count": 22,
   "metadata": {},
   "outputs": [],
   "source": [
    "# assign K to the 20. configuration of the 0. solution, check display\n",
    "# you can now query anything (joint state, frame state, features)\n",
    "X = komo.getConfiguration(20)\n",
    "K.setFrameState(X) "
   ]
  },
  {
   "cell_type": "code",
   "execution_count": 19,
   "metadata": {},
   "outputs": [],
   "source": [
    "lgp.stop() #stops the thread... takes a while to finish the current job"
   ]
  },
  {
   "cell_type": "code",
   "execution_count": 19,
   "metadata": {},
   "outputs": [],
   "source": [
    "lgp.run(2) #will continue where it stopped"
   ]
  },
  {
   "cell_type": "code",
   "execution_count": null,
   "metadata": {},
   "outputs": [],
   "source": [
    "komo=0\n",
    "lgp=0"
   ]
  },
  {
   "cell_type": "code",
   "execution_count": null,
   "metadata": {},
   "outputs": [],
   "source": []
  },
  {
   "cell_type": "code",
   "execution_count": 1,
   "metadata": {},
   "outputs": [],
   "source": [
    "import sys\n",
    "sys.path.append('../ry')\n",
    "from libry import *\n",
    "\n",
    "K = Config()\n",
    "D = K.view()\n",
    "\n",
    "K.addFile('../test/lgp-example.g');\n",
    "\n",
    "lgp = K.lgp(\"../test/fol.g\");"
   ]
  },
  {
   "cell_type": "code",
   "execution_count": 2,
   "metadata": {},
   "outputs": [
    {
     "name": "stdout",
     "output_type": "stream",
     "text": [
      "{'boundsFeasible': [1, 1, 1, 1, 1, 1], 'state': 'STATE_50(STATE_46):{(table table1):True, (object redBall):True, (gripper baxterR):True, (object baxterR):True, (moves baxterR):True, (gripper baxterL):True, (object baxterL):True, (moves baxterL):True, (object stick):True, (object stickTip):True, (pusher stickTip):True, (partOf stick stickTip):True, (partOf stickTip stick):True, (on redBall table1):True, (on stick table1):True, (on stickTip table1):True, (grasped baxterR stick):True, (held stick):True, (animate stick):True, (busy baxterR):True, (stable baxterR stick):True, (held stickTip):True, (animate stickTip):True, (animate redBall):True, decision(grasp baxterL redBall):True, (grasped baxterL redBall):True, (held redBall):True, (busy baxterL):True, komo(flagClear redBall):True, komo(touch baxterL redBall):True, (stable baxterL redBall):True, komo(liftDownUp baxterL):True, (QUIT):True}', 'decision': '(grasp baxterL redBall)', 'boundsCost': [0.30000000000000004, 0.0, 0.0, 0.0, 0.0, 0.0], 'boundsConstraints': [0.0, 0.0, 0.0, 0.0, 0.0, 0.0], 'path': '(grasp baxterR stick) (push stickTip redBall table1) (grasp baxterL redBall) '}\n"
     ]
    }
   ],
   "source": [
    "lgp.walkToNode(\"(grasp baxterR stick) (push stickTip redBall table1) (grasp baxterL redBall) \");\n",
    "print(lgp.nodeInfo())"
   ]
  },
  {
   "cell_type": "code",
   "execution_count": 3,
   "metadata": {},
   "outputs": [
    {
     "ename": "RuntimeError",
     "evalue": "objective.cpp:setCostSpecs:17(-2) CHECK_GE failed: 'toStep'=1 'fromStep'=2 -- ",
     "output_type": "error",
     "traceback": [
      "\u001b[0;31m---------------------------------------------------------------------------\u001b[0m",
      "\u001b[0;31mRuntimeError\u001b[0m                              Traceback (most recent call last)",
      "\u001b[0;32m<ipython-input-3-4531c45ab535>\u001b[0m in \u001b[0;36m<module>\u001b[0;34m()\u001b[0m\n\u001b[0;32m----> 1\u001b[0;31m \u001b[0mlgp\u001b[0m\u001b[0;34m.\u001b[0m\u001b[0moptBound\u001b[0m\u001b[0;34m(\u001b[0m\u001b[0mBT\u001b[0m\u001b[0;34m.\u001b[0m\u001b[0mpose\u001b[0m\u001b[0;34m,\u001b[0m \u001b[0;32mTrue\u001b[0m\u001b[0;34m)\u001b[0m\u001b[0;34m;\u001b[0m\u001b[0;34m\u001b[0m\u001b[0m\n\u001b[0m",
      "\u001b[0;31mRuntimeError\u001b[0m: objective.cpp:setCostSpecs:17(-2) CHECK_GE failed: 'toStep'=1 'fromStep'=2 -- "
     ]
    }
   ],
   "source": [
    "lgp.optBound(BT.pose, True);"
   ]
  },
  {
   "cell_type": "code",
   "execution_count": null,
   "metadata": {},
   "outputs": [],
   "source": [
    "komo = lgp.getKOMOforBound(BT.path)\n",
    "komo.display()\n",
    "\n",
    "input(\"Press Enter to continue...\")"
   ]
  },
  {
   "cell_type": "code",
   "execution_count": null,
   "metadata": {},
   "outputs": [],
   "source": []
  }
 ],
 "metadata": {
  "kernelspec": {
   "display_name": "Python 3",
   "language": "python",
   "name": "python3"
  },
  "language_info": {
   "codemirror_mode": {
    "name": "ipython",
    "version": 3
   },
   "file_extension": ".py",
   "mimetype": "text/x-python",
   "name": "python",
   "nbconvert_exporter": "python",
   "pygments_lexer": "ipython3",
   "version": "3.5.2"
  }
 },
 "nbformat": 4,
 "nbformat_minor": 2
}
