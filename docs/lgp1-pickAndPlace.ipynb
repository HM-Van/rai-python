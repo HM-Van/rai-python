{
 "cells": [
  {
   "cell_type": "code",
   "execution_count": 1,
   "metadata": {},
   "outputs": [],
   "source": [
    "import sys\n",
    "sys.path.append('../rai/rai/ry')\n",
    "import numpy as np\n",
    "import libry as ry"
   ]
  },
  {
   "cell_type": "code",
   "execution_count": 2,
   "metadata": {},
   "outputs": [],
   "source": [
    "K = ry.Config()\n",
    "K.addFile(\"../rai-robotModels/pr2/pr2.g\")\n",
    "K.addFile(\"../models/tables.g\")\n",
    "\n",
    "K.addFrame(\"obj0\", \"table1\", \"type:ssBox size:[.1 .1 .2 .02] color:[1. 0. 0.], contact, logical={ object }, joint:rigid, Q:<t(0 0 .15)>\" )\n",
    "K.addFrame(\"obj1\", \"table1\", \"type:ssBox size:[.1 .1 .2 .02] color:[1. 0. 0.], contact, logical={ object }, joint:rigid, Q:<t(0 .2 .15)>\" )\n",
    "K.addFrame(\"obj2\", \"table1\", \"type:ssBox size:[.1 .1 .2 .02] color:[1. 0. 0.], contact, logical={ object }, joint:rigid, Q:<t(0 .4 .15)>\" )\n",
    "K.addFrame(\"obj3\", \"table1\", \"type:ssBox size:[.1 .1 .2 .02] color:[1. 0. 0.], contact, logical={ object }, joint:rigid, Q:<t(0 .6.15)>\" )\n",
    "K.addFrame(\"tray\", \"table2\", \"type:ssBox size:[.15 .15 .04 .02] color:[0. 1. 0.], logical={ table }, Q:<t(0 0 .07)>\" );\n",
    "K.addFrame(\"\", \"tray\", \"type:ssBox size:[.27 .27 .04 .02] color:[0. 1. 0.]\" )\n",
    "V = K.view()"
   ]
  },
  {
   "cell_type": "code",
   "execution_count": 3,
   "metadata": {},
   "outputs": [
    {
     "data": {
      "text/plain": [
       "{'boundsConstraints': [0.0, 0.0, 0.0, 0.0, 0.0, 0.0],\n",
       " 'boundsCost': [0.0, 0.0, 0.0, 0.0, 0.0, 0.0],\n",
       " 'boundsFeasible': [1, 1, 1, 1, 1, 1],\n",
       " 'decision': '<ROOT>',\n",
       " 'path': '',\n",
       " 'state': 'STATE_0(START_STATE):{(gripper pr2R):True, (initial pr2R):True, (gripper pr2L):True, (initial pr2L):True, (initial table1):True, (table table2):True, (initial table2):True, (initial table3):True, (object obj0):True, (initial obj0):True, (object obj1):True, (initial obj1):True, (object obj2):True, (initial obj2):True, (object obj3):True, (initial obj3):True, (table tray):True, (initial tray):True, (partOf table2 tray):True, (on table1 obj0):True, (on table1 obj1):True, (on table1 obj2):True, (on table1 obj3):True}'}"
      ]
     },
     "execution_count": 3,
     "metadata": {},
     "output_type": "execute_result"
    }
   ],
   "source": [
    "lgp = K.lgp(\"../models/fol-pickAndPlace.g\")\n",
    "lgp.nodeInfo()\n",
    "# this writes the initial state, which is important to check:\n",
    "# do the grippers have the gripper predicate, do all objects have the object predicate, and tables the table predicate? These need to be set using a 'logical' attribute in the g-file\n",
    "# the on predicate should automatically be generated based on the configuration"
   ]
  },
  {
   "cell_type": "code",
   "execution_count": 4,
   "metadata": {},
   "outputs": [
    {
     "data": {
      "text/plain": [
       "['(grasp pr2R obj0)',\n",
       " '(grasp pr2R obj1)',\n",
       " '(grasp pr2R obj2)',\n",
       " '(grasp pr2R obj3)',\n",
       " '(grasp pr2L obj0)',\n",
       " '(grasp pr2L obj1)',\n",
       " '(grasp pr2L obj2)',\n",
       " '(grasp pr2L obj3)']"
      ]
     },
     "execution_count": 4,
     "metadata": {},
     "output_type": "execute_result"
    }
   ],
   "source": [
    "lgp.getDecisions()\n",
    "# This is also useful to check: inspect all decisions possible in this node, which expands the node.\n",
    "# If there is no good decisions, the FOL rules are buggy"
   ]
  },
  {
   "cell_type": "code",
   "execution_count": 5,
   "metadata": {},
   "outputs": [
    {
     "data": {
      "text/plain": [
       "{'boundsConstraints': [0.0, 0.0, 0.0, 0.0, 0.0, 0.0],\n",
       " 'boundsCost': [0.1, 0.0, 0.0, 0.0, 0.0, 0.0],\n",
       " 'boundsFeasible': [1, 1, 1, 1, 1, 1],\n",
       " 'decision': '(grasp pr2R obj3)',\n",
       " 'path': '(grasp pr2R obj3) ',\n",
       " 'state': 'STATE_4(STATE_0):{(gripper pr2R):True, (initial pr2R):True, (gripper pr2L):True, (initial pr2L):True, (initial table1):True, (table table2):True, (initial table2):True, (initial table3):True, (object obj0):True, (initial obj0):True, (object obj1):True, (initial obj1):True, (object obj2):True, (initial obj2):True, (object obj3):True, (initial obj3):True, (table tray):True, (initial tray):True, (partOf table2 tray):True, (on table1 obj0):True, (on table1 obj1):True, (on table1 obj2):True, (on table1 obj3):True, decision(grasp pr2R obj3):True, (grasped pr2R obj3):True, (held obj3):True, (busy pr2R):True, komo(touch pr2R obj3):True, (stable pr2R obj3):True}'}"
      ]
     },
     "execution_count": 5,
     "metadata": {},
     "output_type": "execute_result"
    }
   ],
   "source": [
    "lgp.walkToDecision(3)\n",
    "lgp.nodeInfo()\n",
    "# Using getDecisions and walkToDecision and walkToParent, you can walk to anywhere in the tree by hand"
   ]
  },
  {
   "cell_type": "code",
   "execution_count": 6,
   "metadata": {},
   "outputs": [],
   "source": [
    "lgp.viewTree()"
   ]
  },
  {
   "cell_type": "code",
   "execution_count": 7,
   "metadata": {},
   "outputs": [
    {
     "data": {
      "text/plain": [
       "{'boundsConstraints': [0.0, 0.0, 0.0, 0.0, 0.0, 0.0],\n",
       " 'boundsCost': [0.30000000000000004, 0.0, 0.0, 0.0, 0.0, 0.0],\n",
       " 'boundsFeasible': [1, 1, 1, 1, 1, 1],\n",
       " 'decision': '(place pr2R obj0 tray)',\n",
       " 'path': '(grasp pr2R obj0) (grasp pr2L obj1) (place pr2R obj0 tray) ',\n",
       " 'state': 'STATE_15(STATE_9):{(gripper pr2R):True, (initial pr2R):True, (gripper pr2L):True, (initial pr2L):True, (initial table1):True, (table table2):True, (initial table2):True, (initial table3):True, (object obj0):True, (initial obj0):True, (object obj1):True, (initial obj1):True, (object obj2):True, (initial obj2):True, (object obj3):True, (initial obj3):True, (table tray):True, (initial tray):True, (partOf table2 tray):True, (on table1 obj0):True, (on table1 obj1):True, (on table1 obj2):True, (on table1 obj3):True, (grasped pr2L obj1):True, (held obj1):True, (busy pr2L):True, (stable pr2L obj1):True, decision(place pr2R obj0 tray):True, (placed obj0 tray):True, (on obj0 tray):True, komo(touch pr2R obj0):True, (notheld obj0):True, block(INFEASIBLE grasp ANY obj0):True, komo(above obj0 tray):True, (stableOn tray obj0):True}'}"
      ]
     },
     "execution_count": 7,
     "metadata": {},
     "output_type": "execute_result"
    }
   ],
   "source": [
    "lgp.walkToNode(\"(grasp pr2R obj0) (grasp pr2L obj1) (place pr2R obj0 tray)\")\n",
    "lgp.nodeInfo()"
   ]
  },
  {
   "cell_type": "code",
   "execution_count": 9,
   "metadata": {},
   "outputs": [
    {
     "data": {
      "text/plain": [
       "{'boundsConstraints': [0.0, 0.0, 0.2916793864729323, 0.0, 0.0, 0.0],\n",
       " 'boundsCost': [0.30000000000000004, 0.0, 15.196287659379943, 0.0, 0.0, 0.0],\n",
       " 'boundsFeasible': [1, 1, 1, 1, 1, 1],\n",
       " 'decision': '(place pr2R obj0 tray)',\n",
       " 'path': '(grasp pr2R obj0) (grasp pr2L obj1) (place pr2R obj0 tray) ',\n",
       " 'state': 'STATE_15(STATE_9):{(gripper pr2R):True, (initial pr2R):True, (gripper pr2L):True, (initial pr2L):True, (initial table1):True, (table table2):True, (initial table2):True, (initial table3):True, (object obj0):True, (initial obj0):True, (object obj1):True, (initial obj1):True, (object obj2):True, (initial obj2):True, (object obj3):True, (initial obj3):True, (table tray):True, (initial tray):True, (partOf table2 tray):True, (on table1 obj0):True, (on table1 obj1):True, (on table1 obj2):True, (on table1 obj3):True, (grasped pr2L obj1):True, (held obj1):True, (busy pr2L):True, (stable pr2L obj1):True, decision(place pr2R obj0 tray):True, (placed obj0 tray):True, (on obj0 tray):True, komo(touch pr2R obj0):True, (notheld obj0):True, block(INFEASIBLE grasp ANY obj0):True, komo(above obj0 tray):True, (stableOn tray obj0):True}'}"
      ]
     },
     "execution_count": 9,
     "metadata": {},
     "output_type": "execute_result"
    }
   ],
   "source": [
    "# at a node, you can compute bounds, namely BT.seq (just key frames), BT.path (the full path),\n",
    "# and BT.setPath (also the full path, but seeded with the BT.seq result)\n",
    "lgp.optBound(ry.BT.seq, True)\n",
    "lgp.nodeInfo()"
   ]
  },
  {
   "cell_type": "code",
   "execution_count": 11,
   "metadata": {},
   "outputs": [],
   "source": [
    "komo = lgp.getKOMOforBound(ry.BT.seq)\n",
    "komo.display()"
   ]
  },
  {
   "cell_type": "code",
   "execution_count": 12,
   "metadata": {},
   "outputs": [],
   "source": [
    "komo=0"
   ]
  },
  {
   "cell_type": "code",
   "execution_count": 13,
   "metadata": {},
   "outputs": [
    {
     "data": {
      "text/plain": [
       "{'boundsConstraints': [0.0,\n",
       "  0.0,\n",
       "  0.2916793864729323,\n",
       "  0.0772998019221563,\n",
       "  0.0,\n",
       "  0.0],\n",
       " 'boundsCost': [0.30000000000000004,\n",
       "  0.0,\n",
       "  15.196287659379943,\n",
       "  2.585855291035301,\n",
       "  0.0,\n",
       "  0.0],\n",
       " 'boundsFeasible': [1, 1, 1, 1, 1, 1],\n",
       " 'decision': '(place pr2R obj0 tray)',\n",
       " 'path': '(grasp pr2R obj0) (grasp pr2L obj1) (place pr2R obj0 tray) ',\n",
       " 'state': 'STATE_15(STATE_9):{(gripper pr2R):True, (initial pr2R):True, (gripper pr2L):True, (initial pr2L):True, (initial table1):True, (table table2):True, (initial table2):True, (initial table3):True, (object obj0):True, (initial obj0):True, (object obj1):True, (initial obj1):True, (object obj2):True, (initial obj2):True, (object obj3):True, (initial obj3):True, (table tray):True, (initial tray):True, (partOf table2 tray):True, (on table1 obj0):True, (on table1 obj1):True, (on table1 obj2):True, (on table1 obj3):True, (grasped pr2L obj1):True, (held obj1):True, (busy pr2L):True, (stable pr2L obj1):True, decision(place pr2R obj0 tray):True, (placed obj0 tray):True, (on obj0 tray):True, komo(touch pr2R obj0):True, (notheld obj0):True, block(INFEASIBLE grasp ANY obj0):True, komo(above obj0 tray):True, (stableOn tray obj0):True}'}"
      ]
     },
     "execution_count": 13,
     "metadata": {},
     "output_type": "execute_result"
    }
   ],
   "source": [
    "lgp.optBound(ry.BT.path, True)\n",
    "lgp.nodeInfo()"
   ]
  },
  {
   "cell_type": "code",
   "execution_count": 14,
   "metadata": {},
   "outputs": [],
   "source": [
    "lgp.viewTree()"
   ]
  },
  {
   "cell_type": "code",
   "execution_count": 15,
   "metadata": {},
   "outputs": [
    {
     "name": "stdout",
     "output_type": "stream",
     "text": [
      "THIS RUNS A THREAD. CHECK THE CONSOLE FOR OUTPUT. THIS IS GENERATING LOTS OF FILES.\n"
     ]
    }
   ],
   "source": [
    "# finally, the full multi-bound tree search (MBTS)\n",
    "# you typically want to add termination rules, i.e., symbolic goals\n",
    "print(\"THIS RUNS A THREAD. CHECK THE CONSOLE FOR OUTPUT. THIS IS GENERATING LOTS OF FILES.\")\n",
    "lgp.addTerminalRule(\"(on obj0 tray) (on obj1 tray) (on obj2 tray)\")\n",
    "lgp.run(2)"
   ]
  },
  {
   "cell_type": "code",
   "execution_count": 16,
   "metadata": {},
   "outputs": [
    {
     "data": {
      "text/plain": [
       "0"
      ]
     },
     "execution_count": 16,
     "metadata": {},
     "output_type": "execute_result"
    }
   ],
   "source": [
    "# wait until you have some number of solutions found (repeat executing this line...)\n",
    "lgp.numSolutions()"
   ]
  },
  {
   "cell_type": "code",
   "execution_count": 18,
   "metadata": {},
   "outputs": [
    {
     "ename": "RuntimeError",
     "evalue": "../../rai/Core/array.tpp:elem:687(-2) CHECK failed: 'i>=0 && i<(int)N' range error (0>=0)",
     "output_type": "error",
     "traceback": [
      "\u001b[0;31m---------------------------------------------------------------------------\u001b[0m",
      "\u001b[0;31mRuntimeError\u001b[0m                              Traceback (most recent call last)",
      "\u001b[0;32m<ipython-input-18-28f5b64b6db2>\u001b[0m in \u001b[0;36m<module>\u001b[0;34m()\u001b[0m\n\u001b[1;32m      1\u001b[0m \u001b[0;31m# query the optimization features of the 0. solution\u001b[0m\u001b[0;34m\u001b[0m\u001b[0;34m\u001b[0m\u001b[0m\n\u001b[0;32m----> 2\u001b[0;31m \u001b[0mlgp\u001b[0m\u001b[0;34m.\u001b[0m\u001b[0mgetReport\u001b[0m\u001b[0;34m(\u001b[0m\u001b[0;36m0\u001b[0m\u001b[0;34m,\u001b[0m \u001b[0mry\u001b[0m\u001b[0;34m.\u001b[0m\u001b[0mBT\u001b[0m\u001b[0;34m.\u001b[0m\u001b[0mseqPath\u001b[0m\u001b[0;34m)\u001b[0m\u001b[0;34m\u001b[0m\u001b[0m\n\u001b[0m",
      "\u001b[0;31mRuntimeError\u001b[0m: ../../rai/Core/array.tpp:elem:687(-2) CHECK failed: 'i>=0 && i<(int)N' range error (0>=0)"
     ]
    }
   ],
   "source": [
    "# query the optimization features of the 0. solution\n",
    "lgp.getReport(0, ry.BT.seqPath)"
   ]
  },
  {
   "cell_type": "code",
   "execution_count": 19,
   "metadata": {},
   "outputs": [
    {
     "ename": "RuntimeError",
     "evalue": "../../rai/Core/array.tpp:elem:687(-2) CHECK failed: 'i>=0 && i<(int)N' range error (0>=0)",
     "output_type": "error",
     "traceback": [
      "\u001b[0;31m---------------------------------------------------------------------------\u001b[0m",
      "\u001b[0;31mRuntimeError\u001b[0m                              Traceback (most recent call last)",
      "\u001b[0;32m<ipython-input-19-1580375e06ef>\u001b[0m in \u001b[0;36m<module>\u001b[0;34m()\u001b[0m\n\u001b[1;32m      1\u001b[0m \u001b[0;31m# get the KOMO object for the seqPath computation of the 0. solution\u001b[0m\u001b[0;34m\u001b[0m\u001b[0;34m\u001b[0m\u001b[0m\n\u001b[0;32m----> 2\u001b[0;31m \u001b[0mkomo\u001b[0m \u001b[0;34m=\u001b[0m \u001b[0mlgp\u001b[0m\u001b[0;34m.\u001b[0m\u001b[0mgetKOMO\u001b[0m\u001b[0;34m(\u001b[0m\u001b[0;36m0\u001b[0m\u001b[0;34m,\u001b[0m \u001b[0mry\u001b[0m\u001b[0;34m.\u001b[0m\u001b[0mBT\u001b[0m\u001b[0;34m.\u001b[0m\u001b[0mseqPath\u001b[0m\u001b[0;34m)\u001b[0m\u001b[0;34m\u001b[0m\u001b[0m\n\u001b[0m",
      "\u001b[0;31mRuntimeError\u001b[0m: ../../rai/Core/array.tpp:elem:687(-2) CHECK failed: 'i>=0 && i<(int)N' range error (0>=0)"
     ]
    }
   ],
   "source": [
    "# get the KOMO object for the seqPath computation of the 0. solution\n",
    "komo = lgp.getKOMO(0, ry.BT.seqPath)"
   ]
  },
  {
   "cell_type": "code",
   "execution_count": 21,
   "metadata": {},
   "outputs": [],
   "source": [
    "komo.displayTrajectory() #SOOO SLOOOW (TODO: add parameter for display speed)"
   ]
  },
  {
   "cell_type": "code",
   "execution_count": 22,
   "metadata": {},
   "outputs": [],
   "source": [
    "# assign K to the 20. configuration of the 0. solution, check display\n",
    "# you can now query anything (joint state, frame state, features)\n",
    "X = komo.getConfiguration(20)\n",
    "K.setFrameState(X) "
   ]
  },
  {
   "cell_type": "code",
   "execution_count": 20,
   "metadata": {},
   "outputs": [],
   "source": [
    "lgp.stop() #stops the thread... takes a while to finish the current job"
   ]
  },
  {
   "cell_type": "code",
   "execution_count": 19,
   "metadata": {},
   "outputs": [],
   "source": [
    "lgp.run(2) #will continue where it stopped"
   ]
  },
  {
   "cell_type": "code",
   "execution_count": null,
   "metadata": {},
   "outputs": [],
   "source": [
    "komo=0\n",
    "lgp=0"
   ]
  },
  {
   "cell_type": "code",
   "execution_count": null,
   "metadata": {},
   "outputs": [],
   "source": []
  },
  {
   "cell_type": "code",
   "execution_count": 1,
   "metadata": {},
   "outputs": [],
   "source": [
    "import sys\n",
    "sys.path.append('../rai/rai/ry')\n",
    "import numpy as np\n",
    "import libry as ry\n",
    "\n",
    "C = ry.Config()\n",
    "D = C.view()\n",
    "\n",
    "C.addFile('../test/lgp-example.g');\n",
    "\n",
    "lgp = C.lgp(\"../test/fol.g\");"
   ]
  },
  {
   "cell_type": "code",
   "execution_count": null,
   "metadata": {},
   "outputs": [],
   "source": [
    "lgp.walkToNode(\"(grasp baxterR stick) (push stickTip redBall table1) (grasp baxterL redBall) \");\n",
    "print(lgp.nodeInfo())"
   ]
  },
  {
   "cell_type": "code",
   "execution_count": 3,
   "metadata": {},
   "outputs": [
    {
     "ename": "RuntimeError",
     "evalue": "objective.cpp:setCostSpecs:17(-2) CHECK_GE failed: 'toStep'=1 'fromStep'=2 -- ",
     "output_type": "error",
     "traceback": [
      "\u001b[0;31m---------------------------------------------------------------------------\u001b[0m",
      "\u001b[0;31mRuntimeError\u001b[0m                              Traceback (most recent call last)",
      "\u001b[0;32m<ipython-input-3-4531c45ab535>\u001b[0m in \u001b[0;36m<module>\u001b[0;34m()\u001b[0m\n\u001b[0;32m----> 1\u001b[0;31m \u001b[0mlgp\u001b[0m\u001b[0;34m.\u001b[0m\u001b[0moptBound\u001b[0m\u001b[0;34m(\u001b[0m\u001b[0mBT\u001b[0m\u001b[0;34m.\u001b[0m\u001b[0mpose\u001b[0m\u001b[0;34m,\u001b[0m \u001b[0;32mTrue\u001b[0m\u001b[0;34m)\u001b[0m\u001b[0;34m;\u001b[0m\u001b[0;34m\u001b[0m\u001b[0m\n\u001b[0m",
      "\u001b[0;31mRuntimeError\u001b[0m: objective.cpp:setCostSpecs:17(-2) CHECK_GE failed: 'toStep'=1 'fromStep'=2 -- "
     ]
    }
   ],
   "source": [
    "lgp.optBound(BT.pose, True);"
   ]
  },
  {
   "cell_type": "code",
   "execution_count": null,
   "metadata": {},
   "outputs": [],
   "source": [
    "komo = lgp.getKOMOforBound(BT.path)\n",
    "komo.display()\n",
    "\n",
    "input(\"Press Enter to continue...\")"
   ]
  },
  {
   "cell_type": "code",
   "execution_count": null,
   "metadata": {},
   "outputs": [],
   "source": []
  }
 ],
 "metadata": {
  "kernelspec": {
   "display_name": "Python 3",
   "language": "python",
   "name": "python3"
  },
  "language_info": {
   "codemirror_mode": {
    "name": "ipython",
    "version": 3
   },
   "file_extension": ".py",
   "mimetype": "text/x-python",
   "name": "python",
   "nbconvert_exporter": "python",
   "pygments_lexer": "ipython3",
   "version": "3.5.2"
  }
 },
 "nbformat": 4,
 "nbformat_minor": 2
}
