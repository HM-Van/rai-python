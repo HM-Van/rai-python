{
 "cells": [
  {
   "cell_type": "code",
   "execution_count": 1,
   "metadata": {},
   "outputs": [],
   "source": [
    "import sys\n",
    "sys.path.append('../ry')\n",
    "from libry import *\n",
    "from numpy import *"
   ]
  },
  {
   "cell_type": "code",
   "execution_count": 2,
   "metadata": {},
   "outputs": [],
   "source": [
    "K = Config()\n",
    "K.addFile(\"../rai-robotModels/pr2/pr2.g\")\n",
    "K.addFile(\"../models/tables.g\")\n",
    "\n",
    "K.addFrame(\"obj0\", \"table1\", \"type:ssBox size:[.1 .1 .2 .02] color:[1. 0. 0.], contact, logical={ object }, joint:rigid, Q:<t(0 0 .15)>\" )\n",
    "K.addFrame(\"obj1\", \"table1\", \"type:ssBox size:[.1 .1 .2 .02] color:[1. 0. 0.], contact, logical={ object }, joint:rigid, Q:<t(0 .2 .15)>\" )\n",
    "K.addFrame(\"obj2\", \"table1\", \"type:ssBox size:[.1 .1 .2 .02] color:[1. 0. 0.], contact, logical={ object }, joint:rigid, Q:<t(0 .4 .15)>\" )\n",
    "K.addFrame(\"obj3\", \"table1\", \"type:ssBox size:[.1 .1 .2 .02] color:[1. 0. 0.], contact, logical={ object }, joint:rigid, Q:<t(0 .6.15)>\" )\n",
    "K.addFrame(\"tray\", \"table2\", \"type:ssBox size:[.15 .15 .04 .02] color:[0. 1. 0.], logical={ table }, Q:<t(0 0 .07)>\" );\n",
    "K.addFrame(\"\", \"tray\", \"type:ssBox size:[.27 .27 .04 .02] color:[0. 1. 0.]\" )\n",
    "V = K.view()"
   ]
  },
  {
   "cell_type": "code",
   "execution_count": 3,
   "metadata": {},
   "outputs": [
    {
     "data": {
      "text/plain": [
       "{'boundsConstraints': [0.0, 0.0, 0.0, 0.0, 0.0],\n",
       " 'boundsCost': [0.0, 0.0, 0.0, 0.0, 0.0],\n",
       " 'boundsFeasible': [1, 1, 1, 1, 1],\n",
       " 'decision': '<ROOT>',\n",
       " 'path': '',\n",
       " 'state': ' STATE_0(START_STATE) {(gripper pr2R), (gripper pr2L), (table table2), (object obj0), (object obj1), (object obj2), (object obj3), (table tray), (partOf table2 tray), (on obj0 table1), (on obj1 table1), (on obj2 table1), (on obj3 table1), }'}"
      ]
     },
     "execution_count": 3,
     "metadata": {},
     "output_type": "execute_result"
    }
   ],
   "source": [
    "lgp = K.lgp(\"../models/fol-pickAndPlace.g\")\n",
    "lgp.nodeInfo()\n",
    "# this writes the initial state, which is important to check:\n",
    "# do the grippers have the gripper predicate, do all objects have the object predicate, and tables the table predicate? These need to be set using a 'logical' attribute in the g-file\n",
    "# the on predicate should automatically be generated based on the configuration"
   ]
  },
  {
   "cell_type": "code",
   "execution_count": 4,
   "metadata": {},
   "outputs": [
    {
     "data": {
      "text/plain": [
       "['(grasp pr2R obj0)',\n",
       " '(grasp pr2R obj1)',\n",
       " '(grasp pr2R obj2)',\n",
       " '(grasp pr2R obj3)',\n",
       " '(grasp pr2L obj0)',\n",
       " '(grasp pr2L obj1)',\n",
       " '(grasp pr2L obj2)',\n",
       " '(grasp pr2L obj3)']"
      ]
     },
     "execution_count": 4,
     "metadata": {},
     "output_type": "execute_result"
    }
   ],
   "source": [
    "lgp.getDecisions()\n",
    "# This is also useful to check: inspect all decisions possible in this node, which expands the node.\n",
    "# If there is no good decisions, the FOL rules are buggy"
   ]
  },
  {
   "cell_type": "code",
   "execution_count": 5,
   "metadata": {},
   "outputs": [
    {
     "data": {
      "text/plain": [
       "{'boundsConstraints': [0.0, 0.0, 0.0, 0.0, 0.0],\n",
       " 'boundsCost': [0.1, 0.0, 0.0, 0.0, 0.0],\n",
       " 'boundsFeasible': [1, 1, 1, 1, 1],\n",
       " 'decision': '(grasp pr2R obj3)',\n",
       " 'path': '(grasp pr2R obj3) ',\n",
       " 'state': ' STATE_4(STATE_0) {(gripper pr2R), (gripper pr2L), (table table2), (object obj0), (object obj1), (object obj2), (object obj3), (table tray), (partOf table2 tray), (on obj0 table1), (on obj1 table1), (on obj2 table1), (on obj3 table1),  decision(grasp pr2R obj3), (grasped pr2R obj3), (held obj3), (busy pr2R),  komo(touch pr2R obj3), (stable pr2R obj3), }'}"
      ]
     },
     "execution_count": 5,
     "metadata": {},
     "output_type": "execute_result"
    }
   ],
   "source": [
    "lgp.walkToDecision(3)\n",
    "lgp.nodeInfo()\n",
    "# Using getDecisions and walkToDecision and walkToParent, you can walk to anywhere in the tree by hand"
   ]
  },
  {
   "cell_type": "code",
   "execution_count": 6,
   "metadata": {},
   "outputs": [],
   "source": [
    "lgp.viewTree()"
   ]
  },
  {
   "cell_type": "code",
   "execution_count": 7,
   "metadata": {},
   "outputs": [
    {
     "data": {
      "text/plain": [
       "{'boundsConstraints': [0.0, 0.0, 0.0, 0.0, 0.0],\n",
       " 'boundsCost': [0.30000000000000004, 0.0, 0.0, 0.0, 0.0],\n",
       " 'boundsFeasible': [1, 1, 1, 1, 1],\n",
       " 'decision': '(place pr2R obj0 tray)',\n",
       " 'path': '(grasp pr2R obj0) (grasp pr2L obj1) (place pr2R obj0 tray) ',\n",
       " 'state': ' STATE_15(STATE_9) {(gripper pr2R), (gripper pr2L), (table table2), (object obj0), (object obj1), (object obj2), (object obj3), (table tray), (partOf table2 tray), (on obj0 table1), (on obj1 table1), (on obj2 table1), (on obj3 table1), (grasped pr2L obj1), (held obj1), (busy pr2L), (stable pr2L obj1),  decision(place pr2R obj0 tray), (placed obj0 tray), (on obj0 tray),  komo(touch pr2R obj0), (notheld obj0),  block(INFEASIBLE grasp ANY obj0),  komo(above obj0 tray), (stableOn tray obj0), }'}"
      ]
     },
     "execution_count": 7,
     "metadata": {},
     "output_type": "execute_result"
    }
   ],
   "source": [
    "lgp.walkToNode(\"(grasp pr2R obj0) (grasp pr2L obj1) (place pr2R obj0 tray)\")\n",
    "lgp.nodeInfo()"
   ]
  },
  {
   "cell_type": "code",
   "execution_count": 8,
   "metadata": {},
   "outputs": [
    {
     "data": {
      "text/plain": [
       "{'boundsConstraints': [0.0, 0.0, 0.04162188560772702, 0.0, 0.0],\n",
       " 'boundsCost': [0.30000000000000004, 0.0, 0.3156448371533603, 0.0, 0.0],\n",
       " 'boundsFeasible': [1, 1, 1, 1, 1],\n",
       " 'decision': '(place pr2R obj0 tray)',\n",
       " 'path': '(grasp pr2R obj0) (grasp pr2L obj1) (place pr2R obj0 tray) ',\n",
       " 'state': ' STATE_15(STATE_9) {(gripper pr2R), (gripper pr2L), (table table2), (object obj0), (object obj1), (object obj2), (object obj3), (table tray), (partOf table2 tray), (on obj0 table1), (on obj1 table1), (on obj2 table1), (on obj3 table1), (grasped pr2L obj1), (held obj1), (busy pr2L), (stable pr2L obj1),  decision(place pr2R obj0 tray), (placed obj0 tray), (on obj0 tray),  komo(touch pr2R obj0), (notheld obj0),  block(INFEASIBLE grasp ANY obj0),  komo(above obj0 tray), (stableOn tray obj0), }'}"
      ]
     },
     "execution_count": 8,
     "metadata": {},
     "output_type": "execute_result"
    }
   ],
   "source": [
    "# at a node, you can compute bounds, namely BT.seq (just key frames), BT.path (the full path),\n",
    "# and BT.setPath (also the full path, but seeded with the BT.seq result)\n",
    "lgp.optBound(BT.seq, True)\n",
    "lgp.nodeInfo()"
   ]
  },
  {
   "cell_type": "code",
   "execution_count": 9,
   "metadata": {},
   "outputs": [],
   "source": [
    "komo = lgp.getKOMOforBound(BT.seq)\n",
    "komo.display()"
   ]
  },
  {
   "cell_type": "code",
   "execution_count": 10,
   "metadata": {},
   "outputs": [],
   "source": [
    "komo=0"
   ]
  },
  {
   "cell_type": "code",
   "execution_count": 11,
   "metadata": {},
   "outputs": [
    {
     "data": {
      "text/plain": [
       "{'boundsConstraints': [0.0,\n",
       "  0.0,\n",
       "  0.04162188560772702,\n",
       "  0.038249342092987845,\n",
       "  0.0],\n",
       " 'boundsCost': [0.30000000000000004,\n",
       "  0.0,\n",
       "  0.3156448371533603,\n",
       "  2.3257052260359012,\n",
       "  0.0],\n",
       " 'boundsFeasible': [1, 1, 1, 1, 1],\n",
       " 'decision': '(place pr2R obj0 tray)',\n",
       " 'path': '(grasp pr2R obj0) (grasp pr2L obj1) (place pr2R obj0 tray) ',\n",
       " 'state': ' STATE_15(STATE_9) {(gripper pr2R), (gripper pr2L), (table table2), (object obj0), (object obj1), (object obj2), (object obj3), (table tray), (partOf table2 tray), (on obj0 table1), (on obj1 table1), (on obj2 table1), (on obj3 table1), (grasped pr2L obj1), (held obj1), (busy pr2L), (stable pr2L obj1),  decision(place pr2R obj0 tray), (placed obj0 tray), (on obj0 tray),  komo(touch pr2R obj0), (notheld obj0),  block(INFEASIBLE grasp ANY obj0),  komo(above obj0 tray), (stableOn tray obj0), }'}"
      ]
     },
     "execution_count": 11,
     "metadata": {},
     "output_type": "execute_result"
    }
   ],
   "source": [
    "lgp.optBound(BT.path, True)\n",
    "lgp.nodeInfo()"
   ]
  },
  {
   "cell_type": "code",
   "execution_count": 12,
   "metadata": {},
   "outputs": [],
   "source": [
    "lgp.viewTree()"
   ]
  },
  {
   "cell_type": "code",
   "execution_count": 14,
   "metadata": {},
   "outputs": [
    {
     "name": "stdout",
     "output_type": "stream",
     "text": [
      "THIS RUNS A THREAD. CHECK THE CONSOLE FOR OUTPUT. THIS IS GENERATING LOTS OF FILES.\n"
     ]
    }
   ],
   "source": [
    "# finally, the full multi-bound tree search (MBTS)\n",
    "# you typically want to add termination rules, i.e., symbolic goals\n",
    "print(\"THIS RUNS A THREAD. CHECK THE CONSOLE FOR OUTPUT. THIS IS GENERATING LOTS OF FILES.\")\n",
    "lgp.addTerminalRule(\"(on obj0 tray) (on obj1 tray) (on obj2 tray)\")\n",
    "lgp.run(2)"
   ]
  },
  {
   "cell_type": "code",
   "execution_count": 20,
   "metadata": {},
   "outputs": [
    {
     "data": {
      "text/plain": [
       "0"
      ]
     },
     "execution_count": 20,
     "metadata": {},
     "output_type": "execute_result"
    }
   ],
   "source": [
    "# wait until you have some number of solutions found (repeat executing this line...)\n",
    "lgp.numSolutions()"
   ]
  },
  {
   "cell_type": "code",
   "execution_count": 9,
   "metadata": {},
   "outputs": [
    {
     "data": {
      "text/plain": [
       "[{'description': 'qItself:ALL',\n",
       "  'scale': 0.01,\n",
       "  'sos_value': 266.48765105458034,\n",
       "  'type': 'sos'},\n",
       " {'feature': 'Transition',\n",
       "  'scale': 1.0,\n",
       "  'sos_value': 4.782265034423557,\n",
       "  'type': 'sos'},\n",
       " {'description': 'QuaternionNorms',\n",
       "  'scale': 3.0,\n",
       "  'sos_value': 2.36774550422229e-09,\n",
       "  'type': 'sos'},\n",
       " {'description': 'qItself:ALL',\n",
       "  'scale': 0.1,\n",
       "  'sos_value': 16.48785154058007,\n",
       "  'target': [-0.3171423554873642,\n",
       "   1.306948272451323,\n",
       "   0.8185236650408605,\n",
       "   0.10001259017623283,\n",
       "   0.025351267614893144,\n",
       "   0.0007581673958919039,\n",
       "   -0.17387714526922404,\n",
       "   0.7648057441364903,\n",
       "   0.3772943713787953,\n",
       "   0.5234999667115854,\n",
       "   0.3620807546943853,\n",
       "   -1.1468553431800832,\n",
       "   1.021701406866571,\n",
       "   -1.2736827819664338,\n",
       "   -2.005442867107267,\n",
       "   -1.6044356024681812,\n",
       "   1.5065867663607198,\n",
       "   -0.30886642950348514,\n",
       "   -0.5087078394307857,\n",
       "   -0.09061586961680453,\n",
       "   0.4914155842964163,\n",
       "   -0.00037388147252578343,\n",
       "   -0.016968494056924157,\n",
       "   -0.07741838836286874,\n",
       "   0.5540570235751109,\n",
       "   0.24466809222436442,\n",
       "   0.6401543003651105,\n",
       "   -0.4726047652417719,\n",
       "   0.0829989197432158,\n",
       "   0.11472485955357604,\n",
       "   0.017153953568108782,\n",
       "   0.0019942356939051894],\n",
       "  'type': 'sos'},\n",
       " {'description': 'qItself:ALL',\n",
       "  'scale': 0.1,\n",
       "  'sos_value': 23.609607380900375,\n",
       "  'target': [-0.26440592756514875,\n",
       "   1.091795566234007,\n",
       "   0.5257441202251721,\n",
       "   0.10002512162107724,\n",
       "   -0.016653642342797863,\n",
       "   -0.015540094188164277,\n",
       "   -0.9935169686089369,\n",
       "   1.5693157027641793,\n",
       "   0.412819448492545,\n",
       "   0.48990015888620314,\n",
       "   0.3016940044925034,\n",
       "   -0.9945812046036,\n",
       "   1.3072916547031457,\n",
       "   -1.9954059110746845,\n",
       "   -1.4550212108241898,\n",
       "   -1.4931142881299613,\n",
       "   1.764813003488693,\n",
       "   -0.512146623683638,\n",
       "   -0.9129963899568241,\n",
       "   -0.5094189056960537,\n",
       "   0.4835166343524276,\n",
       "   -0.0003737093527626919,\n",
       "   -0.01696840257743057,\n",
       "   -0.07741799526545359,\n",
       "   0.5540570569779436,\n",
       "   0.24466812430837792,\n",
       "   0.6401542893334452,\n",
       "   -0.4726047289460073,\n",
       "   0.07164483644840972,\n",
       "   0.03913364157403741,\n",
       "   -0.08366297040465906,\n",
       "   -0.03755248159787798,\n",
       "   0.8960782469928866,\n",
       "   0.3872405442358373,\n",
       "   0.1801286666840734,\n",
       "   -0.121004328399617,\n",
       "   0.0920217992310216,\n",
       "   0.017459594658048246,\n",
       "   0.0023922764336938873],\n",
       "  'type': 'sos'},\n",
       " {'description': 'qItself:ALL',\n",
       "  'scale': 0.1,\n",
       "  'sos_value': 19.89886786198615,\n",
       "  'target': [1.1927721513986569,\n",
       "   0.1792364614038948,\n",
       "   0.2539998300751849,\n",
       "   0.032824781760481765,\n",
       "   -0.04474142153584867,\n",
       "   -0.004287600578621562,\n",
       "   0.10003904413639868,\n",
       "   -0.006626788710515916,\n",
       "   0.008127529358406556,\n",
       "   -1.013889044466714,\n",
       "   1.0053200545514762,\n",
       "   0.4017122083442279,\n",
       "   0.4996880743398575,\n",
       "   0.5048534397516445,\n",
       "   -0.9940820409881951,\n",
       "   1.00093952557947,\n",
       "   -1.4635183454288732,\n",
       "   -2.006515889168575,\n",
       "   -1.6007579294149152,\n",
       "   1.4879113548801202,\n",
       "   -0.42362537073064865,\n",
       "   -0.5006167366686906,\n",
       "   -0.506622212793561,\n",
       "   0.513667595370342,\n",
       "   0.10234236978418458,\n",
       "   0.03913313458691826,\n",
       "   -0.0836213197045817,\n",
       "   -0.03750441422687979,\n",
       "   0.8960758498471216,\n",
       "   0.3872442905160765,\n",
       "   0.18013106523033173,\n",
       "   -0.12100684272657972,\n",
       "   0.10475614913488128,\n",
       "   0.0033236488734226586,\n",
       "   0.0048872922075446435],\n",
       "  'type': 'sos'},\n",
       " {'description': 'qItself:ALL',\n",
       "  'scale': 0.1,\n",
       "  'sos_value': 16.76241944180082,\n",
       "  'target': [1.1647257380044094,\n",
       "   -0.04063120663048075,\n",
       "   -0.22021290263906068,\n",
       "   0.03282453223636875,\n",
       "   -0.0447414388625186,\n",
       "   -0.0042876073096651405,\n",
       "   -0.04002329825653724,\n",
       "   0.0650001804822614,\n",
       "   0.01250365673703754,\n",
       "   0.10005273351206477,\n",
       "   0.009576396392785538,\n",
       "   0.012148417791040908,\n",
       "   -0.9903899397097432,\n",
       "   0.9014130659987926,\n",
       "   0.397683224344153,\n",
       "   0.5042746984600849,\n",
       "   0.5019416775712323,\n",
       "   -0.9863895451823732,\n",
       "   1.0232120509691034,\n",
       "   -1.9946895795257962,\n",
       "   -1.5573544290300787,\n",
       "   -1.507342000842808,\n",
       "   1.5975415566020885,\n",
       "   -0.5099108081621377,\n",
       "   -0.46200666369047405,\n",
       "   -0.4979275774407708,\n",
       "   0.5085717108322962,\n",
       "   0.0945798125098789,\n",
       "   0.11111081857670727,\n",
       "   0.0058872623034995335,\n",
       "   0.0006699086997229842],\n",
       "  'type': 'sos'},\n",
       " {'description': 'qItself:ALL',\n",
       "  'scale': 0.1,\n",
       "  'sos_value': 23.83771327374141,\n",
       "  'target': [-0.2912183330725008,\n",
       "   1.0829622034928412,\n",
       "   0.5397828426795501,\n",
       "   0.032824222585187884,\n",
       "   -0.04474145009569205,\n",
       "   -0.004287615861665736,\n",
       "   -0.04002339168065506,\n",
       "   0.0650006275925766,\n",
       "   0.012503653030644922,\n",
       "   0.10006614868471568,\n",
       "   0.003286610681808833,\n",
       "   -0.011679031044586485,\n",
       "   -0.9967509594136179,\n",
       "   1.6787776241086139,\n",
       "   0.39892044449845726,\n",
       "   0.4888890308277955,\n",
       "   0.17443518175649836,\n",
       "   -0.9981187195087666,\n",
       "   1.1158115612079067,\n",
       "   -2.0011548629642664,\n",
       "   -1.5797015200878541,\n",
       "   -1.489123178599071,\n",
       "   1.8291738558503796,\n",
       "   -0.4988160670786712,\n",
       "   -0.9228232418029799,\n",
       "   -0.5074122370567578,\n",
       "   0.6341217351661159,\n",
       "   0.0974263479147067,\n",
       "   -0.011737175004653877,\n",
       "   0.10641572083016888,\n",
       "   -0.07418436178920436,\n",
       "   0.852118290043834,\n",
       "   0.38432900692712674,\n",
       "   0.35382168567671335,\n",
       "   -0.03435186088676209,\n",
       "   0.0952264708537725,\n",
       "   0.018179145295115117,\n",
       "   -0.010626177996065805],\n",
       "  'type': 'sos'},\n",
       " {'description': 'qItself:ALL',\n",
       "  'scale': 0.1,\n",
       "  'sos_value': 20.014973793046853,\n",
       "  'target': [1.1242230552225625,\n",
       "   -0.11737963243033739,\n",
       "   -0.27143810349131653,\n",
       "   0.03282385722035966,\n",
       "   -0.044741454910301,\n",
       "   -0.004287626115331384,\n",
       "   -0.04002349654682673,\n",
       "   0.06500107682096237,\n",
       "   0.012503641609600387,\n",
       "   -0.06499973756192419,\n",
       "   -0.03501560434319816,\n",
       "   0.00678571134369821,\n",
       "   0.10006683644490752,\n",
       "   0.002747354093968097,\n",
       "   -0.017935543972652863,\n",
       "   -0.9933343524694668,\n",
       "   0.9060787596904399,\n",
       "   0.3992104830650374,\n",
       "   0.5079720695369777,\n",
       "   0.5137016576209708,\n",
       "   -1.0030935845541826,\n",
       "   1.0178828019109845,\n",
       "   -2.0141289897655,\n",
       "   -1.5428422169741416,\n",
       "   -1.511604104533238,\n",
       "   1.5897558129104883,\n",
       "   -0.5042875301611061,\n",
       "   -0.4545370336901286,\n",
       "   -0.504941595797489,\n",
       "   0.5122685084827409,\n",
       "   0.08849462243436594,\n",
       "   0.1039426444745685,\n",
       "   0.0075947921530481015,\n",
       "   -0.0074756836017568625],\n",
       "  'type': 'sos'},\n",
       " {'description': 'ZeroQVel-obj0',\n",
       "  'eq_sumOfAbs': 0.0007504272802507763,\n",
       "  'scale': 30.0,\n",
       "  'type': 'eq'},\n",
       " {'description': 'LinAngVel-2-obj0',\n",
       "  'eq_sumOfAbs': 4.490952995558547e-05,\n",
       "  'scale': 100.0,\n",
       "  'type': 'eq'},\n",
       " {'description': 'ZeroQVel-obj1',\n",
       "  'eq_sumOfAbs': 0.0002356441800383472,\n",
       "  'scale': 30.0,\n",
       "  'type': 'eq'},\n",
       " {'description': 'LinAngVel-2-obj1',\n",
       "  'eq_sumOfAbs': 1.314662618162981e-05,\n",
       "  'scale': 100.0,\n",
       "  'type': 'eq'},\n",
       " {'description': 'ZeroQVel-obj0',\n",
       "  'eq_sumOfAbs': 0.00015597343897737898,\n",
       "  'scale': 30.0,\n",
       "  'type': 'eq'},\n",
       " {'description': 'LinAngVel-2-obj0',\n",
       "  'eq_sumOfAbs': 7.155728560050296e-05,\n",
       "  'scale': 100.0,\n",
       "  'type': 'eq'},\n",
       " {'description': 'ZeroQVel-obj1',\n",
       "  'eq_sumOfAbs': 0.00013933496102156578,\n",
       "  'scale': 30.0,\n",
       "  'type': 'eq'},\n",
       " {'description': 'LinAngVel-2-obj1',\n",
       "  'eq_sumOfAbs': 5.207765363603998e-05,\n",
       "  'scale': 100.0,\n",
       "  'type': 'eq'},\n",
       " {'description': 'ZeroQVel-obj2',\n",
       "  'eq_sumOfAbs': 8.466044875868328e-05,\n",
       "  'scale': 30.0,\n",
       "  'type': 'eq'},\n",
       " {'description': 'LinAngVel-2-obj2',\n",
       "  'eq_sumOfAbs': 5.319505590035126e-05,\n",
       "  'scale': 100.0,\n",
       "  'type': 'eq'},\n",
       " {'description': 'ZeroQVel-obj2',\n",
       "  'eq_sumOfAbs': 4.111648958063374e-05,\n",
       "  'scale': 30.0,\n",
       "  'type': 'eq'},\n",
       " {'description': 'LinAngVel-2-obj2',\n",
       "  'eq_sumOfAbs': 2.3255350274462545e-05,\n",
       "  'scale': 100.0,\n",
       "  'type': 'eq'},\n",
       " {'eq_sumOfAbs': 2.4029066202437693e-05,\n",
       "  'feature': 'dist',\n",
       "  'o1': 'pr2R',\n",
       "  'o2': 'obj0',\n",
       "  'scale': 100.0,\n",
       "  'type': 'eq'},\n",
       " {'eq_sumOfAbs': 1.1245954550757886e-06,\n",
       "  'feature': 'dist',\n",
       "  'o1': 'pr2L',\n",
       "  'o2': 'obj1',\n",
       "  'scale': 100.0,\n",
       "  'type': 'eq'},\n",
       " {'eq_sumOfAbs': 1.5042956507841515e-05,\n",
       "  'feature': 'dist',\n",
       "  'o1': 'pr2R',\n",
       "  'o2': 'obj0',\n",
       "  'scale': 100.0,\n",
       "  'type': 'eq'},\n",
       " {'feature': 'above',\n",
       "  'o1': 'obj0',\n",
       "  'o2': 'tray',\n",
       "  'scale': 10.0,\n",
       "  'type': 'ineq'},\n",
       " {'eq_sumOfAbs': 3.433318444168512e-05,\n",
       "  'feature': 'dist',\n",
       "  'o1': 'pr2L',\n",
       "  'o2': 'obj1',\n",
       "  'scale': 100.0,\n",
       "  'type': 'eq'},\n",
       " {'feature': 'above',\n",
       "  'o1': 'obj1',\n",
       "  'o2': 'tray',\n",
       "  'scale': 10.0,\n",
       "  'type': 'ineq'},\n",
       " {'eq_sumOfAbs': 7.277140069140639e-05,\n",
       "  'feature': 'dist',\n",
       "  'o1': 'pr2L',\n",
       "  'o2': 'obj2',\n",
       "  'scale': 100.0,\n",
       "  'type': 'eq'},\n",
       " {'feature': 'above',\n",
       "  'o1': 'obj2',\n",
       "  'o2': 'tray',\n",
       "  'scale': 10.0,\n",
       "  'type': 'ineq'},\n",
       " {'eq_sumOfAbs': 0.006929322127337989,\n",
       "  'feature': 'ProxyCost',\n",
       "  'scale': 10.0,\n",
       "  'type': 'eq'}]"
      ]
     },
     "execution_count": 9,
     "metadata": {},
     "output_type": "execute_result"
    }
   ],
   "source": [
    "# query the optimization features of the 0. solution\n",
    "lgp.getReport(0, BT.seqPath)"
   ]
  },
  {
   "cell_type": "code",
   "execution_count": 22,
   "metadata": {},
   "outputs": [],
   "source": [
    "# get the KOMO object for the seqPath computation of the 0. solution\n",
    "komo = lgp.getKOMO(0, BT.seqPath)"
   ]
  },
  {
   "cell_type": "code",
   "execution_count": 23,
   "metadata": {},
   "outputs": [],
   "source": [
    "komo.displayTrajectory() #SOOO SLOOOW (TODO: add parameter for display speed)"
   ]
  },
  {
   "cell_type": "code",
   "execution_count": 14,
   "metadata": {},
   "outputs": [],
   "source": [
    "# assign K to the 20. configuration of the 0. solution, check display\n",
    "# you can now query anything (joint state, frame state, features)\n",
    "X = komo.getConfiguration(20)\n",
    "K.setFrameState(X) "
   ]
  },
  {
   "cell_type": "code",
   "execution_count": 5,
   "metadata": {},
   "outputs": [],
   "source": [
    "lgp.stop() #stops the thread... takes a while to finish the current job"
   ]
  },
  {
   "cell_type": "code",
   "execution_count": 19,
   "metadata": {},
   "outputs": [],
   "source": [
    "lgp.run(2) #will continue where it stopped"
   ]
  },
  {
   "cell_type": "code",
   "execution_count": null,
   "metadata": {},
   "outputs": [],
   "source": [
    "komo=0\n",
    "lgp=0"
   ]
  },
  {
   "cell_type": "code",
   "execution_count": null,
   "metadata": {},
   "outputs": [],
   "source": []
  }
 ],
 "metadata": {
  "kernelspec": {
   "display_name": "Python 3",
   "language": "python",
   "name": "python3"
  },
  "language_info": {
   "codemirror_mode": {
    "name": "ipython",
    "version": 3
   },
   "file_extension": ".py",
   "mimetype": "text/x-python",
   "name": "python",
   "nbconvert_exporter": "python",
   "pygments_lexer": "ipython3",
   "version": "3.5.2"
  }
 },
 "nbformat": 4,
 "nbformat_minor": 2
}
