{
 "cells": [
  {
   "cell_type": "code",
   "execution_count": 1,
   "metadata": {},
   "outputs": [],
   "source": [
    "# let's have a look at all robot models in rai-robotModels\n",
    "import sys\n",
    "sys.path.append('../ry')\n",
    "from libry import *\n",
    "from numpy import *"
   ]
  },
  {
   "cell_type": "code",
   "execution_count": 2,
   "metadata": {},
   "outputs": [],
   "source": [
    "D = 0\n",
    "K = Config()\n",
    "K.addFile('../rai-robotModels/pr2/pr2.g')\n",
    "D = K.view()"
   ]
  },
  {
   "cell_type": "code",
   "execution_count": 3,
   "metadata": {},
   "outputs": [],
   "source": [
    "D = 0\n",
    "K = Config()\n",
    "K.addFile('../rai-robotModels/panda/panda.g')\n",
    "D = K.view()"
   ]
  },
  {
   "cell_type": "code",
   "execution_count": 4,
   "metadata": {},
   "outputs": [],
   "source": [
    "D = 0\n",
    "K = Config()\n",
    "K.addFile('../rai-robotModels/baxter/baxter.g')\n",
    "D = K.view()"
   ]
  },
  {
   "cell_type": "code",
   "execution_count": 5,
   "metadata": {},
   "outputs": [],
   "source": [
    "D = 0\n",
    "K = Config()\n",
    "K.addFile('../rai-robotModels/kuka_drake/setup.g')\n",
    "D = K.view()"
   ]
  },
  {
   "cell_type": "code",
   "execution_count": 6,
   "metadata": {},
   "outputs": [],
   "source": [
    "D = 0\n",
    "K = Config()\n",
    "K.addFile('../rai-robotModels/objects/kitchen.g')\n",
    "K.addFile('../rai-robotModels/objects/shelf.g')\n",
    "K.addFile('../rai-robotModels/human_simple/human_simple.g')\n",
    "D = K.view()"
   ]
  },
  {
   "cell_type": "code",
   "execution_count": 10,
   "metadata": {},
   "outputs": [
    {
     "name": "stdout",
     "output_type": "stream",
     "text": [
      "this will fail if you haven't called 'make -C ../rai-robotModels/bremenKitchen' to wget the binary mesh files\n"
     ]
    }
   ],
   "source": [
    "D = 0\n",
    "K = Config()\n",
    "print(\"this will fail if you haven't called 'make -C ../rai-robotModels/bremenKitchen' to wget the binary mesh files\")\n",
    "K.addFile('../rai-robotModels/bremenKitchen/bremenKitchen.g')\n",
    "D = K.view()"
   ]
  },
  {
   "cell_type": "code",
   "execution_count": 11,
   "metadata": {},
   "outputs": [
    {
     "name": "stdout",
     "output_type": "stream",
     "text": [
      "press ENTER in the window to animate; edit the file externally autoupdates the window; press Q in window to escape\n"
     ]
    }
   ],
   "source": [
    "D = 0\n",
    "K = Config()\n",
    "print('press ENTER in the window to animate; edit the file externally autoupdates the window; press Q in window to escape')\n",
    "K.edit('../rai-robotModels/panda/panda.g')\n",
    "D = K.view()"
   ]
  },
  {
   "cell_type": "code",
   "execution_count": null,
   "metadata": {},
   "outputs": [],
   "source": []
  }
 ],
 "metadata": {
  "kernelspec": {
   "display_name": "Python 3",
   "language": "python",
   "name": "python3"
  },
  "language_info": {
   "codemirror_mode": {
    "name": "ipython",
    "version": 3
   },
   "file_extension": ".py",
   "mimetype": "text/x-python",
   "name": "python",
   "nbconvert_exporter": "python",
   "pygments_lexer": "ipython3",
   "version": "3.5.2"
  }
 },
 "nbformat": 4,
 "nbformat_minor": 2
}
