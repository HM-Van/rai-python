{
 "cells": [
  {
   "cell_type": "code",
   "execution_count": 1,
   "metadata": {},
   "outputs": [],
   "source": [
    "import sys\n",
    "sys.path.append('../rai/rai/ry')\n",
    "import numpy as np\n",
    "import libry as ry"
   ]
  },
  {
   "cell_type": "code",
   "execution_count": 2,
   "metadata": {},
   "outputs": [
    {
     "data": {
      "text/plain": [
       "['base',\n",
       " 'box',\n",
       " 'boxBo',\n",
       " 'boxLe',\n",
       " 'boxBa',\n",
       " 'ballR',\n",
       " 'block',\n",
       " 'target',\n",
       " 'boxBa>target']"
      ]
     },
     "execution_count": 2,
     "metadata": {},
     "output_type": "execute_result"
    }
   ],
   "source": [
    "# load and display a configuration\n",
    "C = ry.Config()\n",
    "C.addFile('../test/boxProblem.g')\n",
    "D = C.view()\n",
    "C.getFrameNames()"
   ]
  },
  {
   "cell_type": "code",
   "execution_count": 3,
   "metadata": {},
   "outputs": [],
   "source": [
    "# create a standard path optimization problem with 4 phases, each of .2 seconds, and 10 steps\n",
    "komo = C.komo_path(5., 10, .2, False)"
   ]
  },
  {
   "cell_type": "code",
   "execution_count": 4,
   "metadata": {},
   "outputs": [],
   "source": [
    "# create tau-DOFs (time intervals) in the optimization problem and add respective constraints\n",
    "komo.addTimeOptimization()"
   ]
  },
  {
   "cell_type": "code",
   "execution_count": 5,
   "metadata": {},
   "outputs": [],
   "source": [
    "# take one object, and first 'switch' it to become freely movable without costs,\n",
    "# then, starting at phase .7, make it dynamic (imposing NE equations)\n",
    "obj = 'ballR'\n",
    "#komo.addSwitch_magic(.0, 'base', obj)\n",
    "komo.makeObjectsFree([\"ballR\"]);"
   ]
  },
  {
   "cell_type": "code",
   "execution_count": 6,
   "metadata": {},
   "outputs": [],
   "source": [
    "# (old) a way to constrain the object position to be 'before' the box before phase 0.2\n",
    "#komo.addObjective(time=[0., .2], type=OT.ineq, feature=FS.position, frames=[obj], scaleTrans=[[0.,1.,0.]], target=[1.])"
   ]
  },
  {
   "cell_type": "code",
   "execution_count": 7,
   "metadata": {},
   "outputs": [],
   "source": [
    "# objectives for collision (permanent) and target (at phase-time 4.)\n",
    "komo.addObjective(type=ry.OT.sos, feature=ry.FS.accumulatedCollisions)\n",
    "komo.addObjective(time=[5.], type=ry.OT.eq, feature=ry.FS.distance, frames=['target', obj], scale=[3e1])"
   ]
  },
  {
   "cell_type": "code",
   "execution_count": 8,
   "metadata": {},
   "outputs": [],
   "source": [
    "# simple structure of this solution: bounce on the bottom of the box at times 1, 2, and 3\n",
    "komo.addSwitch_dynamicTrans(1., -1., 'base', obj)\n",
    "komo.addInteraction_elasticBounce(2., \"boxBo\", obj, .8)\n",
    "komo.addInteraction_elasticBounce(3., \"boxBo\", obj, .8)\n",
    "komo.addInteraction_elasticBounce(4., \"boxBo\", obj, .8)"
   ]
  },
  {
   "cell_type": "code",
   "execution_count": 9,
   "metadata": {},
   "outputs": [
    {
     "ename": "RuntimeError",
     "evalue": "frame.cpp:ensure_X:123(-2) CHECK failed: '_state_X_isGood' ",
     "output_type": "error",
     "traceback": [
      "\u001b[0;31m---------------------------------------------------------------------------\u001b[0m",
      "\u001b[0;31mRuntimeError\u001b[0m                              Traceback (most recent call last)",
      "\u001b[0;32m<ipython-input-9-3c52a463c5df>\u001b[0m in \u001b[0;36m<module>\u001b[0;34m()\u001b[0m\n\u001b[0;32m----> 1\u001b[0;31m \u001b[0mkomo\u001b[0m\u001b[0;34m.\u001b[0m\u001b[0moptimize\u001b[0m\u001b[0;34m(\u001b[0m\u001b[0;32mTrue\u001b[0m\u001b[0;34m)\u001b[0m\u001b[0;34m\u001b[0m\u001b[0;34m\u001b[0m\u001b[0m\n\u001b[0m",
      "\u001b[0;31mRuntimeError\u001b[0m: frame.cpp:ensure_X:123(-2) CHECK failed: '_state_X_isGood' "
     ]
    }
   ],
   "source": [
    "komo.optimize(True)"
   ]
  },
  {
   "cell_type": "code",
   "execution_count": 12,
   "metadata": {},
   "outputs": [],
   "source": [
    "komoView = komo.view()"
   ]
  },
  {
   "cell_type": "code",
   "execution_count": 13,
   "metadata": {},
   "outputs": [],
   "source": [
    "komo.display()"
   ]
  },
  {
   "cell_type": "code",
   "execution_count": 14,
   "metadata": {},
   "outputs": [
    {
     "data": {
      "text/plain": [
       "[{'at': 19,\n",
       "  'force': [-2.2352977408443163e-09, 0.11789843163332533, -0.3860869361065004],\n",
       "  'from': 'boxBo',\n",
       "  'poa': [0.3314275866134213, -1.2715301345286307, 0.6483042753292537],\n",
       "  'to': 'ballR'},\n",
       " {'at': 29,\n",
       "  'force': [-8.190696335792792e-08,\n",
       "   9.121055796959313e-07,\n",
       "   -0.3436376897835519],\n",
       "  'from': 'boxBo',\n",
       "  'poa': [0.2448618044745193, -0.2777773442664518, 0.6499978386269324],\n",
       "  'to': 'ballR'},\n",
       " {'at': 39,\n",
       "  'force': [-2.140383693503435e-08,\n",
       "   7.371444240614352e-07,\n",
       "   -0.28949680972963204],\n",
       "  'from': 'boxBo',\n",
       "  'poa': [0.17050896376521768, 0.5762642788557996, 0.6500023007228017],\n",
       "  'to': 'ballR'}]"
      ]
     },
     "execution_count": 14,
     "metadata": {},
     "output_type": "execute_result"
    }
   ],
   "source": [
    "# read out solution: the full frame path, the tau path (time optimization), list of interaction forces\n",
    "obj_path = komo.getPathFrames([obj])\n",
    "tau_path = komo.getPathTau()\n",
    "forces = komo.getForceInteractions()\n",
    "forces"
   ]
  },
  {
   "cell_type": "markdown",
   "metadata": {},
   "source": [
    "Conversion from steps to phase and time:\n",
    "```\n",
    "phase=0 is the FIXED initial configuration and corresponds to step=-1\n",
    "step=0 is the first configuration s.t. optimization\n",
    "\\tau(s) gives the time between step s-1 and step s\n",
    "phase(step s) = (s+1)/stepsPerPhase\n",
    "time(step s) = sum i=0:s tau(i)\n",
    "```"
   ]
  },
  {
   "cell_type": "code",
   "execution_count": 15,
   "metadata": {},
   "outputs": [],
   "source": [
    "D=0\n",
    "komoView=0\n",
    "komo=0\n",
    "C=0"
   ]
  },
  {
   "cell_type": "code",
   "execution_count": null,
   "metadata": {},
   "outputs": [],
   "source": []
  }
 ],
 "metadata": {
  "kernelspec": {
   "display_name": "Python 3",
   "language": "python",
   "name": "python3"
  },
  "language_info": {
   "codemirror_mode": {
    "name": "ipython",
    "version": 3
   },
   "file_extension": ".py",
   "mimetype": "text/x-python",
   "name": "python",
   "nbconvert_exporter": "python",
   "pygments_lexer": "ipython3",
   "version": "3.6.8"
  }
 },
 "nbformat": 4,
 "nbformat_minor": 2
}
