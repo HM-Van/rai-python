{
 "cells": [
  {
   "cell_type": "markdown",
   "metadata": {},
   "source": [
    "# Path Optimization (KOMO)\n",
    "\n"
   ]
  },
  {
   "cell_type": "markdown",
   "metadata": {},
   "source": [
    "## Demo of features in Inverse Kinematics\n",
    "\n",
    "Let's setup a standard configuration. (Lock the window with \"Always on Top\".)"
   ]
  },
  {
   "cell_type": "code",
   "execution_count": 1,
   "metadata": {},
   "outputs": [],
   "source": [
    "import sys\n",
<<<<<<< HEAD
    "sys.path.append('../ry')\n",
    "\n",
    "from libry import *\n",
    "from numpy import *\n",
    "\n",
    "K = Config()\n",
    "D = K.view()\n",
    "K.addFile('../rai-robotModels/pr2/pr2.g')\n",
    "K.addFile('../test/kitchen.g')"
=======
    "sys.path.append('../build')\n",
    "import numpy as np\n",
    "import libry as ry\n",
    "\n",
    "C = ry.Config()\n",
    "D = C.view()\n",
    "C.addFile('../rai-robotModels/pr2/pr2.g')\n",
    "C.addFile('../test/kitchen.g')"
>>>>>>> upstream/master
   ]
  },
  {
   "cell_type": "markdown",
   "metadata": {},
   "source": [
    "Let's add some objects"
   ]
  },
  {
   "cell_type": "code",
   "execution_count": 2,
   "metadata": {},
   "outputs": [
    {
     "data": {
      "text/plain": [
<<<<<<< HEAD
       "180"
=======
       "<libry.Frame at 0x7fe7464aad18>"
>>>>>>> upstream/master
      ]
     },
     "execution_count": 2,
     "metadata": {},
     "output_type": "execute_result"
    }
   ],
   "source": [
<<<<<<< HEAD
    "K.addFrame('item1', 'sink1', 'type:ssBox Q:<t(-.1 -.1 .52)> size:[.1 .1 .25 .02] color:[1. 0. 0.], contact' )\n",
    "K.addFrame('item2', 'sink1', 'type:ssBox Q:<t(.1 .1 .52)> size:[.1 .1 .25 .02] color:[1. 1. 0.], contact' )\n",
    "K.addFrame('tray', 'stove1', 'type:ssBox Q:<t(.0 .0 .42)> size:[.2 .2 .05 .02] color:[0. 1. 0.], contact' )"
=======
    "C.addObject(name='item1', parent='sink1', shape=ry.ST.ssBox, pos=[-.1, -.1, .52], size=[.1, .1, .25, .02], color=[1., 0., 0.])\n",
    "C.addObject('item2', 'sink1', ry.ST.ssBox, [.1, .1, .25, .02], [1., 1., 0.], [.1, .1, .52])\n",
    "C.addObject('tray', 'stove1', ry.ST.ssBox, [.2, .2, .05, .02], [0., 1., 0.], [.0, .0, .42])"
>>>>>>> upstream/master
   ]
  },
  {
   "cell_type": "markdown",
   "metadata": {},
   "source": [
    "compute a collision free path to touch object item1 with pr2L:"
   ]
  },
  {
   "cell_type": "code",
   "execution_count": 3,
   "metadata": {},
   "outputs": [
    {
     "data": {
      "text/plain": [
<<<<<<< HEAD
       "[{'description': 'QuaternionNorms', 'sos_value': 0.0, 'type': 'sos'},\n",
       " {'feature': 'Transition', 'sos_value': 3.1548225930515295, 'type': 'sos'},\n",
       " {'eq_sumOfAbs': 0.00022084378362776172, 'feature': 'ProxyCost', 'type': 'eq'},\n",
       " {'feature': 'LimitsConstraint', 'type': 'ineq'},\n",
       " {'eq_sumOfAbs': 0.0010835191783960564,\n",
       "  'feature': 'dist',\n",
       "  'o1': 'pr2R',\n",
       "  'o2': 'item1',\n",
       "  'type': 'eq'},\n",
       " {'feature': 'posDiff',\n",
       "  'o1': 'endeffWorkspace',\n",
       "  'o2': 'item1',\n",
       "  'sos_value': 0.5625589126906487,\n",
       "  'type': 'sos'},\n",
       " {'description': 'qItself:ALL',\n",
       "  'eq_sumOfAbs': 0.001475273949729114,\n",
       "  'type': 'eq'}]"
=======
       "[{'x_dim': 500, 'T': 20, 'k_order': 2, 'tau': 0.5, 'useSwift': True},\n",
       " {'order': 0.0,\n",
       "  'type': 'eq',\n",
       "  'feature': 'QuaternionNorms',\n",
       "  'vars': [1, 1, 1, 1, 1, 1, 1, 1, 1, 1, 1, 1, 1, 1, 1, 1, 1, 1, 1, 1],\n",
       "  'eq_sumOfAbs': 0.0},\n",
       " {'order': 2.0,\n",
       "  'type': 'sos',\n",
       "  'feature': 'qItself#46',\n",
       "  'vars': [1, 1, 1, 1, 1, 1, 1, 1, 1, 1, 1, 1, 1, 1, 1, 1, 1, 1, 1, 1],\n",
       "  'sos_sumOfSqr': 6.409665161412653},\n",
       " {'order': 0.0,\n",
       "  'type': 'sos',\n",
       "  'feature': 'qItself#46',\n",
       "  'vars': [1, 1, 1, 1, 1, 1, 1, 1, 1, 1, 1, 1, 1, 1, 1, 1, 1, 1, 1, 1],\n",
       "  'sos_sumOfSqr': 0.001021876683872976},\n",
       " {'order': 0.0,\n",
       "  'type': 'eq',\n",
       "  'feature': 'ProxyCost',\n",
       "  'vars': [1, 1, 1, 1, 1, 1, 1, 1, 1, 1, 1, 1, 1, 1, 1, 1, 1, 1, 1, 1],\n",
       "  'eq_sumOfAbs': 0.0},\n",
       " {'order': 0.0,\n",
       "  'type': 'ineq',\n",
       "  'feature': 'qLimits',\n",
       "  'vars': [1, 1, 1, 1, 1, 1, 1, 1, 1, 1, 1, 1, 1, 1, 1, 1, 1, 1, 1, 1],\n",
       "  'inEq_sumOfPos': 0.3481930780352092},\n",
       " {'order': 0.0,\n",
       "  'type': 'eq',\n",
       "  'feature': 'PairCollision-pr2R-item1',\n",
       "  'vars': [0, 0, 0, 0, 0, 0, 0, 0, 0, 0, 0, 0, 0, 0, 0, 0, 0, 0, 0, 1],\n",
       "  'eq_sumOfAbs': 0.03638992329622094},\n",
       " {'order': 0.0,\n",
       "  'type': 'sos',\n",
       "  'feature': 'Default-0-posDiff-endeffWorkspace-item1',\n",
       "  'vars': [0, 0, 0, 0, 0, 0, 0, 0, 0, 0, 0, 0, 0, 0, 0, 0, 0, 1, 1, 1],\n",
       "  'sos_sumOfSqr': 0.7212991172267551},\n",
       " {'order': 1.0,\n",
       "  'type': 'eq',\n",
       "  'feature': 'qItself-ALL',\n",
       "  'vars': [0, 0, 0, 0, 0, 0, 0, 0, 0, 0, 0, 0, 0, 0, 0, 0, 0, 0, 0, 1],\n",
       "  'eq_sumOfAbs': 0.03354445615064222}]"
>>>>>>> upstream/master
      ]
     },
     "execution_count": 3,
     "metadata": {},
     "output_type": "execute_result"
    }
   ],
   "source": [
<<<<<<< HEAD
    "X0 = K.getFrameState()\n",
=======
    "X0 = C.getFrameState()\n",
>>>>>>> upstream/master
    "\n",
    "obj1 = \"item1\";\n",
    "arm = \"pr2R\";\n",
    "\n",
<<<<<<< HEAD
    "komo = K.komo_path(1.,20, 10.);\n",
    "\n",
    "komo.addObjective([], OT.sos, FS.transAccelerations, [], [1.]);\n",
    "komo.addObjective([], OT.eq, FS.accumulatedCollisions);\n",
    "komo.addObjective([], OT.ineq, FS.jointLimits);\n",
    "komo.addObjective([1.], OT.eq, FS.distance, [arm, obj1]);\n",
    "komo.addObjective([.9,1.], OT.sos, FS.positionDiff, [\"endeffWorkspace\", obj1], [1e0]);\n",
    "komo.addObjective(time=[1.], type=OT.eq, feature=FS.qItself, order=1);\n",
    "\n",
    "komo.optimize();\n",
=======
    "komo = C.komo_path(1.,20, 10., True);\n",
    "\n",
    "komo.addObjective([], ry.FS.accumulatedCollisions, [], ry.OT.eq);\n",
    "komo.addObjective([], ry.FS.jointLimits, [], ry.OT.ineq);\n",
    "komo.addObjective([1.], ry.FS.distance, [arm, obj1], ry.OT.eq, [1e2]);\n",
    "komo.addObjective([.9,1.], ry.FS.positionDiff, [\"endeffWorkspace\", obj1], ry.OT.sos, [1e0]);\n",
    "komo.addObjective(time=[1.], feature=ry.FS.qItself, type=ry.OT.eq, order=1);\n",
    "\n",
    "komo.optimize(True)\n",
>>>>>>> upstream/master
    "komo.getReport()"
   ]
  },
  {
   "cell_type": "code",
<<<<<<< HEAD
   "execution_count": 4,
   "metadata": {},
   "outputs": [],
   "source": [
    "komo.displayTrajectory()"
=======
   "execution_count": 5,
   "metadata": {},
   "outputs": [],
   "source": [
    "#komo.displayTrajectory()\n",
    "V = komo.view()"
   ]
  },
  {
   "cell_type": "code",
   "execution_count": 6,
   "metadata": {},
   "outputs": [],
   "source": [
    "V=0"
>>>>>>> upstream/master
   ]
  },
  {
   "cell_type": "markdown",
   "metadata": {},
   "source": [
<<<<<<< HEAD
    "Best way to read out: grab a configuration into K and analyze it there:"
=======
    "Best way to read out: grab a configuration into K and analyze it here:"
>>>>>>> upstream/master
   ]
  },
  {
   "cell_type": "code",
<<<<<<< HEAD
   "execution_count": 5,
=======
   "execution_count": 7,
>>>>>>> upstream/master
   "metadata": {},
   "outputs": [
    {
     "data": {
      "text/plain": [
<<<<<<< HEAD
       "array([-0.75705433,  1.2092785 ,  0.7422905 ,  0.10001675,  0.00238006,\n",
       "       -0.00234903,  0.01862283,  1.14758456,  0.39312896,  0.39070544,\n",
       "        0.41016126, -1.13796193,  0.93417891, -1.38239522, -2.04966149,\n",
       "       -1.62043956,  1.50198354, -0.37057198, -0.49028672, -0.50052527,\n",
       "        0.50073802,  0.09748649,  0.09623575,  0.00963027,  0.00973904])"
      ]
     },
     "execution_count": 5,
=======
       "array([-0.50090023,  0.90329872,  1.81616592,  0.10001433,  0.00235007,\n",
       "       -0.00229488, -0.3344213 ,  1.00220512,  0.39371048,  0.25781461,\n",
       "        0.50156163, -0.95573083,  1.00604442, -0.7676919 , -1.92485412,\n",
       "       -1.72243683,  1.49740078, -0.28967774, -0.49316179, -0.50055609,\n",
       "        0.50192907,  0.09686037,  0.09520579,  0.01223921,  0.00356277])"
      ]
     },
     "execution_count": 7,
>>>>>>> upstream/master
     "metadata": {},
     "output_type": "execute_result"
    }
   ],
   "source": [
<<<<<<< HEAD
    "K.setFrameState( komo.getConfiguration(19) )\n",
    "K.getJointState()"
=======
    "C.setFrameState( komo.getConfiguration(19) )\n",
    "C.getJointState()"
>>>>>>> upstream/master
   ]
  },
  {
   "cell_type": "code",
   "execution_count": null,
   "metadata": {},
   "outputs": [],
   "source": []
  }
 ],
 "metadata": {
  "kernelspec": {
   "display_name": "Python 3",
   "language": "python",
   "name": "python3"
  },
  "language_info": {
   "codemirror_mode": {
    "name": "ipython",
    "version": 3
   },
   "file_extension": ".py",
   "mimetype": "text/x-python",
   "name": "python",
   "nbconvert_exporter": "python",
   "pygments_lexer": "ipython3",
<<<<<<< HEAD
   "version": "3.5.2"
=======
   "version": "3.6.9"
>>>>>>> upstream/master
  }
 },
 "nbformat": 4,
 "nbformat_minor": 2
}
