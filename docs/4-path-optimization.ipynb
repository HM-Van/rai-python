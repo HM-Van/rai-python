{
 "cells": [
  {
   "cell_type": "markdown",
   "metadata": {},
   "source": [
    "# Path Optimization (KOMO)\n",
    "\n"
   ]
  },
  {
   "cell_type": "markdown",
   "metadata": {},
   "source": [
    "## Demo of features in Inverse Kinematics\n",
    "\n",
    "Let's setup a standard configuration. (Lock the window with \"Always on Top\".)"
   ]
  },
  {
   "cell_type": "code",
   "execution_count": 1,
   "metadata": {},
   "outputs": [],
   "source": [
    "import sys\n",
    "sys.path.append('../rai/rai/ry')\n",
    "import numpy as np\n",
    "import libry as ry\n",
    "\n",
    "C = ry.Config()\n",
    "D = C.view()\n",
    "C.addFile('../rai-robotModels/pr2/pr2.g')\n",
    "C.addFile('../test/kitchen.g')"
   ]
  },
  {
   "cell_type": "markdown",
   "metadata": {},
   "source": [
    "Let's add some objects"
   ]
  },
  {
   "cell_type": "code",
   "execution_count": 2,
   "metadata": {},
   "outputs": [
    {
     "data": {
      "text/plain": [
       "<libry.Frame at 0x7fd7f0177180>"
      ]
     },
     "execution_count": 2,
     "metadata": {},
     "output_type": "execute_result"
    }
   ],
   "source": [
    "C.addObject(name='item1', parent='sink1', shape=ry.ST.ssBox, pos=[-.1, -.1, .52], size=[.1, .1, .25, .02], color=[1., 0., 0.])\n",
    "C.addObject('item2', 'sink1', ry.ST.ssBox, [.1, .1, .25, .02], [1., 1., 0.], [.1, .1, .52])\n",
    "C.addObject('tray', 'stove1', ry.ST.ssBox, [.2, .2, .05, .02], [0., 1., 0.], [.0, .0, .42])"
   ]
  },
  {
   "cell_type": "markdown",
   "metadata": {},
   "source": [
    "compute a collision free path to touch object item1 with pr2L:"
   ]
  },
  {
   "cell_type": "code",
   "execution_count": 5,
   "metadata": {},
   "outputs": [
    {
     "data": {
      "text/plain": [
       "[{'T': 20, 'k_order': 2, 'tau': 0.5, 'useSwift': True, 'x_dim': 500},\n",
       " {'eq_sumOfAbs': 0.0,\n",
       "  'feature': 'QuaternionNorms',\n",
       "  'order': 0.0,\n",
       "  'type': 'eq',\n",
       "  'vars': [0,\n",
       "   1,\n",
       "   2,\n",
       "   3,\n",
       "   4,\n",
       "   5,\n",
       "   6,\n",
       "   7,\n",
       "   8,\n",
       "   9,\n",
       "   10,\n",
       "   11,\n",
       "   12,\n",
       "   13,\n",
       "   14,\n",
       "   15,\n",
       "   16,\n",
       "   17,\n",
       "   18,\n",
       "   19]},\n",
       " {'feature': 'qItself#46',\n",
       "  'order': 2.0,\n",
       "  'sos_sumOfSqr': 3.28865832570419,\n",
       "  'type': 'sos',\n",
       "  'vars': [-2,\n",
       "   -1,\n",
       "   0,\n",
       "   -1,\n",
       "   0,\n",
       "   1,\n",
       "   0,\n",
       "   1,\n",
       "   2,\n",
       "   1,\n",
       "   2,\n",
       "   3,\n",
       "   2,\n",
       "   3,\n",
       "   4,\n",
       "   3,\n",
       "   4,\n",
       "   5,\n",
       "   4,\n",
       "   5,\n",
       "   6,\n",
       "   5,\n",
       "   6,\n",
       "   7,\n",
       "   6,\n",
       "   7,\n",
       "   8,\n",
       "   7,\n",
       "   8,\n",
       "   9,\n",
       "   8,\n",
       "   9,\n",
       "   10,\n",
       "   9,\n",
       "   10,\n",
       "   11,\n",
       "   10,\n",
       "   11,\n",
       "   12,\n",
       "   11,\n",
       "   12,\n",
       "   13,\n",
       "   12,\n",
       "   13,\n",
       "   14,\n",
       "   13,\n",
       "   14,\n",
       "   15,\n",
       "   14,\n",
       "   15,\n",
       "   16,\n",
       "   15,\n",
       "   16,\n",
       "   17,\n",
       "   16,\n",
       "   17,\n",
       "   18,\n",
       "   17,\n",
       "   18,\n",
       "   19]},\n",
       " {'feature': 'qItself#46',\n",
       "  'order': 0.0,\n",
       "  'sos_sumOfSqr': 0.0014628717782264968,\n",
       "  'type': 'sos',\n",
       "  'vars': [0,\n",
       "   1,\n",
       "   2,\n",
       "   3,\n",
       "   4,\n",
       "   5,\n",
       "   6,\n",
       "   7,\n",
       "   8,\n",
       "   9,\n",
       "   10,\n",
       "   11,\n",
       "   12,\n",
       "   13,\n",
       "   14,\n",
       "   15,\n",
       "   16,\n",
       "   17,\n",
       "   18,\n",
       "   19]},\n",
       " {'eq_sumOfAbs': 0.00532661209298139,\n",
       "  'feature': 'ProxyCost',\n",
       "  'order': 0.0,\n",
       "  'type': 'eq',\n",
       "  'vars': [0,\n",
       "   1,\n",
       "   2,\n",
       "   3,\n",
       "   4,\n",
       "   5,\n",
       "   6,\n",
       "   7,\n",
       "   8,\n",
       "   9,\n",
       "   10,\n",
       "   11,\n",
       "   12,\n",
       "   13,\n",
       "   14,\n",
       "   15,\n",
       "   16,\n",
       "   17,\n",
       "   18,\n",
       "   19]},\n",
       " {'feature': 'qLimits',\n",
       "  'inEq_sumOfPos': 0.004958406718994819,\n",
       "  'order': 0.0,\n",
       "  'type': 'ineq',\n",
       "  'vars': [0,\n",
       "   1,\n",
       "   2,\n",
       "   3,\n",
       "   4,\n",
       "   5,\n",
       "   6,\n",
       "   7,\n",
       "   8,\n",
       "   9,\n",
       "   10,\n",
       "   11,\n",
       "   12,\n",
       "   13,\n",
       "   14,\n",
       "   15,\n",
       "   16,\n",
       "   17,\n",
       "   18,\n",
       "   19]},\n",
       " {'eq_sumOfAbs': 0.008423513549450992,\n",
       "  'feature': 'PairCollision-pr2R-item1',\n",
       "  'order': 0.0,\n",
       "  'type': 'eq',\n",
       "  'vars': [19]},\n",
       " {'feature': 'Default-0-posDiff-endeffWorkspace-item1',\n",
       "  'order': 0.0,\n",
       "  'sos_sumOfSqr': 0.37727146680777623,\n",
       "  'type': 'sos',\n",
       "  'vars': [17, 18, 19]},\n",
       " {'eq_sumOfAbs': 0.0269476393279737,\n",
       "  'feature': 'qItself-ALL',\n",
       "  'order': 1.0,\n",
       "  'type': 'eq',\n",
       "  'vars': [18, 19]}]"
      ]
     },
     "execution_count": 5,
     "metadata": {},
     "output_type": "execute_result"
    }
   ],
   "source": [
    "X0 = C.getFrameState()\n",
    "\n",
    "obj1 = \"item1\";\n",
    "arm = \"pr2R\";\n",
    "\n",
    "komo = C.komo_path(1.,20, 10., True);\n",
    "\n",
    "komo.addObjective([], ry.FS.accumulatedCollisions, [], ry.OT.eq);\n",
    "komo.addObjective([], ry.FS.jointLimits, [], ry.OT.ineq);\n",
    "komo.addObjective([1.], ry.FS.distance, [arm, obj1], ry.OT.eq, [1e2]);\n",
    "komo.addObjective([.9,1.], ry.FS.positionDiff, [\"endeffWorkspace\", obj1], ry.OT.sos, [1e0]);\n",
    "komo.addObjective(time=[1.], feature=ry.FS.qItself, type=ry.OT.eq, order=1);\n",
    "\n",
    "komo.optimize(True)\n",
    "komo.getReport()"
   ]
  },
  {
   "cell_type": "code",
   "execution_count": 6,
   "metadata": {},
   "outputs": [],
   "source": [
    "#komo.displayTrajectory()\n",
    "V = komo.view()"
   ]
  },
  {
   "cell_type": "code",
   "execution_count": 7,
   "metadata": {},
   "outputs": [],
   "source": [
    "V=0"
   ]
  },
  {
   "cell_type": "markdown",
   "metadata": {},
   "source": [
    "Best way to read out: grab a configuration into K and analyze it here:"
   ]
  },
  {
   "cell_type": "code",
   "execution_count": 8,
   "metadata": {},
   "outputs": [
    {
     "data": {
      "text/plain": [
       "array([ -7.95562272e-01,   1.23398912e+00,   8.32779808e-01,\n",
       "         1.00016836e-01,   2.36624285e-03,  -2.31452391e-03,\n",
       "        -1.49359907e-01,   1.07704137e+00,   3.93484145e-01,\n",
       "         4.24093382e-01,   4.38068685e-01,  -1.13917829e+00,\n",
       "         9.62714940e-01,  -1.46110749e+00,  -1.92419633e+00,\n",
       "        -1.58945187e+00,   1.48269104e+00,  -3.96581679e-01,\n",
       "        -4.97705963e-01,  -4.98973320e-01,   5.02709725e-01,\n",
       "         9.70785412e-02,   9.56113833e-02,   8.79690954e-03,\n",
       "         1.35361554e-03])"
      ]
     },
     "execution_count": 8,
     "metadata": {},
     "output_type": "execute_result"
    }
   ],
   "source": [
    "C.setFrameState( komo.getConfiguration(19) )\n",
    "C.getJointState()"
   ]
  },
  {
   "cell_type": "code",
   "execution_count": null,
   "metadata": {},
   "outputs": [],
   "source": []
  }
 ],
 "metadata": {
  "kernelspec": {
   "display_name": "Python 3",
   "language": "python",
   "name": "python3"
  },
  "language_info": {
   "codemirror_mode": {
    "name": "ipython",
    "version": 3
   },
   "file_extension": ".py",
   "mimetype": "text/x-python",
   "name": "python",
   "nbconvert_exporter": "python",
   "pygments_lexer": "ipython3",
   "version": "3.6.9"
  }
 },
 "nbformat": 4,
 "nbformat_minor": 2
}
