{
 "cells": [
  {
   "cell_type": "markdown",
   "metadata": {},
   "source": [
    "# Path Optimization (KOMO)\n",
    "\n"
   ]
  },
  {
   "cell_type": "markdown",
   "metadata": {},
   "source": [
    "## Demo of features in Inverse Kinematics\n",
    "\n",
    "Let's setup a standard configuration. (Lock the window with \"Always on Top\".)"
   ]
  },
  {
   "cell_type": "code",
   "execution_count": 11,
   "metadata": {},
   "outputs": [],
   "source": [
    "import sys\n",
    "sys.path.append('../ry')\n",
    "\n",
    "from libry import *\n",
    "from numpy import *\n",
    "\n",
    "K = Config()\n",
    "D = K.view()\n",
    "K.addFile('../rai-robotModels/pr2/pr2.g')\n",
    "K.addFile('../test/kitchen.g')"
   ]
  },
  {
   "cell_type": "markdown",
   "metadata": {},
   "source": [
    "Let's add some objects"
   ]
  },
  {
   "cell_type": "code",
   "execution_count": 12,
   "metadata": {},
   "outputs": [
    {
     "data": {
      "text/plain": [
       "180"
      ]
     },
     "execution_count": 12,
     "metadata": {},
     "output_type": "execute_result"
    }
   ],
   "source": [
    "K.addFrame('item1', 'sink1', 'type:ssBox Q:<t(-.1 -.1 .52)> size:[.1 .1 .25 .02] color:[1. 0. 0.], contact' )\n",
    "K.addFrame('item2', 'sink1', 'type:ssBox Q:<t(.1 .1 .52)> size:[.1 .1 .25 .02] color:[1. 1. 0.], contact' )\n",
    "K.addFrame('tray', 'stove1', 'type:ssBox Q:<t(.0 .0 .42)> size:[.2 .2 .05 .02] color:[0. 1. 0.], contact' )"
   ]
  },
  {
   "cell_type": "markdown",
   "metadata": {},
   "source": [
    "compute a collision free path to touch object item1 with pr2L:"
   ]
  },
  {
   "cell_type": "code",
   "execution_count": 13,
   "metadata": {},
   "outputs": [
    {
     "data": {
      "text/plain": [
       "[{'description': 'QuaternionNorms',\n",
       "  'scale': 3.0,\n",
       "  'sos_value': 0.0,\n",
       "  'type': 'sos'},\n",
       " {'feature': 'Transition',\n",
       "  'scale': 1.0,\n",
       "  'sos_value': 3.0593313505751785,\n",
       "  'type': 'sos'},\n",
       " {'eq_sumOfAbs': 0.00042029314323483585,\n",
       "  'feature': 'ProxyCost',\n",
       "  'scale': 10.0,\n",
       "  'type': 'eq'},\n",
       " {'feature': 'LimitsConstraint', 'scale': 10.0, 'type': 'ineq'},\n",
       " {'eq_sumOfAbs': 0.00040969596546812717,\n",
       "  'feature': 'dist',\n",
       "  'o1': 'pr2R',\n",
       "  'o2': 'item1',\n",
       "  'scale': 10.0,\n",
       "  'type': 'eq'},\n",
       " {'feature': 'posDiff',\n",
       "  'o1': 'endeffWorkspace',\n",
       "  'o2': 'item1',\n",
       "  'scale': 1.0,\n",
       "  'sos_value': 0.6426025156465107,\n",
       "  'type': 'sos'},\n",
       " {'description': 'qItself:ALL',\n",
       "  'eq_sumOfAbs': 9.122597785435642e-05,\n",
       "  'scale': 10.0,\n",
       "  'type': 'eq'}]"
      ]
     },
     "execution_count": 13,
     "metadata": {},
     "output_type": "execute_result"
    }
   ],
   "source": [
    "X0 = K.getFrameState()\n",
    "\n",
    "obj1 = \"item1\";\n",
    "arm = \"pr2R\";\n",
    "\n",
    "komo = K.komo_path(1.,20, 10.);\n",
    "\n",
    "komo.addObjective([], OT.sos, FS.transAccelerations, [], [1.]);\n",
    "komo.addObjective([], OT.eq, FS.accumulatedCollisions);\n",
    "komo.addObjective([], OT.ineq, FS.jointLimits);\n",
    "komo.addObjective([1.], OT.eq, FS.distance, [arm, obj1]);\n",
    "komo.addObjective([.9,1.], OT.sos, FS.positionDiff, [\"endeffWorkspace\", obj1], [1e0]);\n",
    "komo.addObjective(time=[1.], type=OT.eq, feature=FS.qItself, order=1);\n",
    "\n",
    "komo.optimize();\n",
    "komo.getReport()"
   ]
  },
  {
   "cell_type": "code",
   "execution_count": 14,
   "metadata": {},
   "outputs": [],
   "source": [
    "komo.displayTrajectory()"
   ]
  },
  {
   "cell_type": "markdown",
   "metadata": {},
   "source": [
    "Best way to read out: grab a configuration into K and analyze it there:"
   ]
  },
  {
   "cell_type": "code",
   "execution_count": 15,
   "metadata": {},
   "outputs": [
    {
     "data": {
      "text/plain": [
       "array([ -7.46815020e-01,   1.18067584e+00,   7.37281796e-01,\n",
       "         1.00015531e-01,   1.15179950e-02,  -1.86515405e-03,\n",
       "         8.70999919e-02,   1.11135186e+00,   4.04075476e-01,\n",
       "         3.65561341e-01,   4.39681565e-01,  -1.13113753e+00,\n",
       "         9.69076810e-01,  -1.29384851e+00,  -2.07203134e+00,\n",
       "        -1.62550439e+00,   1.49280035e+00,  -3.49121680e-01,\n",
       "        -5.01574139e-01,  -5.00591174e-01,   4.99136975e-01,\n",
       "         9.80375095e-02,   9.91238948e-02,   6.41002095e-03,\n",
       "         2.01424421e-02])"
      ]
     },
     "execution_count": 15,
     "metadata": {},
     "output_type": "execute_result"
    }
   ],
   "source": [
    "K.setFrameState( komo.getConfiguration(19) )\n",
    "K.getJointState()"
   ]
  },
  {
   "cell_type": "code",
   "execution_count": null,
   "metadata": {},
   "outputs": [],
   "source": []
  }
 ],
 "metadata": {
  "kernelspec": {
   "display_name": "Python 3",
   "language": "python",
   "name": "python3"
  },
  "language_info": {
   "codemirror_mode": {
    "name": "ipython",
    "version": 3
   },
   "file_extension": ".py",
   "mimetype": "text/x-python",
   "name": "python",
   "nbconvert_exporter": "python",
   "pygments_lexer": "ipython3",
   "version": "3.5.2"
  }
 },
 "nbformat": 4,
 "nbformat_minor": 2
}
