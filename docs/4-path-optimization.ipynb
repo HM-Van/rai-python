{
 "cells": [
  {
   "cell_type": "markdown",
   "metadata": {},
   "source": [
    "# Path Optimization (KOMO)\n",
    "\n"
   ]
  },
  {
   "cell_type": "markdown",
   "metadata": {},
   "source": [
    "## Demo of features in Inverse Kinematics\n",
    "\n",
    "Let's setup a standard configuration. (Lock the window with \"Always on Top\".)"
   ]
  },
  {
   "cell_type": "code",
   "execution_count": 1,
   "metadata": {},
   "outputs": [],
   "source": [
    "import sys\n",
    "sys.path.append('../ry')\n",
    "\n",
    "from libry import *\n",
    "from numpy import *\n",
    "\n",
    "K = Config()\n",
    "D = K.view()\n",
    "K.addFile('../rai-robotModels/pr2/pr2.g')\n",
    "K.addFile('../test/kitchen.g')"
   ]
  },
  {
   "cell_type": "markdown",
   "metadata": {},
   "source": [
    "Let's add some objects"
   ]
  },
  {
   "cell_type": "code",
   "execution_count": 2,
   "metadata": {},
   "outputs": [
    {
     "data": {
      "text/plain": [
       "180"
      ]
     },
     "execution_count": 2,
     "metadata": {},
     "output_type": "execute_result"
    }
   ],
   "source": [
    "K.addFrame('item1', 'sink1', 'type:ssBox Q:<t(-.1 -.1 .52)> size:[.1 .1 .25 .02] color:[1. 0. 0.], contact' )\n",
    "K.addFrame('item2', 'sink1', 'type:ssBox Q:<t(.1 .1 .52)> size:[.1 .1 .25 .02] color:[1. 1. 0.], contact' )\n",
    "K.addFrame('tray', 'stove1', 'type:ssBox Q:<t(.0 .0 .42)> size:[.2 .2 .05 .02] color:[0. 1. 0.], contact' )"
   ]
  },
  {
   "cell_type": "markdown",
   "metadata": {},
   "source": [
    "compute a collision free path to touch object item1 with pr2L:"
   ]
  },
  {
   "cell_type": "code",
   "execution_count": 3,
   "metadata": {},
   "outputs": [
    {
     "data": {
      "text/plain": [
       "[{'description': 'QuaternionNorms', 'sos_value': 0.0, 'type': 'sos'},\n",
       " {'feature': 'Transition', 'sos_value': 3.1548225930515295, 'type': 'sos'},\n",
       " {'eq_sumOfAbs': 0.00022084378362776172, 'feature': 'ProxyCost', 'type': 'eq'},\n",
       " {'feature': 'LimitsConstraint', 'type': 'ineq'},\n",
       " {'eq_sumOfAbs': 0.0010835191783960564,\n",
       "  'feature': 'dist',\n",
       "  'o1': 'pr2R',\n",
       "  'o2': 'item1',\n",
       "  'type': 'eq'},\n",
       " {'feature': 'posDiff',\n",
       "  'o1': 'endeffWorkspace',\n",
       "  'o2': 'item1',\n",
       "  'sos_value': 0.5625589126906487,\n",
       "  'type': 'sos'},\n",
       " {'description': 'qItself:ALL',\n",
       "  'eq_sumOfAbs': 0.001475273949729114,\n",
       "  'type': 'eq'}]"
      ]
     },
     "execution_count": 3,
     "metadata": {},
     "output_type": "execute_result"
    }
   ],
   "source": [
    "X0 = K.getFrameState()\n",
    "\n",
    "obj1 = \"item1\";\n",
    "arm = \"pr2R\";\n",
    "\n",
    "komo = K.komo_path(1.,20, 10.);\n",
    "\n",
    "komo.addObjective([], OT.sos, FS.transAccelerations, [], [1.]);\n",
    "komo.addObjective([], OT.eq, FS.accumulatedCollisions);\n",
    "komo.addObjective([], OT.ineq, FS.jointLimits);\n",
    "komo.addObjective([1.], OT.eq, FS.distance, [arm, obj1]);\n",
    "komo.addObjective([.9,1.], OT.sos, FS.positionDiff, [\"endeffWorkspace\", obj1], [1e0]);\n",
    "komo.addObjective(time=[1.], type=OT.eq, feature=FS.qItself, order=1);\n",
    "\n",
    "komo.optimize();\n",
    "komo.getReport()"
   ]
  },
  {
   "cell_type": "code",
   "execution_count": 4,
   "metadata": {},
   "outputs": [],
   "source": [
    "komo.displayTrajectory()"
   ]
  },
  {
   "cell_type": "markdown",
   "metadata": {},
   "source": [
    "Best way to read out: grab a configuration into K and analyze it there:"
   ]
  },
  {
   "cell_type": "code",
   "execution_count": 5,
   "metadata": {},
   "outputs": [
    {
     "data": {
      "text/plain": [
       "array([-0.75705433,  1.2092785 ,  0.7422905 ,  0.10001675,  0.00238006,\n",
       "       -0.00234903,  0.01862283,  1.14758456,  0.39312896,  0.39070544,\n",
       "        0.41016126, -1.13796193,  0.93417891, -1.38239522, -2.04966149,\n",
       "       -1.62043956,  1.50198354, -0.37057198, -0.49028672, -0.50052527,\n",
       "        0.50073802,  0.09748649,  0.09623575,  0.00963027,  0.00973904])"
      ]
     },
     "execution_count": 5,
     "metadata": {},
     "output_type": "execute_result"
    }
   ],
   "source": [
    "K.setFrameState( komo.getConfiguration(19) )\n",
    "K.getJointState()"
   ]
  },
  {
   "cell_type": "code",
   "execution_count": null,
   "metadata": {},
   "outputs": [],
   "source": []
  }
 ],
 "metadata": {
  "kernelspec": {
   "display_name": "Python 3",
   "language": "python",
   "name": "python3"
  },
  "language_info": {
   "codemirror_mode": {
    "name": "ipython",
    "version": 3
   },
   "file_extension": ".py",
   "mimetype": "text/x-python",
   "name": "python",
   "nbconvert_exporter": "python",
   "pygments_lexer": "ipython3",
   "version": "3.5.2"
  }
 },
 "nbformat": 4,
 "nbformat_minor": 2
}
